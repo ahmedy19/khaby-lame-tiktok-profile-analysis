{
 "cells": [
  {
   "cell_type": "code",
   "execution_count": 1,
   "metadata": {},
   "outputs": [],
   "source": [
    "# Import required packages\n",
    "\n",
    "import pandas as pd\n",
    "import matplotlib.pyplot as plt\n",
    "import plotly.express as px\n",
    "import plotly.graph_objects as go\n"
   ]
  },
  {
   "cell_type": "code",
   "execution_count": 2,
   "metadata": {},
   "outputs": [],
   "source": [
    "# Load datasets\n",
    "\n",
    "path = r'datasets/khaby_lame_profile_data.csv'\n",
    "df = pd.read_csv(path, low_memory=False)\n"
   ]
  },
  {
   "cell_type": "code",
   "execution_count": 3,
   "metadata": {},
   "outputs": [
    {
     "data": {
      "text/html": [
       "<div>\n",
       "<style scoped>\n",
       "    .dataframe tbody tr th:only-of-type {\n",
       "        vertical-align: middle;\n",
       "    }\n",
       "\n",
       "    .dataframe tbody tr th {\n",
       "        vertical-align: top;\n",
       "    }\n",
       "\n",
       "    .dataframe thead th {\n",
       "        text-align: right;\n",
       "    }\n",
       "</style>\n",
       "<table border=\"1\" class=\"dataframe\">\n",
       "  <thead>\n",
       "    <tr style=\"text-align: right;\">\n",
       "      <th></th>\n",
       "      <th>views</th>\n",
       "      <th>comments</th>\n",
       "      <th>shares</th>\n",
       "      <th>likes</th>\n",
       "      <th>duration</th>\n",
       "      <th>captions</th>\n",
       "      <th>hashtags</th>\n",
       "      <th>created_at</th>\n",
       "    </tr>\n",
       "  </thead>\n",
       "  <tbody>\n",
       "    <tr>\n",
       "      <th>301</th>\n",
       "      <td>35,100,000</td>\n",
       "      <td>43</td>\n",
       "      <td>4٫431</td>\n",
       "      <td>2,700,000</td>\n",
       "      <td>5</td>\n",
       "      <td>#foryoupage #comic</td>\n",
       "      <td>foryoupage, comic</td>\n",
       "      <td>4/10/2021</td>\n",
       "    </tr>\n",
       "    <tr>\n",
       "      <th>286</th>\n",
       "      <td>37,300,000</td>\n",
       "      <td>22٫2</td>\n",
       "      <td>37٫8</td>\n",
       "      <td>3,600,000</td>\n",
       "      <td>28</td>\n",
       "      <td>Why?!😭😭#LearnWithTikTok #LearnFromKhabi #Impar...</td>\n",
       "      <td>learnwithtiktok, learnfromkhabi, imparacontiktok</td>\n",
       "      <td>4/28/2021</td>\n",
       "    </tr>\n",
       "    <tr>\n",
       "      <th>911</th>\n",
       "      <td>195٫9</td>\n",
       "      <td>127</td>\n",
       "      <td>964</td>\n",
       "      <td>30٫4</td>\n",
       "      <td>8</td>\n",
       "      <td>#greenscreen #foryoupage #foryou</td>\n",
       "      <td>greenscreen, foryoupage, foryou</td>\n",
       "      <td>6/15/2020</td>\n",
       "    </tr>\n",
       "    <tr>\n",
       "      <th>57</th>\n",
       "      <td>38,300,000</td>\n",
       "      <td>23٫6</td>\n",
       "      <td>7٫881</td>\n",
       "      <td>3,300,000</td>\n",
       "      <td>31</td>\n",
       "      <td>Rule n.1 NEVER PISS OFF YOUR MOM! R.I.P. Khaby...</td>\n",
       "      <td>mum, dontlearnfromkhaby</td>\n",
       "      <td>1/19/2023</td>\n",
       "    </tr>\n",
       "    <tr>\n",
       "      <th>206</th>\n",
       "      <td>44,600,000</td>\n",
       "      <td>38٫3</td>\n",
       "      <td>30</td>\n",
       "      <td>5,800,000</td>\n",
       "      <td>33</td>\n",
       "      <td>🤦🏿#learnfromkhaby #learnwithtiktok #imparacont...</td>\n",
       "      <td>learnfromkhaby, learnwithtiktok, imparacontiktok</td>\n",
       "      <td>9/21/2021</td>\n",
       "    </tr>\n",
       "    <tr>\n",
       "      <th>841</th>\n",
       "      <td>409٫5</td>\n",
       "      <td>101</td>\n",
       "      <td>151</td>\n",
       "      <td>60٫9</td>\n",
       "      <td>14</td>\n",
       "      <td>NaN</td>\n",
       "      <td>NaN</td>\n",
       "      <td>7/12/2020</td>\n",
       "    </tr>\n",
       "    <tr>\n",
       "      <th>901</th>\n",
       "      <td>141٫3</td>\n",
       "      <td>128</td>\n",
       "      <td>867</td>\n",
       "      <td>22</td>\n",
       "      <td>9</td>\n",
       "      <td>#foryoupage #foryou #viral #duetto</td>\n",
       "      <td>foryoupage, foryou, viral, duetto</td>\n",
       "      <td>6/18/2020</td>\n",
       "    </tr>\n",
       "    <tr>\n",
       "      <th>1057</th>\n",
       "      <td>350٫6</td>\n",
       "      <td>138</td>\n",
       "      <td>521</td>\n",
       "      <td>37٫3</td>\n",
       "      <td>15</td>\n",
       "      <td>#comedy #coronavirus #scuola#pandemia</td>\n",
       "      <td>comedy, coronavirus, scuola, pandemia</td>\n",
       "      <td>3/30/2020</td>\n",
       "    </tr>\n",
       "    <tr>\n",
       "      <th>943</th>\n",
       "      <td>822٫8</td>\n",
       "      <td>2٫717</td>\n",
       "      <td>1٫778</td>\n",
       "      <td>101٫9</td>\n",
       "      <td>12</td>\n",
       "      <td>Commentate con ( no al razzismo) se vi va #gre...</td>\n",
       "      <td>greenscreen, foryoupage, foryou, america, geor...</td>\n",
       "      <td>6/3/2020</td>\n",
       "    </tr>\n",
       "    <tr>\n",
       "      <th>824</th>\n",
       "      <td>142٫6</td>\n",
       "      <td>442</td>\n",
       "      <td>342</td>\n",
       "      <td>20٫5</td>\n",
       "      <td>10</td>\n",
       "      <td>La persona dopo la @ è tuo padre #foryoupage #...</td>\n",
       "      <td>foryoupage, foryou, comic, ironia</td>\n",
       "      <td>7/20/2020</td>\n",
       "    </tr>\n",
       "  </tbody>\n",
       "</table>\n",
       "</div>"
      ],
      "text/plain": [
       "           views comments shares      likes  duration  \\\n",
       "301   35,100,000       43  4٫431  2,700,000         5   \n",
       "286   37,300,000     22٫2   37٫8  3,600,000        28   \n",
       "911        195٫9      127    964       30٫4         8   \n",
       "57    38,300,000     23٫6  7٫881  3,300,000        31   \n",
       "206   44,600,000     38٫3     30  5,800,000        33   \n",
       "841        409٫5      101    151       60٫9        14   \n",
       "901        141٫3      128    867         22         9   \n",
       "1057       350٫6      138    521       37٫3        15   \n",
       "943        822٫8    2٫717  1٫778      101٫9        12   \n",
       "824        142٫6      442    342       20٫5        10   \n",
       "\n",
       "                                               captions  \\\n",
       "301                                  #foryoupage #comic   \n",
       "286   Why?!😭😭#LearnWithTikTok #LearnFromKhabi #Impar...   \n",
       "911                    #greenscreen #foryoupage #foryou   \n",
       "57    Rule n.1 NEVER PISS OFF YOUR MOM! R.I.P. Khaby...   \n",
       "206   🤦🏿#learnfromkhaby #learnwithtiktok #imparacont...   \n",
       "841                                                 NaN   \n",
       "901                  #foryoupage #foryou #viral #duetto   \n",
       "1057              #comedy #coronavirus #scuola#pandemia   \n",
       "943   Commentate con ( no al razzismo) se vi va #gre...   \n",
       "824   La persona dopo la @ è tuo padre #foryoupage #...   \n",
       "\n",
       "                                               hashtags created_at  \n",
       "301                                   foryoupage, comic  4/10/2021  \n",
       "286    learnwithtiktok, learnfromkhabi, imparacontiktok  4/28/2021  \n",
       "911                     greenscreen, foryoupage, foryou  6/15/2020  \n",
       "57                              mum, dontlearnfromkhaby  1/19/2023  \n",
       "206    learnfromkhaby, learnwithtiktok, imparacontiktok  9/21/2021  \n",
       "841                                                 NaN  7/12/2020  \n",
       "901                   foryoupage, foryou, viral, duetto  6/18/2020  \n",
       "1057              comedy, coronavirus, scuola, pandemia  3/30/2020  \n",
       "943   greenscreen, foryoupage, foryou, america, geor...   6/3/2020  \n",
       "824                   foryoupage, foryou, comic, ironia  7/20/2020  "
      ]
     },
     "execution_count": 3,
     "metadata": {},
     "output_type": "execute_result"
    }
   ],
   "source": [
    "# Check a sample of the dataset\n",
    "\n",
    "df.sample(10)\n"
   ]
  },
  {
   "cell_type": "code",
   "execution_count": 4,
   "metadata": {},
   "outputs": [
    {
     "data": {
      "text/plain": [
       "(1078, 8)"
      ]
     },
     "execution_count": 4,
     "metadata": {},
     "output_type": "execute_result"
    }
   ],
   "source": [
    "# Check the number of rows and columns (rows, columns)\n",
    "df.shape\n"
   ]
  },
  {
   "cell_type": "code",
   "execution_count": 5,
   "metadata": {},
   "outputs": [
    {
     "name": "stdout",
     "output_type": "stream",
     "text": [
      "<class 'pandas.core.frame.DataFrame'>\n",
      "RangeIndex: 1078 entries, 0 to 1077\n",
      "Data columns (total 8 columns):\n",
      " #   Column      Non-Null Count  Dtype \n",
      "---  ------      --------------  ----- \n",
      " 0   views       1078 non-null   object\n",
      " 1   comments    1078 non-null   object\n",
      " 2   shares      1078 non-null   object\n",
      " 3   likes       1078 non-null   object\n",
      " 4   duration    1078 non-null   int64 \n",
      " 5   captions    972 non-null    object\n",
      " 6   hashtags    953 non-null    object\n",
      " 7   created_at  1078 non-null   object\n",
      "dtypes: int64(1), object(7)\n",
      "memory usage: 67.5+ KB\n"
     ]
    }
   ],
   "source": [
    "# Get a concise summary information about dataset\n",
    "df.info()"
   ]
  },
  {
   "cell_type": "code",
   "execution_count": 6,
   "metadata": {},
   "outputs": [
    {
     "data": {
      "text/plain": [
       "views         object\n",
       "comments      object\n",
       "shares        object\n",
       "likes         object\n",
       "duration       int64\n",
       "captions      object\n",
       "hashtags      object\n",
       "created_at    object\n",
       "dtype: object"
      ]
     },
     "execution_count": 6,
     "metadata": {},
     "output_type": "execute_result"
    }
   ],
   "source": [
    "# Check the dataset data types\n",
    "df.dtypes\n"
   ]
  },
  {
   "cell_type": "code",
   "execution_count": 7,
   "metadata": {},
   "outputs": [
    {
     "data": {
      "text/plain": [
       "views           0\n",
       "comments        0\n",
       "shares          0\n",
       "likes           0\n",
       "duration        0\n",
       "captions      106\n",
       "hashtags      125\n",
       "created_at      0\n",
       "dtype: int64"
      ]
     },
     "execution_count": 7,
     "metadata": {},
     "output_type": "execute_result"
    }
   ],
   "source": [
    "# Check if there are null values in the dataset\n",
    "df.isnull().sum()\n"
   ]
  },
  {
   "cell_type": "code",
   "execution_count": 8,
   "metadata": {},
   "outputs": [],
   "source": [
    "# Change the `created_at` data type to datetime\n",
    "df['created_at'] = pd.to_datetime(df['created_at'], format='%m/%d/%Y')\n"
   ]
  },
  {
   "cell_type": "code",
   "execution_count": 9,
   "metadata": {},
   "outputs": [],
   "source": [
    "# Extract the day, month and year\n",
    "\n",
    "df['created_day'] = df['created_at'].dt.strftime('%A')\n",
    "df['created_month'] = df['created_at'].dt.strftime('%B')\n",
    "df['created_year'] = df['created_at'].dt.strftime('%Y')\n"
   ]
  },
  {
   "cell_type": "code",
   "execution_count": 10,
   "metadata": {},
   "outputs": [],
   "source": [
    "# Cleaning views\n",
    "\n",
    "df['views'] = df[\"views\"].str.replace('٫', '')\n",
    "df['views'] = df[\"views\"].str.replace(',', '')\n"
   ]
  },
  {
   "cell_type": "code",
   "execution_count": 11,
   "metadata": {},
   "outputs": [],
   "source": [
    "df['views'] = df['views'].astype(int)\n"
   ]
  },
  {
   "cell_type": "code",
   "execution_count": 12,
   "metadata": {},
   "outputs": [
    {
     "data": {
      "text/plain": [
       "comments\n",
       "138      9\n",
       "127      8\n",
       "73       7\n",
       "74       7\n",
       "85       6\n",
       "        ..\n",
       "258٫8    1\n",
       "77٫8     1\n",
       "9٫558    1\n",
       "26       1\n",
       "89٫6     1\n",
       "Name: count, Length: 713, dtype: int64"
      ]
     },
     "execution_count": 12,
     "metadata": {},
     "output_type": "execute_result"
    }
   ],
   "source": [
    "df['comments'].value_counts()\n"
   ]
  },
  {
   "cell_type": "code",
   "execution_count": 13,
   "metadata": {},
   "outputs": [
    {
     "data": {
      "text/plain": [
       "array(['5٫006', '7٫425', '5٫734', '6٫839', '11٫4', '6٫393', '5٫527',\n",
       "       '13٫5', '7٫843', '74', '10٫4', '43٫3', '6٫195', '37٫9', '17٫3',\n",
       "       '15', '5٫05', '9٫927', '11٫2', '29٫3', '8٫951', '12٫1', '14٫3',\n",
       "       '4٫823', '15٫5', '16٫7', '89٫5', '15٫2', '63', '9٫48', '2٫403',\n",
       "       '16٫2', '11٫9', '16٫6', '9٫713', '16٫9', '17٫7', '14٫1', '12٫3',\n",
       "       '3٫792', '13٫2', '12', '43٫9', '18٫7', '13٫6', '4٫666', '7٫471',\n",
       "       '10٫5', '4٫704', '23', '20٫7', '8٫739', '5٫712', '22٫4', '23٫6',\n",
       "       '24٫4', '9٫845', '22٫9', '27٫6', '89٫8', '14٫4', '21٫9', '22٫1',\n",
       "       '38٫3', '86٫9', '43٫4', '26٫4', '5٫365', '7٫787', '7٫811', '7٫874',\n",
       "       '36٫8', '15٫7', '33٫9', '23٫4', '16٫5', '15٫8', '9٫04', '71٫2',\n",
       "       '21٫1', '16', '25٫5', '54٫4', '14', '26٫8', '28٫2', '53٫6', '14٫2',\n",
       "       '25٫4', '24٫6', '8٫773', '31٫4', '38٫7', '23٫5', '35٫1', '127',\n",
       "       '84٫5', '53٫4', '28٫5', '19', '27٫7', '112٫7', '12٫9', '41٫7',\n",
       "       '21٫7', '40٫8', '27٫1', '52', '45٫9', '14٫7', '24٫9', '14٫9',\n",
       "       '95٫1', '28٫3', '8٫82', '12٫6', '20٫2', '30٫5', '8٫485', '21٫4',\n",
       "       '61٫8', '50', '15٫6', '62٫7', '25٫7', '16٫4', '21٫2', '50٫9',\n",
       "       '43٫5', '19٫2', '20٫1', '20٫5', '37٫1', '12٫8', '12٫4', '22٫8',\n",
       "       '33٫2', '8٫025', '10٫3', '28٫7', '24٫1', '65٫7', '25٫6', '9٫652',\n",
       "       '73٫1', '31٫3', '9٫996', '41٫6', '10٫8', '12٫7', '21', '11٫8',\n",
       "       '17٫5', '35٫6', '21٫5', '35٫4', '9٫7', '36٫1', '9٫846', '13٫7',\n",
       "       '32٫9', '29٫5', '162٫3', '34٫5', '41٫9', '16٫8', '34', '36',\n",
       "       '35٫8', '36٫2', '42٫8', '27٫4', '24٫5', '44٫5', '39٫1', '28٫6',\n",
       "       '24٫2', '49', '41٫8', '25٫8', '23٫3', '43٫6', '83', '44', '184٫9',\n",
       "       '159٫1', '59٫9', '144٫5', '172٫1', '140٫8', '172٫5', '70٫1',\n",
       "       '35٫5', '143', '30', '96٫1', '57٫8', '82٫8', '83٫2', '39', '544٫5',\n",
       "       '72٫6', '85٫2', '55٫3', '315٫8', '94٫6', '29٫4', '31٫1', '104',\n",
       "       '61٫7', '45٫5', '24٫8', '55٫9', '207٫9', '36٫9', '48٫8', '30٫2',\n",
       "       '34٫2', '23٫7', '52٫5', '55٫1', '53٫2', '40٫9', '56٫5', '108٫9',\n",
       "       '248٫5', '7٫006', '16٫3', '51٫3', '37٫4', '191٫5', '52٫4', '49٫7',\n",
       "       '32٫2', '56٫2', '17', '65٫9', '74٫9', '73', '22٫2', '146٫3',\n",
       "       '29٫6', '60٫8', '105٫6', '28٫8', '80٫9', '46٫7', '138٫6', '63٫9',\n",
       "       '383٫9', '258٫8', '77٫8', '43', '9٫558', '26', '5٫776', '271٫7',\n",
       "       '91٫8', '3٫672', '30٫9', '6٫491', '4٫413', '254', '4٫622', '1٫596',\n",
       "       '50٫7', '1٫109', '649', '1٫573', '942', '2٫611', '3٫148', '2٫166',\n",
       "       '1٫897', '4٫927', '6٫047', '1٫203', '3٫3', '4٫079', '5٫255',\n",
       "       '5٫549', '1٫942', '772', '3٫955', '811', '0', '46٫5', '967', '722',\n",
       "       '344', '316', '309', '531', '495', '288', '1٫786', '1٫156', '350',\n",
       "       '170', '13٫8', '6٫967', '3٫649', '543', '193', '1٫266', '3٫164',\n",
       "       '2٫673', '1٫023', '300', '203', '3٫62', '426', '397', '1٫197',\n",
       "       '622', '688', '9٫396', '235', '371', '427', '263', '151', '154',\n",
       "       '716', '1٫127', '230', '138', '115', '273', '259', '603', '611',\n",
       "       '880', '164', '112', '780', '1٫756', '206', '322', '1٫066', '123',\n",
       "       '1٫243', '702', '76', '116', '227', '3٫457', '216', '475', '881',\n",
       "       '410', '415', '629', '2٫046', '832', '92', '1٫892', '226', '162',\n",
       "       '175', '158', '189', '69', '999', '77', '97', '87', '1٫546', '169',\n",
       "       '214', '383', '122', '236', '292', '85', '134', '118', '388',\n",
       "       '147', '102', '317', '610', '308', '1٫462', '607', '538', '139',\n",
       "       '494', '114', '476', '342', '157', '2٫222', '852', '109', '86',\n",
       "       '111', '100', '160', '198', '1٫154', '555', '826', '208', '187',\n",
       "       '80', '418', '108', '204', '124', '150', '117', '281', '93', '283',\n",
       "       '338', '141', '265', '314', '275', '196', '213', '405', '195',\n",
       "       '959', '233', '289', '491', '1٫702', '1٫836', '1٫461', '804',\n",
       "       '302', '129', '386', '132', '1٫133', '2٫118', '305', '368', '128',\n",
       "       '423', '363', '211', '249', '199', '155', '177', '707', '450',\n",
       "       '183', '200', '221', '552', '72', '244', '131', '943', '255',\n",
       "       '107', '253', '64', '375', '167', '628', '237', '137', '60', '67',\n",
       "       '171', '168', '3٫252', '481', '145', '432', '62', '142', '1٫009',\n",
       "       '343', '393', '908', '414', '190', '2٫1', '1٫653', '307', '224',\n",
       "       '188', '140', '1٫721', '205', '266', '174', '161', '159', '136',\n",
       "       '706', '125', '340', '3٫059', '488', '103', '144', '55', '110',\n",
       "       '389', '81', '166', '222', '367', '439', '149', '88', '247',\n",
       "       '1٫734', '106', '1٫116', '361', '180', '613', '261', '75', '232',\n",
       "       '101', '229', '192', '329', '126', '202', '467', '296', '239',\n",
       "       '1٫518', '398', '574', '223', '687', '270', '440', '379', '594',\n",
       "       '573', '355', '991', '209', '245', '756', '542', '119', '277',\n",
       "       '1٫236', '315', '82', '680', '3٫24', '346', '326', '248', '181',\n",
       "       '241', '424', '1٫827', '1٫436', '392', '823', '480', '547',\n",
       "       '1٫389', '351', '1٫275', '47', '4٫606', '297', '857', '148', '713',\n",
       "       '335', '258', '425', '173', '269', '6٫472', '1٫797', '2٫874', '78',\n",
       "       '710', '234', '984', '310', '146', '473', '435', '61', '184',\n",
       "       '3٫348', '79', '391', '225', '674', '2٫429', '448', '553', '565',\n",
       "       '630', '365', '438', '280', '461', '422', '582', '2٫496', '2٫923',\n",
       "       '1٫515', '1٫486', '482', '356', '904', '443', '2٫028', '377',\n",
       "       '156', '172', '548', '840', '320', '882', '66', '764', '442',\n",
       "       '477', '313', '441', '1٫251', '530', '1٫413', '545', '90', '2٫494',\n",
       "       '1٫72', '91', '210', '152', '53', '96', '712', '746', '1٫652',\n",
       "       '1٫772', '1٫473', '240', '1٫235', '820', '558', '665', '1٫179',\n",
       "       '306', '693', '341', '185', '1٫513', '228', '345', '179', '1٫14',\n",
       "       '42', '873', '197', '485', '121', '373', '593', '2٫717', '98',\n",
       "       '84', '411', '295', '566', '57', '401', '744', '369', '331',\n",
       "       '2٫233', '51', '486', '99', '113', '1٫401', '48', '65', '71',\n",
       "       '751', '572', '651', '95', '89', '218', '899', '287', '387', '332',\n",
       "       '1٫439', '178', '451', '354', '760', '238', '1٫209', '556', '777',\n",
       "       '1٫32', '3٫152', '89٫6'], dtype=object)"
      ]
     },
     "execution_count": 13,
     "metadata": {},
     "output_type": "execute_result"
    }
   ],
   "source": [
    "df['comments'].unique()"
   ]
  },
  {
   "cell_type": "code",
   "execution_count": 14,
   "metadata": {},
   "outputs": [
    {
     "data": {
      "text/plain": [
       "713"
      ]
     },
     "execution_count": 14,
     "metadata": {},
     "output_type": "execute_result"
    }
   ],
   "source": [
    "# Check the number of unique values of comments\n",
    "\n",
    "df['comments'].nunique()\n"
   ]
  },
  {
   "cell_type": "code",
   "execution_count": 15,
   "metadata": {},
   "outputs": [],
   "source": [
    "# Cleaning comments\n",
    "\n",
    "df['comments'] = df[\"comments\"].str.replace('٫', '')"
   ]
  },
  {
   "cell_type": "code",
   "execution_count": 16,
   "metadata": {},
   "outputs": [],
   "source": [
    "df['comments'] = df.comments.astype(int)"
   ]
  },
  {
   "cell_type": "code",
   "execution_count": 17,
   "metadata": {},
   "outputs": [
    {
     "data": {
      "text/plain": [
       "shares\n",
       "195      5\n",
       "154      5\n",
       "417      4\n",
       "223      4\n",
       "13٫9     4\n",
       "        ..\n",
       "102٫7    1\n",
       "552      1\n",
       "1٫54     1\n",
       "1٫188    1\n",
       "13٫4     1\n",
       "Name: count, Length: 882, dtype: int64"
      ]
     },
     "execution_count": 17,
     "metadata": {},
     "output_type": "execute_result"
    }
   ],
   "source": [
    "df['shares'].value_counts()\n"
   ]
  },
  {
   "cell_type": "code",
   "execution_count": 18,
   "metadata": {},
   "outputs": [
    {
     "data": {
      "text/plain": [
       "array(['1٫164', '1٫674', '1٫756', '1٫154', '4٫515', '2٫11', '1٫394',\n",
       "       '2٫869', '1٫788', '59', '3٫97', '19٫5', '3٫782', '37', '6٫53',\n",
       "       '3٫3', '1٫492', '3٫934', '6٫041', '15٫8', '2٫125', '4٫373', '4٫59',\n",
       "       '1', '4٫191', '4٫361', '47٫7', '6٫905', '27', '2٫344', '1٫623',\n",
       "       '4٫002', '4٫767', '5٫583', '8٫909', '3٫414', '3٫142', '10',\n",
       "       '2٫409', '1٫215', '1٫73', '697', '9٫769', '3٫262', '38٫9', '12٫5',\n",
       "       '1٫142', '1٫092', '2٫063', '2٫941', '1٫209', '6٫84', '8٫456',\n",
       "       '1٫327', '928', '6٫099', '4٫001', '7٫881', '2٫709', '2٫645',\n",
       "       '3٫396', '2٫874', '10٫5', '37٫6', '2٫99', '4٫874', '1٫377', '38٫6',\n",
       "       '29٫1', '7٫863', '1٫74', '2٫094', '2٫75', '7٫152', '32', '9٫963',\n",
       "       '3٫834', '17', '17٫1', '12٫1', '5٫424', '10٫2', '6٫897', '43٫4',\n",
       "       '31٫8', '9٫871', '15٫5', '30٫8', '10٫4', '23', '22٫1', '88٫9',\n",
       "       '7٫297', '9٫687', '44٫9', '25٫8', '3٫54', '5٫309', '44٫5', '9٫228',\n",
       "       '6٫236', '5٫872', '10٫6', '16٫8', '49٫4', '90٫5', '32٫5', '17٫6',\n",
       "       '82٫1', '10٫9', '41', '6٫899', '45٫3', '39٫8', '674', '3,100,000',\n",
       "       '143٫1', '471٫8', '80', '5٫107', '216', '44٫3', '7٫674', '5٫579',\n",
       "       '24٫2', '33٫7', '5٫555', '19٫6', '24٫4', '14٫7', '6٫457', '54٫1',\n",
       "       '5٫532', '64٫6', '41٫8', '23٫4', '12٫3', '10٫1', '10٫8', '14٫4',\n",
       "       '6٫294', '10٫3', '12٫7', '7٫48', '14٫3', '106٫7', '4٫826', '6٫685',\n",
       "       '6٫485', '14٫8', '16٫3', '10٫7', '56٫7', '17٫7', '4٫27', '108٫7',\n",
       "       '4٫72', '11٫6', '34٫6', '3٫504', '58٫8', '5٫907', '7٫319', '18',\n",
       "       '7٫632', '26٫2', '20٫5', '7٫804', '28', '12٫2', '36٫2', '11٫9',\n",
       "       '17٫3', '4٫077', '23٫9', '4٫955', '12٫4', '8٫551', '22', '26٫5',\n",
       "       '37٫9', '314٫1', '33٫1', '6٫287', '32٫8', '12٫6', '6٫952', '21٫8',\n",
       "       '13٫9', '27٫5', '28٫7', '33٫6', '16٫2', '14٫9', '44٫1', '30',\n",
       "       '39٫4', '35٫6', '32٫6', '21٫5', '11٫8', '63٫5', '8٫688', '99٫3',\n",
       "       '87٫9', '179', '122', '21٫7', '142٫9', '13٫2', '31٫4', '39',\n",
       "       '46٫3', '95٫4', '48٫2', '13٫8', '55٫9', '9٫693', '69٫3', '25',\n",
       "       '15٫6', '229٫3', '37٫7', '13٫3', '64٫1', '358', '7٫16', '102٫2',\n",
       "       '11٫3', '169٫5', '60٫3', '29', '62', '33٫4', '226٫9', '38٫5',\n",
       "       '18٫9', '20٫7', '18٫3', '40٫5', '94٫1', '22٫2', '20٫8', '45',\n",
       "       '55٫6', '93٫6', '93٫3', '6٫251', '57٫9', '39٫9', '277٫5', '34٫9',\n",
       "       '54٫3', '30٫9', '15٫7', '36٫3', '60٫6', '41٫1', '44٫2', '37٫8',\n",
       "       '241٫6', '107٫3', '71٫6', '31٫1', '205', '51٫2', '194٫2', '69٫6',\n",
       "       '181٫7', '114٫5', '596٫8', '346٫9', '79٫6', '4٫431', '15٫2',\n",
       "       '57٫7', '66', '90٫8', '9٫702', '483٫4', '50٫1', '3٫992', '54٫2',\n",
       "       '2٫916', '6٫556', '165', '5٫144', '3٫501', '88٫3', '1٫324', '607',\n",
       "       '1٫42', '662', '7٫6', '3٫903', '3٫96', '5٫165', '9٫118', '4٫465',\n",
       "       '873', '1٫421', '5٫848', '6٫019', '4٫226', '7٫522', '1٫061',\n",
       "       '11٫4', '737', '3٫874', '102٫7', '552', '431', '1٫54', '1٫188',\n",
       "       '1٫392', '2٫369', '779', '419', '990', '7٫371', '1٫752', '1٫301',\n",
       "       '226', '1٫298', '9٫209', '145', '340', '5٫328', '2٫214', '2٫915',\n",
       "       '1٫018', '709', '401', '6٫451', '1٫278', '975', '1٫919', '566',\n",
       "       '641', '1٫264', '1٫169', '970', '730', '417', '546', '1٫434',\n",
       "       '439', '454', '271', '547', '214', '840', '2٫205', '310', '3٫828',\n",
       "       '474', '176', '483', '1٫024', '3٫241', '321', '738', '3٫35',\n",
       "       '1٫05', '706', '917', '452', '541', '525', '788', '4٫842', '1٫694',\n",
       "       '515', '2٫445', '446', '111', '368', '2٫089', '6٫881', '261',\n",
       "       '412', '3٫542', '805', '4٫202', '277', '1٫216', '81', '267', '482',\n",
       "       '487', '293', '605', '170', '190', '3٫123', '517', '467', '223',\n",
       "       '1٫052', '281', '433', '407', '220', '384', '420', '148', '155',\n",
       "       '89', '518', '115', '318', '154', '601', '88', '732', '503',\n",
       "       '4٫647', '159', '195', '1٫002', '286', '3٫865', '751', '301',\n",
       "       '1٫187', '241', '1٫035', '5٫646', '1٫14', '168', '31', '121',\n",
       "       '782', '488', '251', '1٫159', '1٫846', '1٫365', '9٫308', '129',\n",
       "       '1٫055', '193', '1٫224', '347', '510', '55', '913', '599', '77',\n",
       "       '292', '199', '218', '225', '127', '317', '231', '606', '804',\n",
       "       '336', '533', '1٫759', '104', '255', '3٫27', '460', '678', '893',\n",
       "       '327', '1٫583', '444', '102', '181', '137', '410', '374', '1٫362',\n",
       "       '198', '2٫002', '3٫859', '92', '169', '579', '2٫263', '416',\n",
       "       '1٫874', '19٫1', '690', '69', '390', '376', '219', '557', '95',\n",
       "       '329', '371', '651', '259', '2', '671', '508', '152', '426',\n",
       "       '1٫173', '298', '5٫764', '1٫441', '403', '1٫302', '35', '9٫803',\n",
       "       '1٫318', '316', '84', '191', '98', '981', '93', '436', '1٫825',\n",
       "       '333', '2٫439', '96', '1٫331', '99', '290', '392', '1٫708', '977',\n",
       "       '3٫177', '114', '296', '1٫786', '342', '4٫701', '896', '985',\n",
       "       '177', '299', '8٫785', '1٫5', '2٫038', '106', '1٫185', '1٫12',\n",
       "       '2٫001', '2٫963', '445', '58', '4٫176', '136', '355', '1٫349',\n",
       "       '210', '291', '140', '2٫726', '1٫601', '1٫2', '1٫918', '502',\n",
       "       '288', '528', '110', '2٫412', '1٫073', '727', '246', '526',\n",
       "       '1٫247', '1٫175', '693', '623', '1٫326', '266', '302', '3٫587',\n",
       "       '1٫261', '1٫222', '78', '728', '135', '527', '182', '189', '203',\n",
       "       '233', '2٫043', '665', '863', '5٫343', '608', '51', '1٫774',\n",
       "       '3٫347', '188', '574', '1٫946', '349', '60', '1٫881', '2٫19',\n",
       "       '119', '184', '222', '6٫152', '729', '1٫417', '1٫007', '217',\n",
       "       '2٫215', '442', '132', '264', '33', '655', '162', '72', '126',\n",
       "       '2٫651', '2٫024', '532', '202', '1٫588', '1٫631', '684', '185',\n",
       "       '465', '731', '575', '153', '683', '5٫235', '1٫801', '74', '144',\n",
       "       '24', '1٫598', '1٫87', '143', '254', '766', '477', '118', '268',\n",
       "       '101', '1٫395', '639', '183', '740', '914', '892', '372', '3٫651',\n",
       "       '167', '130', '1٫8', '6٫291', '3٫127', '979', '11٫7', '279',\n",
       "       '3٫557', '712', '424', '94', '1٫452', '1٫199', '16', '283', '481',\n",
       "       '8٫57', '163', '303', '633', '799', '506', '640', '1٫274', '2٫379',\n",
       "       '784', '475', '70', '1٫063', '1٫393', '65', '1٫242', '753',\n",
       "       '1٫566', '443', '827', '3٫464', '206', '1٫863', '42', '4٫587',\n",
       "       '322', '2٫483', '9٫25', '76', '2٫587', '723', '139', '464',\n",
       "       '1٫144', '375', '826', '46', '1٫227', '5٫97', '1٫522', '107',\n",
       "       '1٫425', '174', '965', '749', '427', '1٫865', '857', '2٫326',\n",
       "       '399', '53', '929', '825', '151', '509', '1٫796', '149', '1٫231',\n",
       "       '554', '1٫197', '745', '748', '131', '265', '578', '248', '100',\n",
       "       '3٫171', '757', '796', '8٫93', '4٫979', '919', '123', '904',\n",
       "       '3٫679', '1٫859', '2٫886', '4٫575', '1٫764', '945', '387', '1٫081',\n",
       "       '588', '2٫491', '1٫354', '479', '609', '786', '1٫308', '285',\n",
       "       '543', '563', '867', '621', '2٫93', '227', '73', '138', '964',\n",
       "       '49', '441', '1٫855', '276', '381', '1٫6', '361', '250', '1٫309',\n",
       "       '447', '3٫482', '332', '2٫724', '1٫093', '1٫461', '2٫983', '1٫402',\n",
       "       '370', '1٫506', '309', '561', '56', '409', '391', '1٫778', '108',\n",
       "       '469', '1٫095', '343', '648', '90', '1٫182', '875', '244', '437',\n",
       "       '1٫041', '544', '8٫871', '1٫811', '235', '5٫912', '440', '2٫446',\n",
       "       '1٫468', '2٫495', '3٫48', '5٫876', '398', '6٫558', '680', '8٫347',\n",
       "       '52', '1٫04', '365', '86', '522', '194', '429', '319', '759',\n",
       "       '548', '2٫596', '275', '922', '646', '325', '6٫944', '3٫728',\n",
       "       '720', '393', '1٫334', '109', '630', '912', '677', '569', '842',\n",
       "       '156', '769', '284', '1٫361', '5٫45', '1٫135', '237', '3٫636',\n",
       "       '1٫001', '157', '232', '856', '4٫228', '1٫343', '171', '116',\n",
       "       '146', '852', '555', '160', '2٫182', '1٫615', '2٫517', '521',\n",
       "       '1٫24', '4٫014', '252', '212', '196', '331', '378', '619', '642',\n",
       "       '653', '13٫4'], dtype=object)"
      ]
     },
     "execution_count": 18,
     "metadata": {},
     "output_type": "execute_result"
    }
   ],
   "source": [
    "df['shares'].unique()"
   ]
  },
  {
   "cell_type": "code",
   "execution_count": 19,
   "metadata": {},
   "outputs": [
    {
     "data": {
      "text/plain": [
       "882"
      ]
     },
     "execution_count": 19,
     "metadata": {},
     "output_type": "execute_result"
    }
   ],
   "source": [
    "df['shares'].nunique()"
   ]
  },
  {
   "cell_type": "code",
   "execution_count": 20,
   "metadata": {},
   "outputs": [],
   "source": [
    "df['shares'] = df['shares'].str.replace('٫', '')\n",
    "df['shares'] = df['shares'].str.replace(',', '')"
   ]
  },
  {
   "cell_type": "code",
   "execution_count": 21,
   "metadata": {},
   "outputs": [],
   "source": [
    "df['shares'] = df['shares'].astype(int)"
   ]
  },
  {
   "cell_type": "code",
   "execution_count": 22,
   "metadata": {},
   "outputs": [],
   "source": [
    "df['likes'] = df['likes'].str.replace('٫', '')\n",
    "df['likes'] = df['likes'].str.replace(',', '')"
   ]
  },
  {
   "cell_type": "code",
   "execution_count": 23,
   "metadata": {},
   "outputs": [],
   "source": [
    "df['likes'] = df['likes'].astype(int)"
   ]
  },
  {
   "cell_type": "code",
   "execution_count": 24,
   "metadata": {},
   "outputs": [],
   "source": [
    "# Fill the missing values in the `captions` column\n",
    "\n",
    "most_frequent_caption = df['captions'].mode()[0]"
   ]
  },
  {
   "cell_type": "code",
   "execution_count": 25,
   "metadata": {},
   "outputs": [],
   "source": [
    "df['captions'].fillna(most_frequent_caption, inplace=True)"
   ]
  },
  {
   "cell_type": "code",
   "execution_count": 26,
   "metadata": {},
   "outputs": [],
   "source": [
    "# Fill the missing values in the `hashtags` column\n",
    "most_frequent_hashtag = df['hashtags'].mode()[0]"
   ]
  },
  {
   "cell_type": "code",
   "execution_count": 27,
   "metadata": {},
   "outputs": [],
   "source": [
    "df['hashtags'].fillna(most_frequent_hashtag, inplace=True)"
   ]
  },
  {
   "cell_type": "code",
   "execution_count": 28,
   "metadata": {},
   "outputs": [
    {
     "data": {
      "text/plain": [
       "0"
      ]
     },
     "execution_count": 28,
     "metadata": {},
     "output_type": "execute_result"
    }
   ],
   "source": [
    "# Check the duplicated rows\n",
    "\n",
    "df.duplicated().sum()"
   ]
  },
  {
   "cell_type": "code",
   "execution_count": 29,
   "metadata": {},
   "outputs": [
    {
     "data": {
      "text/plain": [
       "views                     int64\n",
       "comments                  int64\n",
       "shares                    int64\n",
       "likes                     int64\n",
       "duration                  int64\n",
       "captions                 object\n",
       "hashtags                 object\n",
       "created_at       datetime64[ns]\n",
       "created_day              object\n",
       "created_month            object\n",
       "created_year             object\n",
       "dtype: object"
      ]
     },
     "execution_count": 29,
     "metadata": {},
     "output_type": "execute_result"
    }
   ],
   "source": [
    "df.dtypes"
   ]
  },
  {
   "cell_type": "code",
   "execution_count": 30,
   "metadata": {},
   "outputs": [
    {
     "data": {
      "text/html": [
       "<div>\n",
       "<style scoped>\n",
       "    .dataframe tbody tr th:only-of-type {\n",
       "        vertical-align: middle;\n",
       "    }\n",
       "\n",
       "    .dataframe tbody tr th {\n",
       "        vertical-align: top;\n",
       "    }\n",
       "\n",
       "    .dataframe thead th {\n",
       "        text-align: right;\n",
       "    }\n",
       "</style>\n",
       "<table border=\"1\" class=\"dataframe\">\n",
       "  <thead>\n",
       "    <tr style=\"text-align: right;\">\n",
       "      <th></th>\n",
       "      <th>count</th>\n",
       "      <th>mean</th>\n",
       "      <th>min</th>\n",
       "      <th>25%</th>\n",
       "      <th>50%</th>\n",
       "      <th>75%</th>\n",
       "      <th>max</th>\n",
       "      <th>std</th>\n",
       "    </tr>\n",
       "  </thead>\n",
       "  <tbody>\n",
       "    <tr>\n",
       "      <th>views</th>\n",
       "      <td>1078.0</td>\n",
       "      <td>16572104.24397</td>\n",
       "      <td>114.0</td>\n",
       "      <td>2199.0</td>\n",
       "      <td>4994.0</td>\n",
       "      <td>14500000.0</td>\n",
       "      <td>352900000.0</td>\n",
       "      <td>39151286.199829</td>\n",
       "    </tr>\n",
       "    <tr>\n",
       "      <th>comments</th>\n",
       "      <td>1078.0</td>\n",
       "      <td>694.375696</td>\n",
       "      <td>0.0</td>\n",
       "      <td>128.25</td>\n",
       "      <td>244.0</td>\n",
       "      <td>530.75</td>\n",
       "      <td>9996.0</td>\n",
       "      <td>1452.730057</td>\n",
       "    </tr>\n",
       "    <tr>\n",
       "      <th>shares</th>\n",
       "      <td>1078.0</td>\n",
       "      <td>4071.967532</td>\n",
       "      <td>1.0</td>\n",
       "      <td>191.0</td>\n",
       "      <td>442.0</td>\n",
       "      <td>1206.5</td>\n",
       "      <td>3100000.0</td>\n",
       "      <td>94399.208439</td>\n",
       "    </tr>\n",
       "    <tr>\n",
       "      <th>likes</th>\n",
       "      <td>1078.0</td>\n",
       "      <td>1732037.397032</td>\n",
       "      <td>13.0</td>\n",
       "      <td>304.25</td>\n",
       "      <td>683.5</td>\n",
       "      <td>1300000.0</td>\n",
       "      <td>37900000.0</td>\n",
       "      <td>4395829.518566</td>\n",
       "    </tr>\n",
       "    <tr>\n",
       "      <th>duration</th>\n",
       "      <td>1078.0</td>\n",
       "      <td>16.753247</td>\n",
       "      <td>4.0</td>\n",
       "      <td>9.0</td>\n",
       "      <td>13.0</td>\n",
       "      <td>21.0</td>\n",
       "      <td>105.0</td>\n",
       "      <td>11.325043</td>\n",
       "    </tr>\n",
       "    <tr>\n",
       "      <th>created_at</th>\n",
       "      <td>1078</td>\n",
       "      <td>2021-02-16 10:42:31.391465728</td>\n",
       "      <td>2020-03-15 00:00:00</td>\n",
       "      <td>2020-07-26 00:00:00</td>\n",
       "      <td>2020-11-20 00:00:00</td>\n",
       "      <td>2021-05-21 18:00:00</td>\n",
       "      <td>2023-06-12 00:00:00</td>\n",
       "      <td>NaN</td>\n",
       "    </tr>\n",
       "  </tbody>\n",
       "</table>\n",
       "</div>"
      ],
      "text/plain": [
       "             count                           mean                  min  \\\n",
       "views       1078.0                 16572104.24397                114.0   \n",
       "comments    1078.0                     694.375696                  0.0   \n",
       "shares      1078.0                    4071.967532                  1.0   \n",
       "likes       1078.0                 1732037.397032                 13.0   \n",
       "duration    1078.0                      16.753247                  4.0   \n",
       "created_at    1078  2021-02-16 10:42:31.391465728  2020-03-15 00:00:00   \n",
       "\n",
       "                            25%                  50%                  75%  \\\n",
       "views                    2199.0               4994.0           14500000.0   \n",
       "comments                 128.25                244.0               530.75   \n",
       "shares                    191.0                442.0               1206.5   \n",
       "likes                    304.25                683.5            1300000.0   \n",
       "duration                    9.0                 13.0                 21.0   \n",
       "created_at  2020-07-26 00:00:00  2020-11-20 00:00:00  2021-05-21 18:00:00   \n",
       "\n",
       "                            max              std  \n",
       "views               352900000.0  39151286.199829  \n",
       "comments                 9996.0      1452.730057  \n",
       "shares                3100000.0     94399.208439  \n",
       "likes                37900000.0   4395829.518566  \n",
       "duration                  105.0        11.325043  \n",
       "created_at  2023-06-12 00:00:00              NaN  "
      ]
     },
     "execution_count": 30,
     "metadata": {},
     "output_type": "execute_result"
    }
   ],
   "source": [
    "df.describe().T"
   ]
  },
  {
   "cell_type": "code",
   "execution_count": 31,
   "metadata": {},
   "outputs": [
    {
     "name": "stderr",
     "output_type": "stream",
     "text": [
      "[nltk_data] Downloading package punkt to /home/computer/nltk_data...\n",
      "[nltk_data]   Package punkt is already up-to-date!\n"
     ]
    }
   ],
   "source": [
    "import nltk\n",
    "nltk.download('punkt')\n",
    "from nltk.corpus import stopwords\n",
    "from collections import Counter\n"
   ]
  },
  {
   "cell_type": "code",
   "execution_count": 32,
   "metadata": {},
   "outputs": [],
   "source": [
    "# Check the top 10 most common words used in captions\n",
    "import re\n",
    "\n",
    "df['captions'] = df['captions'].apply(lambda x: re.sub(r\"http\\S+|[^a-zA-Z0-9\\s]\", \"\", x))\n"
   ]
  },
  {
   "cell_type": "code",
   "execution_count": 33,
   "metadata": {},
   "outputs": [],
   "source": [
    "df['tokenized_captions'] = df['captions'].apply(nltk.word_tokenize)\n"
   ]
  },
  {
   "cell_type": "code",
   "execution_count": 34,
   "metadata": {},
   "outputs": [
    {
     "name": "stderr",
     "output_type": "stream",
     "text": [
      "[nltk_data] Downloading package stopwords to\n",
      "[nltk_data]     /home/computer/nltk_data...\n",
      "[nltk_data]   Package stopwords is already up-to-date!\n"
     ]
    }
   ],
   "source": [
    "nltk.download('stopwords')\n",
    "stop_words = set(stopwords.words('english'))\n"
   ]
  },
  {
   "cell_type": "code",
   "execution_count": 35,
   "metadata": {},
   "outputs": [],
   "source": [
    "df['filtered_captions'] = df['tokenized_captions'].apply(lambda x: [word for word in x if word.lower() not in stop_words])"
   ]
  },
  {
   "cell_type": "code",
   "execution_count": 36,
   "metadata": {},
   "outputs": [
    {
     "name": "stdout",
     "output_type": "stream",
     "text": [
      "[('foryoupage', 669), ('foryou', 556), ('comic', 513), ('la', 254), ('learnfromkhaby', 202), ('ironia', 185), ('persona', 158), ('dopo', 156), ('La', 139), ('con', 104)]\n"
     ]
    }
   ],
   "source": [
    "word_counts = Counter([word for caption in df['filtered_captions'] for word in caption])\n",
    "most_common_words = word_counts.most_common(10)\n",
    "print(most_common_words)\n"
   ]
  },
  {
   "cell_type": "code",
   "execution_count": 37,
   "metadata": {},
   "outputs": [
    {
     "data": {
      "image/png": "[encoded data removed]",
      "text/plain": [
       "<Figure size 1000x500 with 1 Axes>"
      ]
     },
     "metadata": {},
     "output_type": "display_data"
    }
   ],
   "source": [
    "from wordcloud import WordCloud\n",
    "\n",
    "wordcloud = WordCloud(width=800, height=400, background_color='white').generate_from_frequencies(word_counts)\n",
    "plt.figure(figsize=(10, 5))\n",
    "plt.imshow(wordcloud, interpolation='bilinear')\n",
    "plt.axis('off')\n",
    "plt.show()\n"
   ]
  },
  {
   "cell_type": "code",
   "execution_count": 38,
   "metadata": {},
   "outputs": [
    {
     "name": "stdout",
     "output_type": "stream",
     "text": [
      "Average caption length: 68.26716141001856\n"
     ]
    }
   ],
   "source": [
    "# Check the average caption length\n",
    "\n",
    "df['caption_length'] = df['captions'].apply(len)\n",
    "average_caption_length = df['caption_length'].mean()\n",
    "print(\"Average caption length:\", average_caption_length)\n"
   ]
  },
  {
   "cell_type": "code",
   "execution_count": 39,
   "metadata": {},
   "outputs": [],
   "source": [
    "# Check the most common used words in the hashtags\n",
    "\n",
    "df['split_hashtags'] = df['hashtags'].str.split(', ')\n"
   ]
  },
  {
   "cell_type": "code",
   "execution_count": 40,
   "metadata": {},
   "outputs": [],
   "source": [
    "word_list = [word for sublist in df['split_hashtags'] for word in sublist]\n"
   ]
  },
  {
   "cell_type": "code",
   "execution_count": 41,
   "metadata": {},
   "outputs": [],
   "source": [
    "word_counts = Counter(word_list)"
   ]
  },
  {
   "cell_type": "code",
   "execution_count": 42,
   "metadata": {},
   "outputs": [
    {
     "data": {
      "text/plain": [
       "[('foryoupage', 602),\n",
       " ('foryou', 563),\n",
       " ('comic', 408),\n",
       " ('learnfromkhaby', 368),\n",
       " ('learnontiktok', 209),\n",
       " ('ironia', 187),\n",
       " ('learnwithtiktok', 108),\n",
       " ('comedy', 106),\n",
       " ('duetto', 81),\n",
       " ('imparacontiktok', 72)]"
      ]
     },
     "execution_count": 42,
     "metadata": {},
     "output_type": "execute_result"
    }
   ],
   "source": [
    "top_words = word_counts.most_common(10)\n",
    "top_words"
   ]
  },
  {
   "cell_type": "code",
   "execution_count": 43,
   "metadata": {},
   "outputs": [
    {
     "data": {
      "application/vnd.plotly.v1+json": {
       "config": {
        "plotlyServerURL": "https://plot.ly"
       },
       "data": [
        {
         "marker": {
          "color": [
           "#10b981",
           "#14b8a6",
           "#84cc16",
           "#7e22ce",
           "#758eb7",
           "#f97316",
           "#0903a6",
           "#38184c",
           "#e11d48",
           "#dc2626"
          ]
         },
         "type": "bar",
         "x": [
          "foryoupage",
          "foryou",
          "comic",
          "learnfromkhaby",
          "learnontiktok",
          "ironia",
          "learnwithtiktok",
          "comedy",
          "duetto",
          "imparacontiktok"
         ],
         "y": [
          602,
          563,
          408,
          368,
          209,
          187,
          108,
          106,
          81,
          72
         ]
        }
       ],
       "layout": {
        "template": {
         "data": {
          "bar": [
           {
            "error_x": {
             "color": "#2a3f5f"
            },
            "error_y": {
             "color": "#2a3f5f"
            },
            "marker": {
             "line": {
              "color": "#E5ECF6",
              "width": 0.5
             },
             "pattern": {
              "fillmode": "overlay",
              "size": 10,
              "solidity": 0.2
             }
            },
            "type": "bar"
           }
          ],
          "barpolar": [
           {
            "marker": {
             "line": {
              "color": "#E5ECF6",
              "width": 0.5
             },
             "pattern": {
              "fillmode": "overlay",
              "size": 10,
              "solidity": 0.2
             }
            },
            "type": "barpolar"
           }
          ],
          "carpet": [
           {
            "aaxis": {
             "endlinecolor": "#2a3f5f",
             "gridcolor": "white",
             "linecolor": "white",
             "minorgridcolor": "white",
             "startlinecolor": "#2a3f5f"
            },
            "baxis": {
             "endlinecolor": "#2a3f5f",
             "gridcolor": "white",
             "linecolor": "white",
             "minorgridcolor": "white",
             "startlinecolor": "#2a3f5f"
            },
            "type": "carpet"
           }
          ],
          "choropleth": [
           {
            "colorbar": {
             "outlinewidth": 0,
             "ticks": ""
            },
            "type": "choropleth"
           }
          ],
          "contour": [
           {
            "colorbar": {
             "outlinewidth": 0,
             "ticks": ""
            },
            "colorscale": [
             [
              0,
              "#0d0887"
             ],
             [
              0.1111111111111111,
              "#46039f"
             ],
             [
              0.2222222222222222,
              "#7201a8"
             ],
             [
              0.3333333333333333,
              "#9c179e"
             ],
             [
              0.4444444444444444,
              "#bd3786"
             ],
             [
              0.5555555555555556,
              "#d8576b"
             ],
             [
              0.6666666666666666,
              "#ed7953"
             ],
             [
              0.7777777777777778,
              "#fb9f3a"
             ],
             [
              0.8888888888888888,
              "#fdca26"
             ],
             [
              1,
              "#f0f921"
             ]
            ],
            "type": "contour"
           }
          ],
          "contourcarpet": [
           {
            "colorbar": {
             "outlinewidth": 0,
             "ticks": ""
            },
            "type": "contourcarpet"
           }
          ],
          "heatmap": [
           {
            "colorbar": {
             "outlinewidth": 0,
             "ticks": ""
            },
            "colorscale": [
             [
              0,
              "#0d0887"
             ],
             [
              0.1111111111111111,
              "#46039f"
             ],
             [
              0.2222222222222222,
              "#7201a8"
             ],
             [
              0.3333333333333333,
              "#9c179e"
             ],
             [
              0.4444444444444444,
              "#bd3786"
             ],
             [
              0.5555555555555556,
              "#d8576b"
             ],
             [
              0.6666666666666666,
              "#ed7953"
             ],
             [
              0.7777777777777778,
              "#fb9f3a"
             ],
             [
              0.8888888888888888,
              "#fdca26"
             ],
             [
              1,
              "#f0f921"
             ]
            ],
            "type": "heatmap"
           }
          ],
          "heatmapgl": [
           {
            "colorbar": {
             "outlinewidth": 0,
             "ticks": ""
            },
            "colorscale": [
             [
              0,
              "#0d0887"
             ],
             [
              0.1111111111111111,
              "#46039f"
             ],
             [
              0.2222222222222222,
              "#7201a8"
             ],
             [
              0.3333333333333333,
              "#9c179e"
             ],
             [
              0.4444444444444444,
              "#bd3786"
             ],
             [
              0.5555555555555556,
              "#d8576b"
             ],
             [
              0.6666666666666666,
              "#ed7953"
             ],
             [
              0.7777777777777778,
              "#fb9f3a"
             ],
             [
              0.8888888888888888,
              "#fdca26"
             ],
             [
              1,
              "#f0f921"
             ]
            ],
            "type": "heatmapgl"
           }
          ],
          "histogram": [
           {
            "marker": {
             "pattern": {
              "fillmode": "overlay",
              "size": 10,
              "solidity": 0.2
             }
            },
            "type": "histogram"
           }
          ],
          "histogram2d": [
           {
            "colorbar": {
             "outlinewidth": 0,
             "ticks": ""
            },
            "colorscale": [
             [
              0,
              "#0d0887"
             ],
             [
              0.1111111111111111,
              "#46039f"
             ],
             [
              0.2222222222222222,
              "#7201a8"
             ],
             [
              0.3333333333333333,
              "#9c179e"
             ],
             [
              0.4444444444444444,
              "#bd3786"
             ],
             [
              0.5555555555555556,
              "#d8576b"
             ],
             [
              0.6666666666666666,
              "#ed7953"
             ],
             [
              0.7777777777777778,
              "#fb9f3a"
             ],
             [
              0.8888888888888888,
              "#fdca26"
             ],
             [
              1,
              "#f0f921"
             ]
            ],
            "type": "histogram2d"
           }
          ],
          "histogram2dcontour": [
           {
            "colorbar": {
             "outlinewidth": 0,
             "ticks": ""
            },
            "colorscale": [
             [
              0,
              "#0d0887"
             ],
             [
              0.1111111111111111,
              "#46039f"
             ],
             [
              0.2222222222222222,
              "#7201a8"
             ],
             [
              0.3333333333333333,
              "#9c179e"
             ],
             [
              0.4444444444444444,
              "#bd3786"
             ],
             [
              0.5555555555555556,
              "#d8576b"
             ],
             [
              0.6666666666666666,
              "#ed7953"
             ],
             [
              0.7777777777777778,
              "#fb9f3a"
             ],
             [
              0.8888888888888888,
              "#fdca26"
             ],
             [
              1,
              "#f0f921"
             ]
            ],
            "type": "histogram2dcontour"
           }
          ],
          "mesh3d": [
           {
            "colorbar": {
             "outlinewidth": 0,
             "ticks": ""
            },
            "type": "mesh3d"
           }
          ],
          "parcoords": [
           {
            "line": {
             "colorbar": {
              "outlinewidth": 0,
              "ticks": ""
             }
            },
            "type": "parcoords"
           }
          ],
          "pie": [
           {
            "automargin": true,
            "type": "pie"
           }
          ],
          "scatter": [
           {
            "fillpattern": {
             "fillmode": "overlay",
             "size": 10,
             "solidity": 0.2
            },
            "type": "scatter"
           }
          ],
          "scatter3d": [
           {
            "line": {
             "colorbar": {
              "outlinewidth": 0,
              "ticks": ""
             }
            },
            "marker": {
             "colorbar": {
              "outlinewidth": 0,
              "ticks": ""
             }
            },
            "type": "scatter3d"
           }
          ],
          "scattercarpet": [
           {
            "marker": {
             "colorbar": {
              "outlinewidth": 0,
              "ticks": ""
             }
            },
            "type": "scattercarpet"
           }
          ],
          "scattergeo": [
           {
            "marker": {
             "colorbar": {
              "outlinewidth": 0,
              "ticks": ""
             }
            },
            "type": "scattergeo"
           }
          ],
          "scattergl": [
           {
            "marker": {
             "colorbar": {
              "outlinewidth": 0,
              "ticks": ""
             }
            },
            "type": "scattergl"
           }
          ],
          "scattermapbox": [
           {
            "marker": {
             "colorbar": {
              "outlinewidth": 0,
              "ticks": ""
             }
            },
            "type": "scattermapbox"
           }
          ],
          "scatterpolar": [
           {
            "marker": {
             "colorbar": {
              "outlinewidth": 0,
              "ticks": ""
             }
            },
            "type": "scatterpolar"
           }
          ],
          "scatterpolargl": [
           {
            "marker": {
             "colorbar": {
              "outlinewidth": 0,
              "ticks": ""
             }
            },
            "type": "scatterpolargl"
           }
          ],
          "scatterternary": [
           {
            "marker": {
             "colorbar": {
              "outlinewidth": 0,
              "ticks": ""
             }
            },
            "type": "scatterternary"
           }
          ],
          "surface": [
           {
            "colorbar": {
             "outlinewidth": 0,
             "ticks": ""
            },
            "colorscale": [
             [
              0,
              "#0d0887"
             ],
             [
              0.1111111111111111,
              "#46039f"
             ],
             [
              0.2222222222222222,
              "#7201a8"
             ],
             [
              0.3333333333333333,
              "#9c179e"
             ],
             [
              0.4444444444444444,
              "#bd3786"
             ],
             [
              0.5555555555555556,
              "#d8576b"
             ],
             [
              0.6666666666666666,
              "#ed7953"
             ],
             [
              0.7777777777777778,
              "#fb9f3a"
             ],
             [
              0.8888888888888888,
              "#fdca26"
             ],
             [
              1,
              "#f0f921"
             ]
            ],
            "type": "surface"
           }
          ],
          "table": [
           {
            "cells": {
             "fill": {
              "color": "#EBF0F8"
             },
             "line": {
              "color": "white"
             }
            },
            "header": {
             "fill": {
              "color": "#C8D4E3"
             },
             "line": {
              "color": "white"
             }
            },
            "type": "table"
           }
          ]
         },
         "layout": {
          "annotationdefaults": {
           "arrowcolor": "#2a3f5f",
           "arrowhead": 0,
           "arrowwidth": 1
          },
          "autotypenumbers": "strict",
          "coloraxis": {
           "colorbar": {
            "outlinewidth": 0,
            "ticks": ""
           }
          },
          "colorscale": {
           "diverging": [
            [
             0,
             "#8e0152"
            ],
            [
             0.1,
             "#c51b7d"
            ],
            [
             0.2,
             "#de77ae"
            ],
            [
             0.3,
             "#f1b6da"
            ],
            [
             0.4,
             "#fde0ef"
            ],
            [
             0.5,
             "#f7f7f7"
            ],
            [
             0.6,
             "#e6f5d0"
            ],
            [
             0.7,
             "#b8e186"
            ],
            [
             0.8,
             "#7fbc41"
            ],
            [
             0.9,
             "#4d9221"
            ],
            [
             1,
             "#276419"
            ]
           ],
           "sequential": [
            [
             0,
             "#0d0887"
            ],
            [
             0.1111111111111111,
             "#46039f"
            ],
            [
             0.2222222222222222,
             "#7201a8"
            ],
            [
             0.3333333333333333,
             "#9c179e"
            ],
            [
             0.4444444444444444,
             "#bd3786"
            ],
            [
             0.5555555555555556,
             "#d8576b"
            ],
            [
             0.6666666666666666,
             "#ed7953"
            ],
            [
             0.7777777777777778,
             "#fb9f3a"
            ],
            [
             0.8888888888888888,
             "#fdca26"
            ],
            [
             1,
             "#f0f921"
            ]
           ],
           "sequentialminus": [
            [
             0,
             "#0d0887"
            ],
            [
             0.1111111111111111,
             "#46039f"
            ],
            [
             0.2222222222222222,
             "#7201a8"
            ],
            [
             0.3333333333333333,
             "#9c179e"
            ],
            [
             0.4444444444444444,
             "#bd3786"
            ],
            [
             0.5555555555555556,
             "#d8576b"
            ],
            [
             0.6666666666666666,
             "#ed7953"
            ],
            [
             0.7777777777777778,
             "#fb9f3a"
            ],
            [
             0.8888888888888888,
             "#fdca26"
            ],
            [
             1,
             "#f0f921"
            ]
           ]
          },
          "colorway": [
           "#636efa",
           "#EF553B",
           "#00cc96",
           "#ab63fa",
           "#FFA15A",
           "#19d3f3",
           "#FF6692",
           "#B6E880",
           "#FF97FF",
           "#FECB52"
          ],
          "font": {
           "color": "#2a3f5f"
          },
          "geo": {
           "bgcolor": "white",
           "lakecolor": "white",
           "landcolor": "#E5ECF6",
           "showlakes": true,
           "showland": true,
           "subunitcolor": "white"
          },
          "hoverlabel": {
           "align": "left"
          },
          "hovermode": "closest",
          "mapbox": {
           "style": "light"
          },
          "paper_bgcolor": "white",
          "plot_bgcolor": "#E5ECF6",
          "polar": {
           "angularaxis": {
            "gridcolor": "white",
            "linecolor": "white",
            "ticks": ""
           },
           "bgcolor": "#E5ECF6",
           "radialaxis": {
            "gridcolor": "white",
            "linecolor": "white",
            "ticks": ""
           }
          },
          "scene": {
           "xaxis": {
            "backgroundcolor": "#E5ECF6",
            "gridcolor": "white",
            "gridwidth": 2,
            "linecolor": "white",
            "showbackground": true,
            "ticks": "",
            "zerolinecolor": "white"
           },
           "yaxis": {
            "backgroundcolor": "#E5ECF6",
            "gridcolor": "white",
            "gridwidth": 2,
            "linecolor": "white",
            "showbackground": true,
            "ticks": "",
            "zerolinecolor": "white"
           },
           "zaxis": {
            "backgroundcolor": "#E5ECF6",
            "gridcolor": "white",
            "gridwidth": 2,
            "linecolor": "white",
            "showbackground": true,
            "ticks": "",
            "zerolinecolor": "white"
           }
          },
          "shapedefaults": {
           "line": {
            "color": "#2a3f5f"
           }
          },
          "ternary": {
           "aaxis": {
            "gridcolor": "white",
            "linecolor": "white",
            "ticks": ""
           },
           "baxis": {
            "gridcolor": "white",
            "linecolor": "white",
            "ticks": ""
           },
           "bgcolor": "#E5ECF6",
           "caxis": {
            "gridcolor": "white",
            "linecolor": "white",
            "ticks": ""
           }
          },
          "title": {
           "x": 0.05
          },
          "xaxis": {
           "automargin": true,
           "gridcolor": "white",
           "linecolor": "white",
           "ticks": "",
           "title": {
            "standoff": 15
           },
           "zerolinecolor": "white",
           "zerolinewidth": 2
          },
          "yaxis": {
           "automargin": true,
           "gridcolor": "white",
           "linecolor": "white",
           "ticks": "",
           "title": {
            "standoff": 15
           },
           "zerolinecolor": "white",
           "zerolinewidth": 2
          }
         }
        },
        "title": {
         "text": "<b>Most Used Hashtags</b>"
        },
        "xaxis": {
         "title": {
          "text": "<b>Hashtags</b>"
         }
        },
        "yaxis": {
         "title": {
          "text": "<b>Count</b>"
         }
        }
       }
      }
     },
     "metadata": {},
     "output_type": "display_data"
    }
   ],
   "source": [
    "x_values = [word[0] for word in top_words]\n",
    "y_values = [word[1] for word in top_words]\n",
    "\n",
    "color_palette = ['#10b981', '#14b8a6', '#84cc16', '#7e22ce', '#758eb7',\n",
    "                 '#f97316', '#0903a6', '#38184c', '#e11d48', '#dc2626']\n",
    "\n",
    "colors = color_palette[:len(x_values)]\n",
    "\n",
    "fig = go.Figure(data=go.Bar(x=x_values, y=y_values, marker_color=colors))\n",
    "fig.update_layout(title='<b>Most Used Hashtags</b>',\n",
    "                  xaxis_title='<b>Hashtags</b>',\n",
    "                  yaxis_title='<b>Count</b>')\n",
    "\n",
    "fig.show()\n"
   ]
  },
  {
   "cell_type": "code",
   "execution_count": 44,
   "metadata": {},
   "outputs": [
    {
     "data": {
      "text/html": [
       "<div>\n",
       "<style scoped>\n",
       "    .dataframe tbody tr th:only-of-type {\n",
       "        vertical-align: middle;\n",
       "    }\n",
       "\n",
       "    .dataframe tbody tr th {\n",
       "        vertical-align: top;\n",
       "    }\n",
       "\n",
       "    .dataframe thead th {\n",
       "        text-align: right;\n",
       "    }\n",
       "</style>\n",
       "<table border=\"1\" class=\"dataframe\">\n",
       "  <thead>\n",
       "    <tr style=\"text-align: right;\">\n",
       "      <th></th>\n",
       "      <th>created_year</th>\n",
       "      <th>views</th>\n",
       "    </tr>\n",
       "  </thead>\n",
       "  <tbody>\n",
       "    <tr>\n",
       "      <th>0</th>\n",
       "      <td>2020</td>\n",
       "      <td>86332680</td>\n",
       "    </tr>\n",
       "    <tr>\n",
       "      <th>1</th>\n",
       "      <td>2021</td>\n",
       "      <td>11394595695</td>\n",
       "    </tr>\n",
       "    <tr>\n",
       "      <th>2</th>\n",
       "      <td>2022</td>\n",
       "      <td>4702200000</td>\n",
       "    </tr>\n",
       "    <tr>\n",
       "      <th>3</th>\n",
       "      <td>2023</td>\n",
       "      <td>1681600000</td>\n",
       "    </tr>\n",
       "  </tbody>\n",
       "</table>\n",
       "</div>"
      ],
      "text/plain": [
       "  created_year        views\n",
       "0         2020     86332680\n",
       "1         2021  11394595695\n",
       "2         2022   4702200000\n",
       "3         2023   1681600000"
      ]
     },
     "execution_count": 44,
     "metadata": {},
     "output_type": "execute_result"
    }
   ],
   "source": [
    "# What is the total of views over years\n",
    "views_by_year = df.groupby('created_year')['views'].sum().reset_index()\n",
    "views_by_year"
   ]
  },
  {
   "cell_type": "code",
   "execution_count": 45,
   "metadata": {},
   "outputs": [
    {
     "data": {
      "application/vnd.plotly.v1+json": {
       "config": {
        "plotlyServerURL": "https://plot.ly"
       },
       "data": [
        {
         "alignmentgroup": "True",
         "hovertemplate": "created_year=%{x}<br>views=%{y}<extra></extra>",
         "legendgroup": "2020",
         "marker": {
          "color": "#636efa",
          "pattern": {
           "shape": ""
          }
         },
         "name": "2020",
         "offsetgroup": "2020",
         "orientation": "v",
         "showlegend": true,
         "textposition": "auto",
         "type": "bar",
         "x": [
          "2020"
         ],
         "xaxis": "x",
         "y": [
          86332680
         ],
         "yaxis": "y"
        },
        {
         "alignmentgroup": "True",
         "hovertemplate": "created_year=%{x}<br>views=%{y}<extra></extra>",
         "legendgroup": "2021",
         "marker": {
          "color": "#EF553B",
          "pattern": {
           "shape": ""
          }
         },
         "name": "2021",
         "offsetgroup": "2021",
         "orientation": "v",
         "showlegend": true,
         "textposition": "auto",
         "type": "bar",
         "x": [
          "2021"
         ],
         "xaxis": "x",
         "y": [
          11394595695
         ],
         "yaxis": "y"
        },
        {
         "alignmentgroup": "True",
         "hovertemplate": "created_year=%{x}<br>views=%{y}<extra></extra>",
         "legendgroup": "2022",
         "marker": {
          "color": "#00cc96",
          "pattern": {
           "shape": ""
          }
         },
         "name": "2022",
         "offsetgroup": "2022",
         "orientation": "v",
         "showlegend": true,
         "textposition": "auto",
         "type": "bar",
         "x": [
          "2022"
         ],
         "xaxis": "x",
         "y": [
          4702200000
         ],
         "yaxis": "y"
        },
        {
         "alignmentgroup": "True",
         "hovertemplate": "created_year=%{x}<br>views=%{y}<extra></extra>",
         "legendgroup": "2023",
         "marker": {
          "color": "#ab63fa",
          "pattern": {
           "shape": ""
          }
         },
         "name": "2023",
         "offsetgroup": "2023",
         "orientation": "v",
         "showlegend": true,
         "textposition": "auto",
         "type": "bar",
         "x": [
          "2023"
         ],
         "xaxis": "x",
         "y": [
          1681600000
         ],
         "yaxis": "y"
        }
       ],
       "layout": {
        "barmode": "relative",
        "legend": {
         "title": {
          "text": "created_year"
         },
         "tracegroupgap": 0
        },
        "template": {
         "data": {
          "bar": [
           {
            "error_x": {
             "color": "#2a3f5f"
            },
            "error_y": {
             "color": "#2a3f5f"
            },
            "marker": {
             "line": {
              "color": "#E5ECF6",
              "width": 0.5
             },
             "pattern": {
              "fillmode": "overlay",
              "size": 10,
              "solidity": 0.2
             }
            },
            "type": "bar"
           }
          ],
          "barpolar": [
           {
            "marker": {
             "line": {
              "color": "#E5ECF6",
              "width": 0.5
             },
             "pattern": {
              "fillmode": "overlay",
              "size": 10,
              "solidity": 0.2
             }
            },
            "type": "barpolar"
           }
          ],
          "carpet": [
           {
            "aaxis": {
             "endlinecolor": "#2a3f5f",
             "gridcolor": "white",
             "linecolor": "white",
             "minorgridcolor": "white",
             "startlinecolor": "#2a3f5f"
            },
            "baxis": {
             "endlinecolor": "#2a3f5f",
             "gridcolor": "white",
             "linecolor": "white",
             "minorgridcolor": "white",
             "startlinecolor": "#2a3f5f"
            },
            "type": "carpet"
           }
          ],
          "choropleth": [
           {
            "colorbar": {
             "outlinewidth": 0,
             "ticks": ""
            },
            "type": "choropleth"
           }
          ],
          "contour": [
           {
            "colorbar": {
             "outlinewidth": 0,
             "ticks": ""
            },
            "colorscale": [
             [
              0,
              "#0d0887"
             ],
             [
              0.1111111111111111,
              "#46039f"
             ],
             [
              0.2222222222222222,
              "#7201a8"
             ],
             [
              0.3333333333333333,
              "#9c179e"
             ],
             [
              0.4444444444444444,
              "#bd3786"
             ],
             [
              0.5555555555555556,
              "#d8576b"
             ],
             [
              0.6666666666666666,
              "#ed7953"
             ],
             [
              0.7777777777777778,
              "#fb9f3a"
             ],
             [
              0.8888888888888888,
              "#fdca26"
             ],
             [
              1,
              "#f0f921"
             ]
            ],
            "type": "contour"
           }
          ],
          "contourcarpet": [
           {
            "colorbar": {
             "outlinewidth": 0,
             "ticks": ""
            },
            "type": "contourcarpet"
           }
          ],
          "heatmap": [
           {
            "colorbar": {
             "outlinewidth": 0,
             "ticks": ""
            },
            "colorscale": [
             [
              0,
              "#0d0887"
             ],
             [
              0.1111111111111111,
              "#46039f"
             ],
             [
              0.2222222222222222,
              "#7201a8"
             ],
             [
              0.3333333333333333,
              "#9c179e"
             ],
             [
              0.4444444444444444,
              "#bd3786"
             ],
             [
              0.5555555555555556,
              "#d8576b"
             ],
             [
              0.6666666666666666,
              "#ed7953"
             ],
             [
              0.7777777777777778,
              "#fb9f3a"
             ],
             [
              0.8888888888888888,
              "#fdca26"
             ],
             [
              1,
              "#f0f921"
             ]
            ],
            "type": "heatmap"
           }
          ],
          "heatmapgl": [
           {
            "colorbar": {
             "outlinewidth": 0,
             "ticks": ""
            },
            "colorscale": [
             [
              0,
              "#0d0887"
             ],
             [
              0.1111111111111111,
              "#46039f"
             ],
             [
              0.2222222222222222,
              "#7201a8"
             ],
             [
              0.3333333333333333,
              "#9c179e"
             ],
             [
              0.4444444444444444,
              "#bd3786"
             ],
             [
              0.5555555555555556,
              "#d8576b"
             ],
             [
              0.6666666666666666,
              "#ed7953"
             ],
             [
              0.7777777777777778,
              "#fb9f3a"
             ],
             [
              0.8888888888888888,
              "#fdca26"
             ],
             [
              1,
              "#f0f921"
             ]
            ],
            "type": "heatmapgl"
           }
          ],
          "histogram": [
           {
            "marker": {
             "pattern": {
              "fillmode": "overlay",
              "size": 10,
              "solidity": 0.2
             }
            },
            "type": "histogram"
           }
          ],
          "histogram2d": [
           {
            "colorbar": {
             "outlinewidth": 0,
             "ticks": ""
            },
            "colorscale": [
             [
              0,
              "#0d0887"
             ],
             [
              0.1111111111111111,
              "#46039f"
             ],
             [
              0.2222222222222222,
              "#7201a8"
             ],
             [
              0.3333333333333333,
              "#9c179e"
             ],
             [
              0.4444444444444444,
              "#bd3786"
             ],
             [
              0.5555555555555556,
              "#d8576b"
             ],
             [
              0.6666666666666666,
              "#ed7953"
             ],
             [
              0.7777777777777778,
              "#fb9f3a"
             ],
             [
              0.8888888888888888,
              "#fdca26"
             ],
             [
              1,
              "#f0f921"
             ]
            ],
            "type": "histogram2d"
           }
          ],
          "histogram2dcontour": [
           {
            "colorbar": {
             "outlinewidth": 0,
             "ticks": ""
            },
            "colorscale": [
             [
              0,
              "#0d0887"
             ],
             [
              0.1111111111111111,
              "#46039f"
             ],
             [
              0.2222222222222222,
              "#7201a8"
             ],
             [
              0.3333333333333333,
              "#9c179e"
             ],
             [
              0.4444444444444444,
              "#bd3786"
             ],
             [
              0.5555555555555556,
              "#d8576b"
             ],
             [
              0.6666666666666666,
              "#ed7953"
             ],
             [
              0.7777777777777778,
              "#fb9f3a"
             ],
             [
              0.8888888888888888,
              "#fdca26"
             ],
             [
              1,
              "#f0f921"
             ]
            ],
            "type": "histogram2dcontour"
           }
          ],
          "mesh3d": [
           {
            "colorbar": {
             "outlinewidth": 0,
             "ticks": ""
            },
            "type": "mesh3d"
           }
          ],
          "parcoords": [
           {
            "line": {
             "colorbar": {
              "outlinewidth": 0,
              "ticks": ""
             }
            },
            "type": "parcoords"
           }
          ],
          "pie": [
           {
            "automargin": true,
            "type": "pie"
           }
          ],
          "scatter": [
           {
            "fillpattern": {
             "fillmode": "overlay",
             "size": 10,
             "solidity": 0.2
            },
            "type": "scatter"
           }
          ],
          "scatter3d": [
           {
            "line": {
             "colorbar": {
              "outlinewidth": 0,
              "ticks": ""
             }
            },
            "marker": {
             "colorbar": {
              "outlinewidth": 0,
              "ticks": ""
             }
            },
            "type": "scatter3d"
           }
          ],
          "scattercarpet": [
           {
            "marker": {
             "colorbar": {
              "outlinewidth": 0,
              "ticks": ""
             }
            },
            "type": "scattercarpet"
           }
          ],
          "scattergeo": [
           {
            "marker": {
             "colorbar": {
              "outlinewidth": 0,
              "ticks": ""
             }
            },
            "type": "scattergeo"
           }
          ],
          "scattergl": [
           {
            "marker": {
             "colorbar": {
              "outlinewidth": 0,
              "ticks": ""
             }
            },
            "type": "scattergl"
           }
          ],
          "scattermapbox": [
           {
            "marker": {
             "colorbar": {
              "outlinewidth": 0,
              "ticks": ""
             }
            },
            "type": "scattermapbox"
           }
          ],
          "scatterpolar": [
           {
            "marker": {
             "colorbar": {
              "outlinewidth": 0,
              "ticks": ""
             }
            },
            "type": "scatterpolar"
           }
          ],
          "scatterpolargl": [
           {
            "marker": {
             "colorbar": {
              "outlinewidth": 0,
              "ticks": ""
             }
            },
            "type": "scatterpolargl"
           }
          ],
          "scatterternary": [
           {
            "marker": {
             "colorbar": {
              "outlinewidth": 0,
              "ticks": ""
             }
            },
            "type": "scatterternary"
           }
          ],
          "surface": [
           {
            "colorbar": {
             "outlinewidth": 0,
             "ticks": ""
            },
            "colorscale": [
             [
              0,
              "#0d0887"
             ],
             [
              0.1111111111111111,
              "#46039f"
             ],
             [
              0.2222222222222222,
              "#7201a8"
             ],
             [
              0.3333333333333333,
              "#9c179e"
             ],
             [
              0.4444444444444444,
              "#bd3786"
             ],
             [
              0.5555555555555556,
              "#d8576b"
             ],
             [
              0.6666666666666666,
              "#ed7953"
             ],
             [
              0.7777777777777778,
              "#fb9f3a"
             ],
             [
              0.8888888888888888,
              "#fdca26"
             ],
             [
              1,
              "#f0f921"
             ]
            ],
            "type": "surface"
           }
          ],
          "table": [
           {
            "cells": {
             "fill": {
              "color": "#EBF0F8"
             },
             "line": {
              "color": "white"
             }
            },
            "header": {
             "fill": {
              "color": "#C8D4E3"
             },
             "line": {
              "color": "white"
             }
            },
            "type": "table"
           }
          ]
         },
         "layout": {
          "annotationdefaults": {
           "arrowcolor": "#2a3f5f",
           "arrowhead": 0,
           "arrowwidth": 1
          },
          "autotypenumbers": "strict",
          "coloraxis": {
           "colorbar": {
            "outlinewidth": 0,
            "ticks": ""
           }
          },
          "colorscale": {
           "diverging": [
            [
             0,
             "#8e0152"
            ],
            [
             0.1,
             "#c51b7d"
            ],
            [
             0.2,
             "#de77ae"
            ],
            [
             0.3,
             "#f1b6da"
            ],
            [
             0.4,
             "#fde0ef"
            ],
            [
             0.5,
             "#f7f7f7"
            ],
            [
             0.6,
             "#e6f5d0"
            ],
            [
             0.7,
             "#b8e186"
            ],
            [
             0.8,
             "#7fbc41"
            ],
            [
             0.9,
             "#4d9221"
            ],
            [
             1,
             "#276419"
            ]
           ],
           "sequential": [
            [
             0,
             "#0d0887"
            ],
            [
             0.1111111111111111,
             "#46039f"
            ],
            [
             0.2222222222222222,
             "#7201a8"
            ],
            [
             0.3333333333333333,
             "#9c179e"
            ],
            [
             0.4444444444444444,
             "#bd3786"
            ],
            [
             0.5555555555555556,
             "#d8576b"
            ],
            [
             0.6666666666666666,
             "#ed7953"
            ],
            [
             0.7777777777777778,
             "#fb9f3a"
            ],
            [
             0.8888888888888888,
             "#fdca26"
            ],
            [
             1,
             "#f0f921"
            ]
           ],
           "sequentialminus": [
            [
             0,
             "#0d0887"
            ],
            [
             0.1111111111111111,
             "#46039f"
            ],
            [
             0.2222222222222222,
             "#7201a8"
            ],
            [
             0.3333333333333333,
             "#9c179e"
            ],
            [
             0.4444444444444444,
             "#bd3786"
            ],
            [
             0.5555555555555556,
             "#d8576b"
            ],
            [
             0.6666666666666666,
             "#ed7953"
            ],
            [
             0.7777777777777778,
             "#fb9f3a"
            ],
            [
             0.8888888888888888,
             "#fdca26"
            ],
            [
             1,
             "#f0f921"
            ]
           ]
          },
          "colorway": [
           "#636efa",
           "#EF553B",
           "#00cc96",
           "#ab63fa",
           "#FFA15A",
           "#19d3f3",
           "#FF6692",
           "#B6E880",
           "#FF97FF",
           "#FECB52"
          ],
          "font": {
           "color": "#2a3f5f"
          },
          "geo": {
           "bgcolor": "white",
           "lakecolor": "white",
           "landcolor": "#E5ECF6",
           "showlakes": true,
           "showland": true,
           "subunitcolor": "white"
          },
          "hoverlabel": {
           "align": "left"
          },
          "hovermode": "closest",
          "mapbox": {
           "style": "light"
          },
          "paper_bgcolor": "white",
          "plot_bgcolor": "#E5ECF6",
          "polar": {
           "angularaxis": {
            "gridcolor": "white",
            "linecolor": "white",
            "ticks": ""
           },
           "bgcolor": "#E5ECF6",
           "radialaxis": {
            "gridcolor": "white",
            "linecolor": "white",
            "ticks": ""
           }
          },
          "scene": {
           "xaxis": {
            "backgroundcolor": "#E5ECF6",
            "gridcolor": "white",
            "gridwidth": 2,
            "linecolor": "white",
            "showbackground": true,
            "ticks": "",
            "zerolinecolor": "white"
           },
           "yaxis": {
            "backgroundcolor": "#E5ECF6",
            "gridcolor": "white",
            "gridwidth": 2,
            "linecolor": "white",
            "showbackground": true,
            "ticks": "",
            "zerolinecolor": "white"
           },
           "zaxis": {
            "backgroundcolor": "#E5ECF6",
            "gridcolor": "white",
            "gridwidth": 2,
            "linecolor": "white",
            "showbackground": true,
            "ticks": "",
            "zerolinecolor": "white"
           }
          },
          "shapedefaults": {
           "line": {
            "color": "#2a3f5f"
           }
          },
          "ternary": {
           "aaxis": {
            "gridcolor": "white",
            "linecolor": "white",
            "ticks": ""
           },
           "baxis": {
            "gridcolor": "white",
            "linecolor": "white",
            "ticks": ""
           },
           "bgcolor": "#E5ECF6",
           "caxis": {
            "gridcolor": "white",
            "linecolor": "white",
            "ticks": ""
           }
          },
          "title": {
           "x": 0.05
          },
          "xaxis": {
           "automargin": true,
           "gridcolor": "white",
           "linecolor": "white",
           "ticks": "",
           "title": {
            "standoff": 15
           },
           "zerolinecolor": "white",
           "zerolinewidth": 2
          },
          "yaxis": {
           "automargin": true,
           "gridcolor": "white",
           "linecolor": "white",
           "ticks": "",
           "title": {
            "standoff": 15
           },
           "zerolinecolor": "white",
           "zerolinewidth": 2
          }
         }
        },
        "title": {
         "text": "<b>Total Views Over Years</b>"
        },
        "xaxis": {
         "anchor": "y",
         "categoryarray": [
          "2020",
          "2021",
          "2022",
          "2023"
         ],
         "categoryorder": "array",
         "domain": [
          0,
          1
         ],
         "tickangle": -45,
         "title": {
          "text": "<b>Year</b>"
         }
        },
        "yaxis": {
         "anchor": "x",
         "domain": [
          0,
          1
         ],
         "title": {
          "text": "<b>Views</b>"
         }
        }
       }
      }
     },
     "metadata": {},
     "output_type": "display_data"
    }
   ],
   "source": [
    "# Plot the sum of views over years\n",
    "fig = px.bar(views_by_year, x='created_year', y='views', color='created_year', title='<b>Total Views Over Years</b>')\n",
    "fig.update_layout(xaxis_title='<b>Year</b>', yaxis_title='<b>Views</b>', xaxis_tickangle=-45)\n",
    "fig.show()\n"
   ]
  },
  {
   "cell_type": "code",
   "execution_count": 46,
   "metadata": {},
   "outputs": [
    {
     "data": {
      "text/plain": [
       "views                          int64\n",
       "comments                       int64\n",
       "shares                         int64\n",
       "likes                          int64\n",
       "duration                       int64\n",
       "captions                      object\n",
       "hashtags                      object\n",
       "created_at            datetime64[ns]\n",
       "created_day                   object\n",
       "created_month                 object\n",
       "created_year                  object\n",
       "tokenized_captions            object\n",
       "filtered_captions             object\n",
       "caption_length                 int64\n",
       "split_hashtags                object\n",
       "dtype: object"
      ]
     },
     "execution_count": 46,
     "metadata": {},
     "output_type": "execute_result"
    }
   ],
   "source": [
    "df.dtypes"
   ]
  },
  {
   "cell_type": "code",
   "execution_count": 47,
   "metadata": {},
   "outputs": [],
   "source": [
    "average_views = df.groupby('duration')['views'].mean().reset_index()\n"
   ]
  },
  {
   "cell_type": "code",
   "execution_count": 48,
   "metadata": {},
   "outputs": [
    {
     "data": {
      "application/vnd.plotly.v1+json": {
       "config": {
        "plotlyServerURL": "https://plot.ly"
       },
       "data": [
        {
         "hovertemplate": "Video Duration=%{marker.color}<br>Average Views=%{y}<extra></extra>",
         "legendgroup": "",
         "marker": {
          "color": [
           4,
           5,
           6,
           7,
           8,
           9,
           10,
           11,
           12,
           13,
           14,
           15,
           16,
           17,
           18,
           19,
           20,
           21,
           22,
           23,
           24,
           25,
           26,
           27,
           28,
           29,
           30,
           31,
           32,
           33,
           34,
           35,
           36,
           37,
           38,
           39,
           40,
           41,
           42,
           43,
           44,
           45,
           46,
           48,
           49,
           50,
           53,
           54,
           55,
           56,
           57,
           58,
           59,
           60,
           61,
           81,
           84,
           105
          ],
          "coloraxis": "coloraxis",
          "symbol": "circle"
         },
         "mode": "markers",
         "name": "",
         "orientation": "v",
         "showlegend": false,
         "type": "scatter",
         "x": [
          4,
          5,
          6,
          7,
          8,
          9,
          10,
          11,
          12,
          13,
          14,
          15,
          16,
          17,
          18,
          19,
          20,
          21,
          22,
          23,
          24,
          25,
          26,
          27,
          28,
          29,
          30,
          31,
          32,
          33,
          34,
          35,
          36,
          37,
          38,
          39,
          40,
          41,
          42,
          43,
          44,
          45,
          46,
          48,
          49,
          50,
          53,
          54,
          55,
          56,
          57,
          58,
          59,
          60,
          61,
          81,
          84,
          105
         ],
         "xaxis": "x",
         "y": [
          1798,
          4707435,
          4317676.358974359,
          2333375.359375,
          1223985.1014492754,
          5382955.609195402,
          5715403.988636363,
          8457937.555555556,
          3171842.1923076925,
          3060999.290909091,
          3515156.5625,
          11042360.716049382,
          48437708,
          53337048.63636363,
          20751377,
          35400890.27272727,
          64867242.25,
          26907605.866666667,
          21447824.4,
          39789377.52941176,
          22489280.29411765,
          111806393.4375,
          54565244.64705882,
          24420695.333333332,
          54953554.2,
          19120000,
          50413066.4375,
          53431490.375,
          42385714.28571428,
          61737500,
          52918181.81818182,
          62966666.666666664,
          19200000,
          20068095.5,
          11233333.333333334,
          7581151.4,
          39840423.2,
          50700000,
          8325000,
          41900868.75,
          65685714.28571428,
          65800000,
          26901264,
          3086,
          26633333.333333332,
          11650000,
          3533,
          1000000,
          2035781.3333333333,
          9000000,
          14700541.666666666,
          9102436,
          13333844,
          13900000,
          33100000,
          6200000,
          9400000,
          5000000
         ],
         "yaxis": "y"
        }
       ],
       "layout": {
        "coloraxis": {
         "colorbar": {
          "title": {
           "text": "Video Duration"
          }
         },
         "colorscale": [
          [
           0,
           "#0d0887"
          ],
          [
           0.1111111111111111,
           "#46039f"
          ],
          [
           0.2222222222222222,
           "#7201a8"
          ],
          [
           0.3333333333333333,
           "#9c179e"
          ],
          [
           0.4444444444444444,
           "#bd3786"
          ],
          [
           0.5555555555555556,
           "#d8576b"
          ],
          [
           0.6666666666666666,
           "#ed7953"
          ],
          [
           0.7777777777777778,
           "#fb9f3a"
          ],
          [
           0.8888888888888888,
           "#fdca26"
          ],
          [
           1,
           "#f0f921"
          ]
         ]
        },
        "legend": {
         "tracegroupgap": 0
        },
        "template": {
         "data": {
          "bar": [
           {
            "error_x": {
             "color": "#2a3f5f"
            },
            "error_y": {
             "color": "#2a3f5f"
            },
            "marker": {
             "line": {
              "color": "#E5ECF6",
              "width": 0.5
             },
             "pattern": {
              "fillmode": "overlay",
              "size": 10,
              "solidity": 0.2
             }
            },
            "type": "bar"
           }
          ],
          "barpolar": [
           {
            "marker": {
             "line": {
              "color": "#E5ECF6",
              "width": 0.5
             },
             "pattern": {
              "fillmode": "overlay",
              "size": 10,
              "solidity": 0.2
             }
            },
            "type": "barpolar"
           }
          ],
          "carpet": [
           {
            "aaxis": {
             "endlinecolor": "#2a3f5f",
             "gridcolor": "white",
             "linecolor": "white",
             "minorgridcolor": "white",
             "startlinecolor": "#2a3f5f"
            },
            "baxis": {
             "endlinecolor": "#2a3f5f",
             "gridcolor": "white",
             "linecolor": "white",
             "minorgridcolor": "white",
             "startlinecolor": "#2a3f5f"
            },
            "type": "carpet"
           }
          ],
          "choropleth": [
           {
            "colorbar": {
             "outlinewidth": 0,
             "ticks": ""
            },
            "type": "choropleth"
           }
          ],
          "contour": [
           {
            "colorbar": {
             "outlinewidth": 0,
             "ticks": ""
            },
            "colorscale": [
             [
              0,
              "#0d0887"
             ],
             [
              0.1111111111111111,
              "#46039f"
             ],
             [
              0.2222222222222222,
              "#7201a8"
             ],
             [
              0.3333333333333333,
              "#9c179e"
             ],
             [
              0.4444444444444444,
              "#bd3786"
             ],
             [
              0.5555555555555556,
              "#d8576b"
             ],
             [
              0.6666666666666666,
              "#ed7953"
             ],
             [
              0.7777777777777778,
              "#fb9f3a"
             ],
             [
              0.8888888888888888,
              "#fdca26"
             ],
             [
              1,
              "#f0f921"
             ]
            ],
            "type": "contour"
           }
          ],
          "contourcarpet": [
           {
            "colorbar": {
             "outlinewidth": 0,
             "ticks": ""
            },
            "type": "contourcarpet"
           }
          ],
          "heatmap": [
           {
            "colorbar": {
             "outlinewidth": 0,
             "ticks": ""
            },
            "colorscale": [
             [
              0,
              "#0d0887"
             ],
             [
              0.1111111111111111,
              "#46039f"
             ],
             [
              0.2222222222222222,
              "#7201a8"
             ],
             [
              0.3333333333333333,
              "#9c179e"
             ],
             [
              0.4444444444444444,
              "#bd3786"
             ],
             [
              0.5555555555555556,
              "#d8576b"
             ],
             [
              0.6666666666666666,
              "#ed7953"
             ],
             [
              0.7777777777777778,
              "#fb9f3a"
             ],
             [
              0.8888888888888888,
              "#fdca26"
             ],
             [
              1,
              "#f0f921"
             ]
            ],
            "type": "heatmap"
           }
          ],
          "heatmapgl": [
           {
            "colorbar": {
             "outlinewidth": 0,
             "ticks": ""
            },
            "colorscale": [
             [
              0,
              "#0d0887"
             ],
             [
              0.1111111111111111,
              "#46039f"
             ],
             [
              0.2222222222222222,
              "#7201a8"
             ],
             [
              0.3333333333333333,
              "#9c179e"
             ],
             [
              0.4444444444444444,
              "#bd3786"
             ],
             [
              0.5555555555555556,
              "#d8576b"
             ],
             [
              0.6666666666666666,
              "#ed7953"
             ],
             [
              0.7777777777777778,
              "#fb9f3a"
             ],
             [
              0.8888888888888888,
              "#fdca26"
             ],
             [
              1,
              "#f0f921"
             ]
            ],
            "type": "heatmapgl"
           }
          ],
          "histogram": [
           {
            "marker": {
             "pattern": {
              "fillmode": "overlay",
              "size": 10,
              "solidity": 0.2
             }
            },
            "type": "histogram"
           }
          ],
          "histogram2d": [
           {
            "colorbar": {
             "outlinewidth": 0,
             "ticks": ""
            },
            "colorscale": [
             [
              0,
              "#0d0887"
             ],
             [
              0.1111111111111111,
              "#46039f"
             ],
             [
              0.2222222222222222,
              "#7201a8"
             ],
             [
              0.3333333333333333,
              "#9c179e"
             ],
             [
              0.4444444444444444,
              "#bd3786"
             ],
             [
              0.5555555555555556,
              "#d8576b"
             ],
             [
              0.6666666666666666,
              "#ed7953"
             ],
             [
              0.7777777777777778,
              "#fb9f3a"
             ],
             [
              0.8888888888888888,
              "#fdca26"
             ],
             [
              1,
              "#f0f921"
             ]
            ],
            "type": "histogram2d"
           }
          ],
          "histogram2dcontour": [
           {
            "colorbar": {
             "outlinewidth": 0,
             "ticks": ""
            },
            "colorscale": [
             [
              0,
              "#0d0887"
             ],
             [
              0.1111111111111111,
              "#46039f"
             ],
             [
              0.2222222222222222,
              "#7201a8"
             ],
             [
              0.3333333333333333,
              "#9c179e"
             ],
             [
              0.4444444444444444,
              "#bd3786"
             ],
             [
              0.5555555555555556,
              "#d8576b"
             ],
             [
              0.6666666666666666,
              "#ed7953"
             ],
             [
              0.7777777777777778,
              "#fb9f3a"
             ],
             [
              0.8888888888888888,
              "#fdca26"
             ],
             [
              1,
              "#f0f921"
             ]
            ],
            "type": "histogram2dcontour"
           }
          ],
          "mesh3d": [
           {
            "colorbar": {
             "outlinewidth": 0,
             "ticks": ""
            },
            "type": "mesh3d"
           }
          ],
          "parcoords": [
           {
            "line": {
             "colorbar": {
              "outlinewidth": 0,
              "ticks": ""
             }
            },
            "type": "parcoords"
           }
          ],
          "pie": [
           {
            "automargin": true,
            "type": "pie"
           }
          ],
          "scatter": [
           {
            "fillpattern": {
             "fillmode": "overlay",
             "size": 10,
             "solidity": 0.2
            },
            "type": "scatter"
           }
          ],
          "scatter3d": [
           {
            "line": {
             "colorbar": {
              "outlinewidth": 0,
              "ticks": ""
             }
            },
            "marker": {
             "colorbar": {
              "outlinewidth": 0,
              "ticks": ""
             }
            },
            "type": "scatter3d"
           }
          ],
          "scattercarpet": [
           {
            "marker": {
             "colorbar": {
              "outlinewidth": 0,
              "ticks": ""
             }
            },
            "type": "scattercarpet"
           }
          ],
          "scattergeo": [
           {
            "marker": {
             "colorbar": {
              "outlinewidth": 0,
              "ticks": ""
             }
            },
            "type": "scattergeo"
           }
          ],
          "scattergl": [
           {
            "marker": {
             "colorbar": {
              "outlinewidth": 0,
              "ticks": ""
             }
            },
            "type": "scattergl"
           }
          ],
          "scattermapbox": [
           {
            "marker": {
             "colorbar": {
              "outlinewidth": 0,
              "ticks": ""
             }
            },
            "type": "scattermapbox"
           }
          ],
          "scatterpolar": [
           {
            "marker": {
             "colorbar": {
              "outlinewidth": 0,
              "ticks": ""
             }
            },
            "type": "scatterpolar"
           }
          ],
          "scatterpolargl": [
           {
            "marker": {
             "colorbar": {
              "outlinewidth": 0,
              "ticks": ""
             }
            },
            "type": "scatterpolargl"
           }
          ],
          "scatterternary": [
           {
            "marker": {
             "colorbar": {
              "outlinewidth": 0,
              "ticks": ""
             }
            },
            "type": "scatterternary"
           }
          ],
          "surface": [
           {
            "colorbar": {
             "outlinewidth": 0,
             "ticks": ""
            },
            "colorscale": [
             [
              0,
              "#0d0887"
             ],
             [
              0.1111111111111111,
              "#46039f"
             ],
             [
              0.2222222222222222,
              "#7201a8"
             ],
             [
              0.3333333333333333,
              "#9c179e"
             ],
             [
              0.4444444444444444,
              "#bd3786"
             ],
             [
              0.5555555555555556,
              "#d8576b"
             ],
             [
              0.6666666666666666,
              "#ed7953"
             ],
             [
              0.7777777777777778,
              "#fb9f3a"
             ],
             [
              0.8888888888888888,
              "#fdca26"
             ],
             [
              1,
              "#f0f921"
             ]
            ],
            "type": "surface"
           }
          ],
          "table": [
           {
            "cells": {
             "fill": {
              "color": "#EBF0F8"
             },
             "line": {
              "color": "white"
             }
            },
            "header": {
             "fill": {
              "color": "#C8D4E3"
             },
             "line": {
              "color": "white"
             }
            },
            "type": "table"
           }
          ]
         },
         "layout": {
          "annotationdefaults": {
           "arrowcolor": "#2a3f5f",
           "arrowhead": 0,
           "arrowwidth": 1
          },
          "autotypenumbers": "strict",
          "coloraxis": {
           "colorbar": {
            "outlinewidth": 0,
            "ticks": ""
           }
          },
          "colorscale": {
           "diverging": [
            [
             0,
             "#8e0152"
            ],
            [
             0.1,
             "#c51b7d"
            ],
            [
             0.2,
             "#de77ae"
            ],
            [
             0.3,
             "#f1b6da"
            ],
            [
             0.4,
             "#fde0ef"
            ],
            [
             0.5,
             "#f7f7f7"
            ],
            [
             0.6,
             "#e6f5d0"
            ],
            [
             0.7,
             "#b8e186"
            ],
            [
             0.8,
             "#7fbc41"
            ],
            [
             0.9,
             "#4d9221"
            ],
            [
             1,
             "#276419"
            ]
           ],
           "sequential": [
            [
             0,
             "#0d0887"
            ],
            [
             0.1111111111111111,
             "#46039f"
            ],
            [
             0.2222222222222222,
             "#7201a8"
            ],
            [
             0.3333333333333333,
             "#9c179e"
            ],
            [
             0.4444444444444444,
             "#bd3786"
            ],
            [
             0.5555555555555556,
             "#d8576b"
            ],
            [
             0.6666666666666666,
             "#ed7953"
            ],
            [
             0.7777777777777778,
             "#fb9f3a"
            ],
            [
             0.8888888888888888,
             "#fdca26"
            ],
            [
             1,
             "#f0f921"
            ]
           ],
           "sequentialminus": [
            [
             0,
             "#0d0887"
            ],
            [
             0.1111111111111111,
             "#46039f"
            ],
            [
             0.2222222222222222,
             "#7201a8"
            ],
            [
             0.3333333333333333,
             "#9c179e"
            ],
            [
             0.4444444444444444,
             "#bd3786"
            ],
            [
             0.5555555555555556,
             "#d8576b"
            ],
            [
             0.6666666666666666,
             "#ed7953"
            ],
            [
             0.7777777777777778,
             "#fb9f3a"
            ],
            [
             0.8888888888888888,
             "#fdca26"
            ],
            [
             1,
             "#f0f921"
            ]
           ]
          },
          "colorway": [
           "#636efa",
           "#EF553B",
           "#00cc96",
           "#ab63fa",
           "#FFA15A",
           "#19d3f3",
           "#FF6692",
           "#B6E880",
           "#FF97FF",
           "#FECB52"
          ],
          "font": {
           "color": "#2a3f5f"
          },
          "geo": {
           "bgcolor": "white",
           "lakecolor": "white",
           "landcolor": "#E5ECF6",
           "showlakes": true,
           "showland": true,
           "subunitcolor": "white"
          },
          "hoverlabel": {
           "align": "left"
          },
          "hovermode": "closest",
          "mapbox": {
           "style": "light"
          },
          "paper_bgcolor": "white",
          "plot_bgcolor": "#E5ECF6",
          "polar": {
           "angularaxis": {
            "gridcolor": "white",
            "linecolor": "white",
            "ticks": ""
           },
           "bgcolor": "#E5ECF6",
           "radialaxis": {
            "gridcolor": "white",
            "linecolor": "white",
            "ticks": ""
           }
          },
          "scene": {
           "xaxis": {
            "backgroundcolor": "#E5ECF6",
            "gridcolor": "white",
            "gridwidth": 2,
            "linecolor": "white",
            "showbackground": true,
            "ticks": "",
            "zerolinecolor": "white"
           },
           "yaxis": {
            "backgroundcolor": "#E5ECF6",
            "gridcolor": "white",
            "gridwidth": 2,
            "linecolor": "white",
            "showbackground": true,
            "ticks": "",
            "zerolinecolor": "white"
           },
           "zaxis": {
            "backgroundcolor": "#E5ECF6",
            "gridcolor": "white",
            "gridwidth": 2,
            "linecolor": "white",
            "showbackground": true,
            "ticks": "",
            "zerolinecolor": "white"
           }
          },
          "shapedefaults": {
           "line": {
            "color": "#2a3f5f"
           }
          },
          "ternary": {
           "aaxis": {
            "gridcolor": "white",
            "linecolor": "white",
            "ticks": ""
           },
           "baxis": {
            "gridcolor": "white",
            "linecolor": "white",
            "ticks": ""
           },
           "bgcolor": "#E5ECF6",
           "caxis": {
            "gridcolor": "white",
            "linecolor": "white",
            "ticks": ""
           }
          },
          "title": {
           "x": 0.05
          },
          "xaxis": {
           "automargin": true,
           "gridcolor": "white",
           "linecolor": "white",
           "ticks": "",
           "title": {
            "standoff": 15
           },
           "zerolinecolor": "white",
           "zerolinewidth": 2
          },
          "yaxis": {
           "automargin": true,
           "gridcolor": "white",
           "linecolor": "white",
           "ticks": "",
           "title": {
            "standoff": 15
           },
           "zerolinecolor": "white",
           "zerolinewidth": 2
          }
         }
        },
        "title": {
         "text": "<b>What is the video duration that tends to attract more views?</b>"
        },
        "xaxis": {
         "anchor": "y",
         "domain": [
          0,
          1
         ],
         "title": {
          "text": "<b>Duration</b>"
         }
        },
        "yaxis": {
         "anchor": "x",
         "domain": [
          0,
          1
         ],
         "title": {
          "text": "<b>Average Views</b>"
         }
        }
       }
      }
     },
     "metadata": {},
     "output_type": "display_data"
    }
   ],
   "source": [
    "fig = px.scatter(average_views, x='duration', y='views', color='duration', labels={'duration': 'Video Duration', 'views': 'Average Views'},\n",
    "                 title='<b>What is the video duration that tends to attract more views?</b>')\n",
    "\n",
    "\n",
    "fig.update_layout(xaxis_title='<b>Duration</b>', yaxis_title='<b>Average Views</b>')\n",
    "fig.show()\n"
   ]
  },
  {
   "cell_type": "code",
   "execution_count": 49,
   "metadata": {},
   "outputs": [
    {
     "data": {
      "text/html": [
       "<div>\n",
       "<style scoped>\n",
       "    .dataframe tbody tr th:only-of-type {\n",
       "        vertical-align: middle;\n",
       "    }\n",
       "\n",
       "    .dataframe tbody tr th {\n",
       "        vertical-align: top;\n",
       "    }\n",
       "\n",
       "    .dataframe thead th {\n",
       "        text-align: right;\n",
       "    }\n",
       "</style>\n",
       "<table border=\"1\" class=\"dataframe\">\n",
       "  <thead>\n",
       "    <tr style=\"text-align: right;\">\n",
       "      <th></th>\n",
       "      <th>views</th>\n",
       "      <th>comments</th>\n",
       "      <th>shares</th>\n",
       "      <th>likes</th>\n",
       "      <th>duration</th>\n",
       "      <th>captions</th>\n",
       "      <th>hashtags</th>\n",
       "      <th>created_at</th>\n",
       "      <th>created_day</th>\n",
       "      <th>created_month</th>\n",
       "      <th>created_year</th>\n",
       "      <th>tokenized_captions</th>\n",
       "      <th>filtered_captions</th>\n",
       "      <th>caption_length</th>\n",
       "      <th>split_hashtags</th>\n",
       "    </tr>\n",
       "  </thead>\n",
       "  <tbody>\n",
       "    <tr>\n",
       "      <th>0</th>\n",
       "      <td>3000000</td>\n",
       "      <td>5006</td>\n",
       "      <td>1164</td>\n",
       "      <td>3504</td>\n",
       "      <td>23</td>\n",
       "      <td>I think Ill order online shopping for today le...</td>\n",
       "      <td>learnfromkhaby, comic, commedy</td>\n",
       "      <td>2023-06-12</td>\n",
       "      <td>Monday</td>\n",
       "      <td>June</td>\n",
       "      <td>2023</td>\n",
       "      <td>[I, think, Ill, order, online, shopping, for, ...</td>\n",
       "      <td>[think, Ill, order, online, shopping, today, l...</td>\n",
       "      <td>73</td>\n",
       "      <td>learnfromkhaby</td>\n",
       "    </tr>\n",
       "    <tr>\n",
       "      <th>0</th>\n",
       "      <td>3000000</td>\n",
       "      <td>5006</td>\n",
       "      <td>1164</td>\n",
       "      <td>3504</td>\n",
       "      <td>23</td>\n",
       "      <td>I think Ill order online shopping for today le...</td>\n",
       "      <td>learnfromkhaby, comic, commedy</td>\n",
       "      <td>2023-06-12</td>\n",
       "      <td>Monday</td>\n",
       "      <td>June</td>\n",
       "      <td>2023</td>\n",
       "      <td>[I, think, Ill, order, online, shopping, for, ...</td>\n",
       "      <td>[think, Ill, order, online, shopping, today, l...</td>\n",
       "      <td>73</td>\n",
       "      <td>comic</td>\n",
       "    </tr>\n",
       "    <tr>\n",
       "      <th>0</th>\n",
       "      <td>3000000</td>\n",
       "      <td>5006</td>\n",
       "      <td>1164</td>\n",
       "      <td>3504</td>\n",
       "      <td>23</td>\n",
       "      <td>I think Ill order online shopping for today le...</td>\n",
       "      <td>learnfromkhaby, comic, commedy</td>\n",
       "      <td>2023-06-12</td>\n",
       "      <td>Monday</td>\n",
       "      <td>June</td>\n",
       "      <td>2023</td>\n",
       "      <td>[I, think, Ill, order, online, shopping, for, ...</td>\n",
       "      <td>[think, Ill, order, online, shopping, today, l...</td>\n",
       "      <td>73</td>\n",
       "      <td>commedy</td>\n",
       "    </tr>\n",
       "    <tr>\n",
       "      <th>1</th>\n",
       "      <td>10800000</td>\n",
       "      <td>7425</td>\n",
       "      <td>1674</td>\n",
       "      <td>8491</td>\n",
       "      <td>31</td>\n",
       "      <td>I hope you will appreciate my little house  It...</td>\n",
       "      <td>learnfromkhaby, comic, commedy</td>\n",
       "      <td>2023-06-07</td>\n",
       "      <td>Wednesday</td>\n",
       "      <td>June</td>\n",
       "      <td>2023</td>\n",
       "      <td>[I, hope, you, will, appreciate, my, little, h...</td>\n",
       "      <td>[hope, appreciate, little, house, learnfromkha...</td>\n",
       "      <td>87</td>\n",
       "      <td>learnfromkhaby</td>\n",
       "    </tr>\n",
       "    <tr>\n",
       "      <th>1</th>\n",
       "      <td>10800000</td>\n",
       "      <td>7425</td>\n",
       "      <td>1674</td>\n",
       "      <td>8491</td>\n",
       "      <td>31</td>\n",
       "      <td>I hope you will appreciate my little house  It...</td>\n",
       "      <td>learnfromkhaby, comic, commedy</td>\n",
       "      <td>2023-06-07</td>\n",
       "      <td>Wednesday</td>\n",
       "      <td>June</td>\n",
       "      <td>2023</td>\n",
       "      <td>[I, hope, you, will, appreciate, my, little, h...</td>\n",
       "      <td>[hope, appreciate, little, house, learnfromkha...</td>\n",
       "      <td>87</td>\n",
       "      <td>comic</td>\n",
       "    </tr>\n",
       "    <tr>\n",
       "      <th>...</th>\n",
       "      <td>...</td>\n",
       "      <td>...</td>\n",
       "      <td>...</td>\n",
       "      <td>...</td>\n",
       "      <td>...</td>\n",
       "      <td>...</td>\n",
       "      <td>...</td>\n",
       "      <td>...</td>\n",
       "      <td>...</td>\n",
       "      <td>...</td>\n",
       "      <td>...</td>\n",
       "      <td>...</td>\n",
       "      <td>...</td>\n",
       "      <td>...</td>\n",
       "      <td>...</td>\n",
       "    </tr>\n",
       "    <tr>\n",
       "      <th>1075</th>\n",
       "      <td>9013</td>\n",
       "      <td>132</td>\n",
       "      <td>653</td>\n",
       "      <td>508</td>\n",
       "      <td>14</td>\n",
       "      <td>foryoupage comic</td>\n",
       "      <td>learnfromkhaby, learnontiktok</td>\n",
       "      <td>2020-03-19</td>\n",
       "      <td>Thursday</td>\n",
       "      <td>March</td>\n",
       "      <td>2020</td>\n",
       "      <td>[foryoupage, comic]</td>\n",
       "      <td>[foryoupage, comic]</td>\n",
       "      <td>16</td>\n",
       "      <td>learnontiktok</td>\n",
       "    </tr>\n",
       "    <tr>\n",
       "      <th>1076</th>\n",
       "      <td>1300000</td>\n",
       "      <td>3152</td>\n",
       "      <td>867</td>\n",
       "      <td>764</td>\n",
       "      <td>15</td>\n",
       "      <td>foryoupage comic</td>\n",
       "      <td>learnfromkhaby, learnontiktok</td>\n",
       "      <td>2020-03-17</td>\n",
       "      <td>Tuesday</td>\n",
       "      <td>March</td>\n",
       "      <td>2020</td>\n",
       "      <td>[foryoupage, comic]</td>\n",
       "      <td>[foryoupage, comic]</td>\n",
       "      <td>16</td>\n",
       "      <td>learnfromkhaby</td>\n",
       "    </tr>\n",
       "    <tr>\n",
       "      <th>1076</th>\n",
       "      <td>1300000</td>\n",
       "      <td>3152</td>\n",
       "      <td>867</td>\n",
       "      <td>764</td>\n",
       "      <td>15</td>\n",
       "      <td>foryoupage comic</td>\n",
       "      <td>learnfromkhaby, learnontiktok</td>\n",
       "      <td>2020-03-17</td>\n",
       "      <td>Tuesday</td>\n",
       "      <td>March</td>\n",
       "      <td>2020</td>\n",
       "      <td>[foryoupage, comic]</td>\n",
       "      <td>[foryoupage, comic]</td>\n",
       "      <td>16</td>\n",
       "      <td>learnontiktok</td>\n",
       "    </tr>\n",
       "    <tr>\n",
       "      <th>1077</th>\n",
       "      <td>2400000</td>\n",
       "      <td>896</td>\n",
       "      <td>134</td>\n",
       "      <td>3057</td>\n",
       "      <td>15</td>\n",
       "      <td>foryoupage comic</td>\n",
       "      <td>learnfromkhaby, learnontiktok</td>\n",
       "      <td>2020-03-15</td>\n",
       "      <td>Sunday</td>\n",
       "      <td>March</td>\n",
       "      <td>2020</td>\n",
       "      <td>[foryoupage, comic]</td>\n",
       "      <td>[foryoupage, comic]</td>\n",
       "      <td>16</td>\n",
       "      <td>learnfromkhaby</td>\n",
       "    </tr>\n",
       "    <tr>\n",
       "      <th>1077</th>\n",
       "      <td>2400000</td>\n",
       "      <td>896</td>\n",
       "      <td>134</td>\n",
       "      <td>3057</td>\n",
       "      <td>15</td>\n",
       "      <td>foryoupage comic</td>\n",
       "      <td>learnfromkhaby, learnontiktok</td>\n",
       "      <td>2020-03-15</td>\n",
       "      <td>Sunday</td>\n",
       "      <td>March</td>\n",
       "      <td>2020</td>\n",
       "      <td>[foryoupage, comic]</td>\n",
       "      <td>[foryoupage, comic]</td>\n",
       "      <td>16</td>\n",
       "      <td>learnontiktok</td>\n",
       "    </tr>\n",
       "  </tbody>\n",
       "</table>\n",
       "<p>3673 rows × 15 columns</p>\n",
       "</div>"
      ],
      "text/plain": [
       "         views  comments  shares  likes  duration  \\\n",
       "0      3000000      5006    1164   3504        23   \n",
       "0      3000000      5006    1164   3504        23   \n",
       "0      3000000      5006    1164   3504        23   \n",
       "1     10800000      7425    1674   8491        31   \n",
       "1     10800000      7425    1674   8491        31   \n",
       "...        ...       ...     ...    ...       ...   \n",
       "1075      9013       132     653    508        14   \n",
       "1076   1300000      3152     867    764        15   \n",
       "1076   1300000      3152     867    764        15   \n",
       "1077   2400000       896     134   3057        15   \n",
       "1077   2400000       896     134   3057        15   \n",
       "\n",
       "                                               captions  \\\n",
       "0     I think Ill order online shopping for today le...   \n",
       "0     I think Ill order online shopping for today le...   \n",
       "0     I think Ill order online shopping for today le...   \n",
       "1     I hope you will appreciate my little house  It...   \n",
       "1     I hope you will appreciate my little house  It...   \n",
       "...                                                 ...   \n",
       "1075                                   foryoupage comic   \n",
       "1076                                   foryoupage comic   \n",
       "1076                                   foryoupage comic   \n",
       "1077                                   foryoupage comic   \n",
       "1077                                   foryoupage comic   \n",
       "\n",
       "                            hashtags created_at created_day created_month  \\\n",
       "0     learnfromkhaby, comic, commedy 2023-06-12      Monday          June   \n",
       "0     learnfromkhaby, comic, commedy 2023-06-12      Monday          June   \n",
       "0     learnfromkhaby, comic, commedy 2023-06-12      Monday          June   \n",
       "1     learnfromkhaby, comic, commedy 2023-06-07   Wednesday          June   \n",
       "1     learnfromkhaby, comic, commedy 2023-06-07   Wednesday          June   \n",
       "...                              ...        ...         ...           ...   \n",
       "1075   learnfromkhaby, learnontiktok 2020-03-19    Thursday         March   \n",
       "1076   learnfromkhaby, learnontiktok 2020-03-17     Tuesday         March   \n",
       "1076   learnfromkhaby, learnontiktok 2020-03-17     Tuesday         March   \n",
       "1077   learnfromkhaby, learnontiktok 2020-03-15      Sunday         March   \n",
       "1077   learnfromkhaby, learnontiktok 2020-03-15      Sunday         March   \n",
       "\n",
       "     created_year                                 tokenized_captions  \\\n",
       "0            2023  [I, think, Ill, order, online, shopping, for, ...   \n",
       "0            2023  [I, think, Ill, order, online, shopping, for, ...   \n",
       "0            2023  [I, think, Ill, order, online, shopping, for, ...   \n",
       "1            2023  [I, hope, you, will, appreciate, my, little, h...   \n",
       "1            2023  [I, hope, you, will, appreciate, my, little, h...   \n",
       "...           ...                                                ...   \n",
       "1075         2020                                [foryoupage, comic]   \n",
       "1076         2020                                [foryoupage, comic]   \n",
       "1076         2020                                [foryoupage, comic]   \n",
       "1077         2020                                [foryoupage, comic]   \n",
       "1077         2020                                [foryoupage, comic]   \n",
       "\n",
       "                                      filtered_captions  caption_length  \\\n",
       "0     [think, Ill, order, online, shopping, today, l...              73   \n",
       "0     [think, Ill, order, online, shopping, today, l...              73   \n",
       "0     [think, Ill, order, online, shopping, today, l...              73   \n",
       "1     [hope, appreciate, little, house, learnfromkha...              87   \n",
       "1     [hope, appreciate, little, house, learnfromkha...              87   \n",
       "...                                                 ...             ...   \n",
       "1075                                [foryoupage, comic]              16   \n",
       "1076                                [foryoupage, comic]              16   \n",
       "1076                                [foryoupage, comic]              16   \n",
       "1077                                [foryoupage, comic]              16   \n",
       "1077                                [foryoupage, comic]              16   \n",
       "\n",
       "      split_hashtags  \n",
       "0     learnfromkhaby  \n",
       "0              comic  \n",
       "0            commedy  \n",
       "1     learnfromkhaby  \n",
       "1              comic  \n",
       "...              ...  \n",
       "1075   learnontiktok  \n",
       "1076  learnfromkhaby  \n",
       "1076   learnontiktok  \n",
       "1077  learnfromkhaby  \n",
       "1077   learnontiktok  \n",
       "\n",
       "[3673 rows x 15 columns]"
      ]
     },
     "execution_count": 49,
     "metadata": {},
     "output_type": "execute_result"
    }
   ],
   "source": [
    "df_exploded = df.explode('split_hashtags')\n",
    "df_exploded\n"
   ]
  },
  {
   "cell_type": "code",
   "execution_count": 50,
   "metadata": {},
   "outputs": [],
   "source": [
    "hashtag_views = df_exploded.groupby('split_hashtags')['views'].sum().reset_index()\n"
   ]
  },
  {
   "cell_type": "code",
   "execution_count": 51,
   "metadata": {},
   "outputs": [],
   "source": [
    "hashtag_views_sorted = hashtag_views.sort_values('views', ascending=False)\n",
    "\n",
    "# Select the top 10 most commonly used hashtags\n",
    "top_10_hashtags = hashtag_views_sorted.head(10)\n"
   ]
  },
  {
   "cell_type": "code",
   "execution_count": 52,
   "metadata": {},
   "outputs": [
    {
     "data": {
      "application/vnd.plotly.v1+json": {
       "config": {
        "plotlyServerURL": "https://plot.ly"
       },
       "data": [
        {
         "alignmentgroup": "True",
         "hovertemplate": "Hashtag=%{x}<br>Total Views=%{y}<extra></extra>",
         "legendgroup": "learnfromkhaby",
         "marker": {
          "color": "#636efa",
          "pattern": {
           "shape": ""
          }
         },
         "name": "learnfromkhaby",
         "offsetgroup": "learnfromkhaby",
         "orientation": "v",
         "showlegend": true,
         "textposition": "auto",
         "type": "bar",
         "x": [
          "learnfromkhaby"
         ],
         "xaxis": "x",
         "y": [
          14637248150
         ],
         "yaxis": "y"
        },
        {
         "alignmentgroup": "True",
         "hovertemplate": "Hashtag=%{x}<br>Total Views=%{y}<extra></extra>",
         "legendgroup": "learnwithtiktok",
         "marker": {
          "color": "#EF553B",
          "pattern": {
           "shape": ""
          }
         },
         "name": "learnwithtiktok",
         "offsetgroup": "learnwithtiktok",
         "orientation": "v",
         "showlegend": true,
         "textposition": "auto",
         "type": "bar",
         "x": [
          "learnwithtiktok"
         ],
         "xaxis": "x",
         "y": [
          7062800000
         ],
         "yaxis": "y"
        },
        {
         "alignmentgroup": "True",
         "hovertemplate": "Hashtag=%{x}<br>Total Views=%{y}<extra></extra>",
         "legendgroup": "imparacontiktok",
         "marker": {
          "color": "#00cc96",
          "pattern": {
           "shape": ""
          }
         },
         "name": "imparacontiktok",
         "offsetgroup": "imparacontiktok",
         "orientation": "v",
         "showlegend": true,
         "textposition": "auto",
         "type": "bar",
         "x": [
          "imparacontiktok"
         ],
         "xaxis": "x",
         "y": [
          5712100000
         ],
         "yaxis": "y"
        },
        {
         "alignmentgroup": "True",
         "hovertemplate": "Hashtag=%{x}<br>Total Views=%{y}<extra></extra>",
         "legendgroup": "learnontiktok",
         "marker": {
          "color": "#ab63fa",
          "pattern": {
           "shape": ""
          }
         },
         "name": "learnontiktok",
         "offsetgroup": "learnontiktok",
         "orientation": "v",
         "showlegend": true,
         "textposition": "auto",
         "type": "bar",
         "x": [
          "learnontiktok"
         ],
         "xaxis": "x",
         "y": [
          5154748150
         ],
         "yaxis": "y"
        },
        {
         "alignmentgroup": "True",
         "hovertemplate": "Hashtag=%{x}<br>Total Views=%{y}<extra></extra>",
         "legendgroup": "comic",
         "marker": {
          "color": "#FFA15A",
          "pattern": {
           "shape": ""
          }
         },
         "name": "comic",
         "offsetgroup": "comic",
         "orientation": "v",
         "showlegend": true,
         "textposition": "auto",
         "type": "bar",
         "x": [
          "comic"
         ],
         "xaxis": "x",
         "y": [
          2030627390
         ],
         "yaxis": "y"
        },
        {
         "alignmentgroup": "True",
         "hovertemplate": "Hashtag=%{x}<br>Total Views=%{y}<extra></extra>",
         "legendgroup": "stitch",
         "marker": {
          "color": "#19d3f3",
          "pattern": {
           "shape": ""
          }
         },
         "name": "stitch",
         "offsetgroup": "stitch",
         "orientation": "v",
         "showlegend": true,
         "textposition": "auto",
         "type": "bar",
         "x": [
          "stitch"
         ],
         "xaxis": "x",
         "y": [
          1444233725
         ],
         "yaxis": "y"
        },
        {
         "alignmentgroup": "True",
         "hovertemplate": "Hashtag=%{x}<br>Total Views=%{y}<extra></extra>",
         "legendgroup": "foryoupage",
         "marker": {
          "color": "#FF6692",
          "pattern": {
           "shape": ""
          }
         },
         "name": "foryoupage",
         "offsetgroup": "foryoupage",
         "orientation": "v",
         "showlegend": true,
         "textposition": "auto",
         "type": "bar",
         "x": [
          "foryoupage"
         ],
         "xaxis": "x",
         "y": [
          1038095220
         ],
         "yaxis": "y"
        },
        {
         "alignmentgroup": "True",
         "hovertemplate": "Hashtag=%{x}<br>Total Views=%{y}<extra></extra>",
         "legendgroup": "learnfromkhabi",
         "marker": {
          "color": "#B6E880",
          "pattern": {
           "shape": ""
          }
         },
         "name": "learnfromkhabi",
         "offsetgroup": "learnfromkhabi",
         "orientation": "v",
         "showlegend": true,
         "textposition": "auto",
         "type": "bar",
         "x": [
          "learnfromkhabi"
         ],
         "xaxis": "x",
         "y": [
          588300000
         ],
         "yaxis": "y"
        },
        {
         "alignmentgroup": "True",
         "hovertemplate": "Hashtag=%{x}<br>Total Views=%{y}<extra></extra>",
         "legendgroup": "leanfromkhaby",
         "marker": {
          "color": "#FF97FF",
          "pattern": {
           "shape": ""
          }
         },
         "name": "leanfromkhaby",
         "offsetgroup": "leanfromkhaby",
         "orientation": "v",
         "showlegend": true,
         "textposition": "auto",
         "type": "bar",
         "x": [
          "leanfromkhaby"
         ],
         "xaxis": "x",
         "y": [
          440600000
         ],
         "yaxis": "y"
        },
        {
         "alignmentgroup": "True",
         "hovertemplate": "Hashtag=%{x}<br>Total Views=%{y}<extra></extra>",
         "legendgroup": "khabylame",
         "marker": {
          "color": "#FECB52",
          "pattern": {
           "shape": ""
          }
         },
         "name": "khabylame",
         "offsetgroup": "khabylame",
         "orientation": "v",
         "showlegend": true,
         "textposition": "auto",
         "type": "bar",
         "x": [
          "khabylame"
         ],
         "xaxis": "x",
         "y": [
          352900000
         ],
         "yaxis": "y"
        }
       ],
       "layout": {
        "barmode": "relative",
        "legend": {
         "title": {
          "text": "Hashtag"
         },
         "tracegroupgap": 0
        },
        "template": {
         "data": {
          "bar": [
           {
            "error_x": {
             "color": "#2a3f5f"
            },
            "error_y": {
             "color": "#2a3f5f"
            },
            "marker": {
             "line": {
              "color": "#E5ECF6",
              "width": 0.5
             },
             "pattern": {
              "fillmode": "overlay",
              "size": 10,
              "solidity": 0.2
             }
            },
            "type": "bar"
           }
          ],
          "barpolar": [
           {
            "marker": {
             "line": {
              "color": "#E5ECF6",
              "width": 0.5
             },
             "pattern": {
              "fillmode": "overlay",
              "size": 10,
              "solidity": 0.2
             }
            },
            "type": "barpolar"
           }
          ],
          "carpet": [
           {
            "aaxis": {
             "endlinecolor": "#2a3f5f",
             "gridcolor": "white",
             "linecolor": "white",
             "minorgridcolor": "white",
             "startlinecolor": "#2a3f5f"
            },
            "baxis": {
             "endlinecolor": "#2a3f5f",
             "gridcolor": "white",
             "linecolor": "white",
             "minorgridcolor": "white",
             "startlinecolor": "#2a3f5f"
            },
            "type": "carpet"
           }
          ],
          "choropleth": [
           {
            "colorbar": {
             "outlinewidth": 0,
             "ticks": ""
            },
            "type": "choropleth"
           }
          ],
          "contour": [
           {
            "colorbar": {
             "outlinewidth": 0,
             "ticks": ""
            },
            "colorscale": [
             [
              0,
              "#0d0887"
             ],
             [
              0.1111111111111111,
              "#46039f"
             ],
             [
              0.2222222222222222,
              "#7201a8"
             ],
             [
              0.3333333333333333,
              "#9c179e"
             ],
             [
              0.4444444444444444,
              "#bd3786"
             ],
             [
              0.5555555555555556,
              "#d8576b"
             ],
             [
              0.6666666666666666,
              "#ed7953"
             ],
             [
              0.7777777777777778,
              "#fb9f3a"
             ],
             [
              0.8888888888888888,
              "#fdca26"
             ],
             [
              1,
              "#f0f921"
             ]
            ],
            "type": "contour"
           }
          ],
          "contourcarpet": [
           {
            "colorbar": {
             "outlinewidth": 0,
             "ticks": ""
            },
            "type": "contourcarpet"
           }
          ],
          "heatmap": [
           {
            "colorbar": {
             "outlinewidth": 0,
             "ticks": ""
            },
            "colorscale": [
             [
              0,
              "#0d0887"
             ],
             [
              0.1111111111111111,
              "#46039f"
             ],
             [
              0.2222222222222222,
              "#7201a8"
             ],
             [
              0.3333333333333333,
              "#9c179e"
             ],
             [
              0.4444444444444444,
              "#bd3786"
             ],
             [
              0.5555555555555556,
              "#d8576b"
             ],
             [
              0.6666666666666666,
              "#ed7953"
             ],
             [
              0.7777777777777778,
              "#fb9f3a"
             ],
             [
              0.8888888888888888,
              "#fdca26"
             ],
             [
              1,
              "#f0f921"
             ]
            ],
            "type": "heatmap"
           }
          ],
          "heatmapgl": [
           {
            "colorbar": {
             "outlinewidth": 0,
             "ticks": ""
            },
            "colorscale": [
             [
              0,
              "#0d0887"
             ],
             [
              0.1111111111111111,
              "#46039f"
             ],
             [
              0.2222222222222222,
              "#7201a8"
             ],
             [
              0.3333333333333333,
              "#9c179e"
             ],
             [
              0.4444444444444444,
              "#bd3786"
             ],
             [
              0.5555555555555556,
              "#d8576b"
             ],
             [
              0.6666666666666666,
              "#ed7953"
             ],
             [
              0.7777777777777778,
              "#fb9f3a"
             ],
             [
              0.8888888888888888,
              "#fdca26"
             ],
             [
              1,
              "#f0f921"
             ]
            ],
            "type": "heatmapgl"
           }
          ],
          "histogram": [
           {
            "marker": {
             "pattern": {
              "fillmode": "overlay",
              "size": 10,
              "solidity": 0.2
             }
            },
            "type": "histogram"
           }
          ],
          "histogram2d": [
           {
            "colorbar": {
             "outlinewidth": 0,
             "ticks": ""
            },
            "colorscale": [
             [
              0,
              "#0d0887"
             ],
             [
              0.1111111111111111,
              "#46039f"
             ],
             [
              0.2222222222222222,
              "#7201a8"
             ],
             [
              0.3333333333333333,
              "#9c179e"
             ],
             [
              0.4444444444444444,
              "#bd3786"
             ],
             [
              0.5555555555555556,
              "#d8576b"
             ],
             [
              0.6666666666666666,
              "#ed7953"
             ],
             [
              0.7777777777777778,
              "#fb9f3a"
             ],
             [
              0.8888888888888888,
              "#fdca26"
             ],
             [
              1,
              "#f0f921"
             ]
            ],
            "type": "histogram2d"
           }
          ],
          "histogram2dcontour": [
           {
            "colorbar": {
             "outlinewidth": 0,
             "ticks": ""
            },
            "colorscale": [
             [
              0,
              "#0d0887"
             ],
             [
              0.1111111111111111,
              "#46039f"
             ],
             [
              0.2222222222222222,
              "#7201a8"
             ],
             [
              0.3333333333333333,
              "#9c179e"
             ],
             [
              0.4444444444444444,
              "#bd3786"
             ],
             [
              0.5555555555555556,
              "#d8576b"
             ],
             [
              0.6666666666666666,
              "#ed7953"
             ],
             [
              0.7777777777777778,
              "#fb9f3a"
             ],
             [
              0.8888888888888888,
              "#fdca26"
             ],
             [
              1,
              "#f0f921"
             ]
            ],
            "type": "histogram2dcontour"
           }
          ],
          "mesh3d": [
           {
            "colorbar": {
             "outlinewidth": 0,
             "ticks": ""
            },
            "type": "mesh3d"
           }
          ],
          "parcoords": [
           {
            "line": {
             "colorbar": {
              "outlinewidth": 0,
              "ticks": ""
             }
            },
            "type": "parcoords"
           }
          ],
          "pie": [
           {
            "automargin": true,
            "type": "pie"
           }
          ],
          "scatter": [
           {
            "fillpattern": {
             "fillmode": "overlay",
             "size": 10,
             "solidity": 0.2
            },
            "type": "scatter"
           }
          ],
          "scatter3d": [
           {
            "line": {
             "colorbar": {
              "outlinewidth": 0,
              "ticks": ""
             }
            },
            "marker": {
             "colorbar": {
              "outlinewidth": 0,
              "ticks": ""
             }
            },
            "type": "scatter3d"
           }
          ],
          "scattercarpet": [
           {
            "marker": {
             "colorbar": {
              "outlinewidth": 0,
              "ticks": ""
             }
            },
            "type": "scattercarpet"
           }
          ],
          "scattergeo": [
           {
            "marker": {
             "colorbar": {
              "outlinewidth": 0,
              "ticks": ""
             }
            },
            "type": "scattergeo"
           }
          ],
          "scattergl": [
           {
            "marker": {
             "colorbar": {
              "outlinewidth": 0,
              "ticks": ""
             }
            },
            "type": "scattergl"
           }
          ],
          "scattermapbox": [
           {
            "marker": {
             "colorbar": {
              "outlinewidth": 0,
              "ticks": ""
             }
            },
            "type": "scattermapbox"
           }
          ],
          "scatterpolar": [
           {
            "marker": {
             "colorbar": {
              "outlinewidth": 0,
              "ticks": ""
             }
            },
            "type": "scatterpolar"
           }
          ],
          "scatterpolargl": [
           {
            "marker": {
             "colorbar": {
              "outlinewidth": 0,
              "ticks": ""
             }
            },
            "type": "scatterpolargl"
           }
          ],
          "scatterternary": [
           {
            "marker": {
             "colorbar": {
              "outlinewidth": 0,
              "ticks": ""
             }
            },
            "type": "scatterternary"
           }
          ],
          "surface": [
           {
            "colorbar": {
             "outlinewidth": 0,
             "ticks": ""
            },
            "colorscale": [
             [
              0,
              "#0d0887"
             ],
             [
              0.1111111111111111,
              "#46039f"
             ],
             [
              0.2222222222222222,
              "#7201a8"
             ],
             [
              0.3333333333333333,
              "#9c179e"
             ],
             [
              0.4444444444444444,
              "#bd3786"
             ],
             [
              0.5555555555555556,
              "#d8576b"
             ],
             [
              0.6666666666666666,
              "#ed7953"
             ],
             [
              0.7777777777777778,
              "#fb9f3a"
             ],
             [
              0.8888888888888888,
              "#fdca26"
             ],
             [
              1,
              "#f0f921"
             ]
            ],
            "type": "surface"
           }
          ],
          "table": [
           {
            "cells": {
             "fill": {
              "color": "#EBF0F8"
             },
             "line": {
              "color": "white"
             }
            },
            "header": {
             "fill": {
              "color": "#C8D4E3"
             },
             "line": {
              "color": "white"
             }
            },
            "type": "table"
           }
          ]
         },
         "layout": {
          "annotationdefaults": {
           "arrowcolor": "#2a3f5f",
           "arrowhead": 0,
           "arrowwidth": 1
          },
          "autotypenumbers": "strict",
          "coloraxis": {
           "colorbar": {
            "outlinewidth": 0,
            "ticks": ""
           }
          },
          "colorscale": {
           "diverging": [
            [
             0,
             "#8e0152"
            ],
            [
             0.1,
             "#c51b7d"
            ],
            [
             0.2,
             "#de77ae"
            ],
            [
             0.3,
             "#f1b6da"
            ],
            [
             0.4,
             "#fde0ef"
            ],
            [
             0.5,
             "#f7f7f7"
            ],
            [
             0.6,
             "#e6f5d0"
            ],
            [
             0.7,
             "#b8e186"
            ],
            [
             0.8,
             "#7fbc41"
            ],
            [
             0.9,
             "#4d9221"
            ],
            [
             1,
             "#276419"
            ]
           ],
           "sequential": [
            [
             0,
             "#0d0887"
            ],
            [
             0.1111111111111111,
             "#46039f"
            ],
            [
             0.2222222222222222,
             "#7201a8"
            ],
            [
             0.3333333333333333,
             "#9c179e"
            ],
            [
             0.4444444444444444,
             "#bd3786"
            ],
            [
             0.5555555555555556,
             "#d8576b"
            ],
            [
             0.6666666666666666,
             "#ed7953"
            ],
            [
             0.7777777777777778,
             "#fb9f3a"
            ],
            [
             0.8888888888888888,
             "#fdca26"
            ],
            [
             1,
             "#f0f921"
            ]
           ],
           "sequentialminus": [
            [
             0,
             "#0d0887"
            ],
            [
             0.1111111111111111,
             "#46039f"
            ],
            [
             0.2222222222222222,
             "#7201a8"
            ],
            [
             0.3333333333333333,
             "#9c179e"
            ],
            [
             0.4444444444444444,
             "#bd3786"
            ],
            [
             0.5555555555555556,
             "#d8576b"
            ],
            [
             0.6666666666666666,
             "#ed7953"
            ],
            [
             0.7777777777777778,
             "#fb9f3a"
            ],
            [
             0.8888888888888888,
             "#fdca26"
            ],
            [
             1,
             "#f0f921"
            ]
           ]
          },
          "colorway": [
           "#636efa",
           "#EF553B",
           "#00cc96",
           "#ab63fa",
           "#FFA15A",
           "#19d3f3",
           "#FF6692",
           "#B6E880",
           "#FF97FF",
           "#FECB52"
          ],
          "font": {
           "color": "#2a3f5f"
          },
          "geo": {
           "bgcolor": "white",
           "lakecolor": "white",
           "landcolor": "#E5ECF6",
           "showlakes": true,
           "showland": true,
           "subunitcolor": "white"
          },
          "hoverlabel": {
           "align": "left"
          },
          "hovermode": "closest",
          "mapbox": {
           "style": "light"
          },
          "paper_bgcolor": "white",
          "plot_bgcolor": "#E5ECF6",
          "polar": {
           "angularaxis": {
            "gridcolor": "white",
            "linecolor": "white",
            "ticks": ""
           },
           "bgcolor": "#E5ECF6",
           "radialaxis": {
            "gridcolor": "white",
            "linecolor": "white",
            "ticks": ""
           }
          },
          "scene": {
           "xaxis": {
            "backgroundcolor": "#E5ECF6",
            "gridcolor": "white",
            "gridwidth": 2,
            "linecolor": "white",
            "showbackground": true,
            "ticks": "",
            "zerolinecolor": "white"
           },
           "yaxis": {
            "backgroundcolor": "#E5ECF6",
            "gridcolor": "white",
            "gridwidth": 2,
            "linecolor": "white",
            "showbackground": true,
            "ticks": "",
            "zerolinecolor": "white"
           },
           "zaxis": {
            "backgroundcolor": "#E5ECF6",
            "gridcolor": "white",
            "gridwidth": 2,
            "linecolor": "white",
            "showbackground": true,
            "ticks": "",
            "zerolinecolor": "white"
           }
          },
          "shapedefaults": {
           "line": {
            "color": "#2a3f5f"
           }
          },
          "ternary": {
           "aaxis": {
            "gridcolor": "white",
            "linecolor": "white",
            "ticks": ""
           },
           "baxis": {
            "gridcolor": "white",
            "linecolor": "white",
            "ticks": ""
           },
           "bgcolor": "#E5ECF6",
           "caxis": {
            "gridcolor": "white",
            "linecolor": "white",
            "ticks": ""
           }
          },
          "title": {
           "x": 0.05
          },
          "xaxis": {
           "automargin": true,
           "gridcolor": "white",
           "linecolor": "white",
           "ticks": "",
           "title": {
            "standoff": 15
           },
           "zerolinecolor": "white",
           "zerolinewidth": 2
          },
          "yaxis": {
           "automargin": true,
           "gridcolor": "white",
           "linecolor": "white",
           "ticks": "",
           "title": {
            "standoff": 15
           },
           "zerolinecolor": "white",
           "zerolinewidth": 2
          }
         }
        },
        "title": {
         "text": "<b>Which hashtags are most commonly used and do they have a correlation with views?</b>"
        },
        "xaxis": {
         "anchor": "y",
         "categoryarray": [
          "learnfromkhaby",
          "learnwithtiktok",
          "imparacontiktok",
          "learnontiktok",
          "comic",
          "stitch",
          "foryoupage",
          "learnfromkhabi",
          "leanfromkhaby",
          "khabylame"
         ],
         "categoryorder": "array",
         "domain": [
          0,
          1
         ],
         "title": {
          "text": "<b>Hashtags</b>"
         }
        },
        "yaxis": {
         "anchor": "x",
         "domain": [
          0,
          1
         ],
         "title": {
          "text": "<b>Total Views</b>"
         }
        }
       }
      }
     },
     "metadata": {},
     "output_type": "display_data"
    }
   ],
   "source": [
    "fig = px.bar(top_10_hashtags, x='split_hashtags', y='views', color='split_hashtags', \n",
    "             labels={'split_hashtags': 'Hashtag', 'views': 'Total Views'}, \n",
    "             title='<b>Which hashtags are most commonly used and do they have a correlation with views?</b>')\n",
    "fig.update_layout(xaxis_title='<b>Hashtags</b>', yaxis_title='<b>Total Views</b>')\n",
    "\n",
    "fig.show()\n"
   ]
  },
  {
   "cell_type": "code",
   "execution_count": 69,
   "metadata": {},
   "outputs": [],
   "source": [
    "from textblob import TextBlob\n"
   ]
  },
  {
   "cell_type": "code",
   "execution_count": 70,
   "metadata": {},
   "outputs": [],
   "source": [
    "# Perform sentiment analysis on the captions\n",
    "df['sentiment'] = df['captions'].apply(lambda x: TextBlob(x).sentiment.polarity)\n"
   ]
  },
  {
   "cell_type": "code",
   "execution_count": 76,
   "metadata": {},
   "outputs": [],
   "source": [
    "df_yearly = df.groupby('created_year')['views'].sum().reset_index()\n"
   ]
  },
  {
   "cell_type": "code",
   "execution_count": 77,
   "metadata": {},
   "outputs": [
    {
     "data": {
      "application/vnd.plotly.v1+json": {
       "config": {
        "plotlyServerURL": "https://plot.ly"
       },
       "data": [
        {
         "hovertemplate": "created_year=%{x}<br>views=%{y}<extra></extra>",
         "legendgroup": "",
         "line": {
          "color": "#636efa",
          "dash": "solid"
         },
         "marker": {
          "symbol": "circle"
         },
         "mode": "lines",
         "name": "",
         "orientation": "v",
         "showlegend": false,
         "type": "scatter",
         "x": [
          "2020",
          "2021",
          "2022",
          "2023"
         ],
         "xaxis": "x",
         "y": [
          86332680,
          11394595695,
          4702200000,
          1681600000
         ],
         "yaxis": "y"
        }
       ],
       "layout": {
        "legend": {
         "tracegroupgap": 0
        },
        "template": {
         "data": {
          "bar": [
           {
            "error_x": {
             "color": "#2a3f5f"
            },
            "error_y": {
             "color": "#2a3f5f"
            },
            "marker": {
             "line": {
              "color": "#E5ECF6",
              "width": 0.5
             },
             "pattern": {
              "fillmode": "overlay",
              "size": 10,
              "solidity": 0.2
             }
            },
            "type": "bar"
           }
          ],
          "barpolar": [
           {
            "marker": {
             "line": {
              "color": "#E5ECF6",
              "width": 0.5
             },
             "pattern": {
              "fillmode": "overlay",
              "size": 10,
              "solidity": 0.2
             }
            },
            "type": "barpolar"
           }
          ],
          "carpet": [
           {
            "aaxis": {
             "endlinecolor": "#2a3f5f",
             "gridcolor": "white",
             "linecolor": "white",
             "minorgridcolor": "white",
             "startlinecolor": "#2a3f5f"
            },
            "baxis": {
             "endlinecolor": "#2a3f5f",
             "gridcolor": "white",
             "linecolor": "white",
             "minorgridcolor": "white",
             "startlinecolor": "#2a3f5f"
            },
            "type": "carpet"
           }
          ],
          "choropleth": [
           {
            "colorbar": {
             "outlinewidth": 0,
             "ticks": ""
            },
            "type": "choropleth"
           }
          ],
          "contour": [
           {
            "colorbar": {
             "outlinewidth": 0,
             "ticks": ""
            },
            "colorscale": [
             [
              0,
              "#0d0887"
             ],
             [
              0.1111111111111111,
              "#46039f"
             ],
             [
              0.2222222222222222,
              "#7201a8"
             ],
             [
              0.3333333333333333,
              "#9c179e"
             ],
             [
              0.4444444444444444,
              "#bd3786"
             ],
             [
              0.5555555555555556,
              "#d8576b"
             ],
             [
              0.6666666666666666,
              "#ed7953"
             ],
             [
              0.7777777777777778,
              "#fb9f3a"
             ],
             [
              0.8888888888888888,
              "#fdca26"
             ],
             [
              1,
              "#f0f921"
             ]
            ],
            "type": "contour"
           }
          ],
          "contourcarpet": [
           {
            "colorbar": {
             "outlinewidth": 0,
             "ticks": ""
            },
            "type": "contourcarpet"
           }
          ],
          "heatmap": [
           {
            "colorbar": {
             "outlinewidth": 0,
             "ticks": ""
            },
            "colorscale": [
             [
              0,
              "#0d0887"
             ],
             [
              0.1111111111111111,
              "#46039f"
             ],
             [
              0.2222222222222222,
              "#7201a8"
             ],
             [
              0.3333333333333333,
              "#9c179e"
             ],
             [
              0.4444444444444444,
              "#bd3786"
             ],
             [
              0.5555555555555556,
              "#d8576b"
             ],
             [
              0.6666666666666666,
              "#ed7953"
             ],
             [
              0.7777777777777778,
              "#fb9f3a"
             ],
             [
              0.8888888888888888,
              "#fdca26"
             ],
             [
              1,
              "#f0f921"
             ]
            ],
            "type": "heatmap"
           }
          ],
          "heatmapgl": [
           {
            "colorbar": {
             "outlinewidth": 0,
             "ticks": ""
            },
            "colorscale": [
             [
              0,
              "#0d0887"
             ],
             [
              0.1111111111111111,
              "#46039f"
             ],
             [
              0.2222222222222222,
              "#7201a8"
             ],
             [
              0.3333333333333333,
              "#9c179e"
             ],
             [
              0.4444444444444444,
              "#bd3786"
             ],
             [
              0.5555555555555556,
              "#d8576b"
             ],
             [
              0.6666666666666666,
              "#ed7953"
             ],
             [
              0.7777777777777778,
              "#fb9f3a"
             ],
             [
              0.8888888888888888,
              "#fdca26"
             ],
             [
              1,
              "#f0f921"
             ]
            ],
            "type": "heatmapgl"
           }
          ],
          "histogram": [
           {
            "marker": {
             "pattern": {
              "fillmode": "overlay",
              "size": 10,
              "solidity": 0.2
             }
            },
            "type": "histogram"
           }
          ],
          "histogram2d": [
           {
            "colorbar": {
             "outlinewidth": 0,
             "ticks": ""
            },
            "colorscale": [
             [
              0,
              "#0d0887"
             ],
             [
              0.1111111111111111,
              "#46039f"
             ],
             [
              0.2222222222222222,
              "#7201a8"
             ],
             [
              0.3333333333333333,
              "#9c179e"
             ],
             [
              0.4444444444444444,
              "#bd3786"
             ],
             [
              0.5555555555555556,
              "#d8576b"
             ],
             [
              0.6666666666666666,
              "#ed7953"
             ],
             [
              0.7777777777777778,
              "#fb9f3a"
             ],
             [
              0.8888888888888888,
              "#fdca26"
             ],
             [
              1,
              "#f0f921"
             ]
            ],
            "type": "histogram2d"
           }
          ],
          "histogram2dcontour": [
           {
            "colorbar": {
             "outlinewidth": 0,
             "ticks": ""
            },
            "colorscale": [
             [
              0,
              "#0d0887"
             ],
             [
              0.1111111111111111,
              "#46039f"
             ],
             [
              0.2222222222222222,
              "#7201a8"
             ],
             [
              0.3333333333333333,
              "#9c179e"
             ],
             [
              0.4444444444444444,
              "#bd3786"
             ],
             [
              0.5555555555555556,
              "#d8576b"
             ],
             [
              0.6666666666666666,
              "#ed7953"
             ],
             [
              0.7777777777777778,
              "#fb9f3a"
             ],
             [
              0.8888888888888888,
              "#fdca26"
             ],
             [
              1,
              "#f0f921"
             ]
            ],
            "type": "histogram2dcontour"
           }
          ],
          "mesh3d": [
           {
            "colorbar": {
             "outlinewidth": 0,
             "ticks": ""
            },
            "type": "mesh3d"
           }
          ],
          "parcoords": [
           {
            "line": {
             "colorbar": {
              "outlinewidth": 0,
              "ticks": ""
             }
            },
            "type": "parcoords"
           }
          ],
          "pie": [
           {
            "automargin": true,
            "type": "pie"
           }
          ],
          "scatter": [
           {
            "fillpattern": {
             "fillmode": "overlay",
             "size": 10,
             "solidity": 0.2
            },
            "type": "scatter"
           }
          ],
          "scatter3d": [
           {
            "line": {
             "colorbar": {
              "outlinewidth": 0,
              "ticks": ""
             }
            },
            "marker": {
             "colorbar": {
              "outlinewidth": 0,
              "ticks": ""
             }
            },
            "type": "scatter3d"
           }
          ],
          "scattercarpet": [
           {
            "marker": {
             "colorbar": {
              "outlinewidth": 0,
              "ticks": ""
             }
            },
            "type": "scattercarpet"
           }
          ],
          "scattergeo": [
           {
            "marker": {
             "colorbar": {
              "outlinewidth": 0,
              "ticks": ""
             }
            },
            "type": "scattergeo"
           }
          ],
          "scattergl": [
           {
            "marker": {
             "colorbar": {
              "outlinewidth": 0,
              "ticks": ""
             }
            },
            "type": "scattergl"
           }
          ],
          "scattermapbox": [
           {
            "marker": {
             "colorbar": {
              "outlinewidth": 0,
              "ticks": ""
             }
            },
            "type": "scattermapbox"
           }
          ],
          "scatterpolar": [
           {
            "marker": {
             "colorbar": {
              "outlinewidth": 0,
              "ticks": ""
             }
            },
            "type": "scatterpolar"
           }
          ],
          "scatterpolargl": [
           {
            "marker": {
             "colorbar": {
              "outlinewidth": 0,
              "ticks": ""
             }
            },
            "type": "scatterpolargl"
           }
          ],
          "scatterternary": [
           {
            "marker": {
             "colorbar": {
              "outlinewidth": 0,
              "ticks": ""
             }
            },
            "type": "scatterternary"
           }
          ],
          "surface": [
           {
            "colorbar": {
             "outlinewidth": 0,
             "ticks": ""
            },
            "colorscale": [
             [
              0,
              "#0d0887"
             ],
             [
              0.1111111111111111,
              "#46039f"
             ],
             [
              0.2222222222222222,
              "#7201a8"
             ],
             [
              0.3333333333333333,
              "#9c179e"
             ],
             [
              0.4444444444444444,
              "#bd3786"
             ],
             [
              0.5555555555555556,
              "#d8576b"
             ],
             [
              0.6666666666666666,
              "#ed7953"
             ],
             [
              0.7777777777777778,
              "#fb9f3a"
             ],
             [
              0.8888888888888888,
              "#fdca26"
             ],
             [
              1,
              "#f0f921"
             ]
            ],
            "type": "surface"
           }
          ],
          "table": [
           {
            "cells": {
             "fill": {
              "color": "#EBF0F8"
             },
             "line": {
              "color": "white"
             }
            },
            "header": {
             "fill": {
              "color": "#C8D4E3"
             },
             "line": {
              "color": "white"
             }
            },
            "type": "table"
           }
          ]
         },
         "layout": {
          "annotationdefaults": {
           "arrowcolor": "#2a3f5f",
           "arrowhead": 0,
           "arrowwidth": 1
          },
          "autotypenumbers": "strict",
          "coloraxis": {
           "colorbar": {
            "outlinewidth": 0,
            "ticks": ""
           }
          },
          "colorscale": {
           "diverging": [
            [
             0,
             "#8e0152"
            ],
            [
             0.1,
             "#c51b7d"
            ],
            [
             0.2,
             "#de77ae"
            ],
            [
             0.3,
             "#f1b6da"
            ],
            [
             0.4,
             "#fde0ef"
            ],
            [
             0.5,
             "#f7f7f7"
            ],
            [
             0.6,
             "#e6f5d0"
            ],
            [
             0.7,
             "#b8e186"
            ],
            [
             0.8,
             "#7fbc41"
            ],
            [
             0.9,
             "#4d9221"
            ],
            [
             1,
             "#276419"
            ]
           ],
           "sequential": [
            [
             0,
             "#0d0887"
            ],
            [
             0.1111111111111111,
             "#46039f"
            ],
            [
             0.2222222222222222,
             "#7201a8"
            ],
            [
             0.3333333333333333,
             "#9c179e"
            ],
            [
             0.4444444444444444,
             "#bd3786"
            ],
            [
             0.5555555555555556,
             "#d8576b"
            ],
            [
             0.6666666666666666,
             "#ed7953"
            ],
            [
             0.7777777777777778,
             "#fb9f3a"
            ],
            [
             0.8888888888888888,
             "#fdca26"
            ],
            [
             1,
             "#f0f921"
            ]
           ],
           "sequentialminus": [
            [
             0,
             "#0d0887"
            ],
            [
             0.1111111111111111,
             "#46039f"
            ],
            [
             0.2222222222222222,
             "#7201a8"
            ],
            [
             0.3333333333333333,
             "#9c179e"
            ],
            [
             0.4444444444444444,
             "#bd3786"
            ],
            [
             0.5555555555555556,
             "#d8576b"
            ],
            [
             0.6666666666666666,
             "#ed7953"
            ],
            [
             0.7777777777777778,
             "#fb9f3a"
            ],
            [
             0.8888888888888888,
             "#fdca26"
            ],
            [
             1,
             "#f0f921"
            ]
           ]
          },
          "colorway": [
           "#636efa",
           "#EF553B",
           "#00cc96",
           "#ab63fa",
           "#FFA15A",
           "#19d3f3",
           "#FF6692",
           "#B6E880",
           "#FF97FF",
           "#FECB52"
          ],
          "font": {
           "color": "#2a3f5f"
          },
          "geo": {
           "bgcolor": "white",
           "lakecolor": "white",
           "landcolor": "#E5ECF6",
           "showlakes": true,
           "showland": true,
           "subunitcolor": "white"
          },
          "hoverlabel": {
           "align": "left"
          },
          "hovermode": "closest",
          "mapbox": {
           "style": "light"
          },
          "paper_bgcolor": "white",
          "plot_bgcolor": "#E5ECF6",
          "polar": {
           "angularaxis": {
            "gridcolor": "white",
            "linecolor": "white",
            "ticks": ""
           },
           "bgcolor": "#E5ECF6",
           "radialaxis": {
            "gridcolor": "white",
            "linecolor": "white",
            "ticks": ""
           }
          },
          "scene": {
           "xaxis": {
            "backgroundcolor": "#E5ECF6",
            "gridcolor": "white",
            "gridwidth": 2,
            "linecolor": "white",
            "showbackground": true,
            "ticks": "",
            "zerolinecolor": "white"
           },
           "yaxis": {
            "backgroundcolor": "#E5ECF6",
            "gridcolor": "white",
            "gridwidth": 2,
            "linecolor": "white",
            "showbackground": true,
            "ticks": "",
            "zerolinecolor": "white"
           },
           "zaxis": {
            "backgroundcolor": "#E5ECF6",
            "gridcolor": "white",
            "gridwidth": 2,
            "linecolor": "white",
            "showbackground": true,
            "ticks": "",
            "zerolinecolor": "white"
           }
          },
          "shapedefaults": {
           "line": {
            "color": "#2a3f5f"
           }
          },
          "ternary": {
           "aaxis": {
            "gridcolor": "white",
            "linecolor": "white",
            "ticks": ""
           },
           "baxis": {
            "gridcolor": "white",
            "linecolor": "white",
            "ticks": ""
           },
           "bgcolor": "#E5ECF6",
           "caxis": {
            "gridcolor": "white",
            "linecolor": "white",
            "ticks": ""
           }
          },
          "title": {
           "x": 0.05
          },
          "xaxis": {
           "automargin": true,
           "gridcolor": "white",
           "linecolor": "white",
           "ticks": "",
           "title": {
            "standoff": 15
           },
           "zerolinecolor": "white",
           "zerolinewidth": 2
          },
          "yaxis": {
           "automargin": true,
           "gridcolor": "white",
           "linecolor": "white",
           "ticks": "",
           "title": {
            "standoff": 15
           },
           "zerolinecolor": "white",
           "zerolinewidth": 2
          }
         }
        },
        "title": {
         "text": "<b>Number of Views Over the Years</b>"
        },
        "xaxis": {
         "anchor": "y",
         "domain": [
          0,
          1
         ],
         "title": {
          "text": "<b>Year</b>"
         }
        },
        "yaxis": {
         "anchor": "x",
         "domain": [
          0,
          1
         ],
         "title": {
          "text": "<b>Views</b>"
         }
        }
       }
      }
     },
     "metadata": {},
     "output_type": "display_data"
    }
   ],
   "source": [
    "fig = px.line(df_yearly, x='created_year', y='views', title='<b>Number of Views Over the Years</b>')\n",
    "fig.update_layout(xaxis_title='<b>Year</b>', yaxis_title='<b>Views</b>')\n",
    "fig.show()\n"
   ]
  },
  {
   "cell_type": "code",
   "execution_count": 81,
   "metadata": {},
   "outputs": [],
   "source": [
    "df_avg_likes = df.groupby('duration')['likes'].mean().reset_index()\n"
   ]
  },
  {
   "cell_type": "code",
   "execution_count": 83,
   "metadata": {},
   "outputs": [
    {
     "data": {
      "application/vnd.plotly.v1+json": {
       "config": {
        "plotlyServerURL": "https://plot.ly"
       },
       "data": [
        {
         "alignmentgroup": "True",
         "hovertemplate": "duration=%{x}<br>likes=%{marker.color}<extra></extra>",
         "legendgroup": "",
         "marker": {
          "color": [
           213.5,
           333690.1666666667,
           420930.5641025641,
           209860.53125,
           91941.82608695653,
           510985.3218390805,
           612027.25,
           928443.1666666666,
           333228.07692307694,
           318958.5272727273,
           294630.3541666667,
           1129773.827160494,
           6000432.75,
           5864515.7272727275,
           2400179.75,
           4246890,
           7533412.416666667,
           2853443.6,
           2628335.1333333333,
           4488608.294117647,
           2476716.7647058824,
           12219214.375,
           5612305.588235294,
           2613699.6666666665,
           5953985.266666667,
           1822797.6,
           5693843.9375,
           5906817.6875,
           3957362.4285714286,
           6325000,
           4964359.636363637,
           6316666.666666667,
           1767616.3333333333,
           2183530.8333333335,
           635940.6666666666,
           521277.4,
           4740220.4,
           3653358.6666666665,
           302388.75,
           4350111,
           4185714.285714286,
           8535748.333333334,
           1600213.5,
           116,
           3100000,
           1301802,
           58,
           1715,
           2573,
           6479,
           1934931,
           950484.5,
           1433339.6666666667,
           1200000,
           1150000,
           5951,
           1100000,
           3426
          ],
          "coloraxis": "coloraxis",
          "pattern": {
           "shape": ""
          }
         },
         "name": "",
         "offsetgroup": "",
         "orientation": "v",
         "showlegend": false,
         "textposition": "auto",
         "type": "bar",
         "x": [
          4,
          5,
          6,
          7,
          8,
          9,
          10,
          11,
          12,
          13,
          14,
          15,
          16,
          17,
          18,
          19,
          20,
          21,
          22,
          23,
          24,
          25,
          26,
          27,
          28,
          29,
          30,
          31,
          32,
          33,
          34,
          35,
          36,
          37,
          38,
          39,
          40,
          41,
          42,
          43,
          44,
          45,
          46,
          48,
          49,
          50,
          53,
          54,
          55,
          56,
          57,
          58,
          59,
          60,
          61,
          81,
          84,
          105
         ],
         "xaxis": "x",
         "y": [
          213.5,
          333690.1666666667,
          420930.5641025641,
          209860.53125,
          91941.82608695653,
          510985.3218390805,
          612027.25,
          928443.1666666666,
          333228.07692307694,
          318958.5272727273,
          294630.3541666667,
          1129773.827160494,
          6000432.75,
          5864515.7272727275,
          2400179.75,
          4246890,
          7533412.416666667,
          2853443.6,
          2628335.1333333333,
          4488608.294117647,
          2476716.7647058824,
          12219214.375,
          5612305.588235294,
          2613699.6666666665,
          5953985.266666667,
          1822797.6,
          5693843.9375,
          5906817.6875,
          3957362.4285714286,
          6325000,
          4964359.636363637,
          6316666.666666667,
          1767616.3333333333,
          2183530.8333333335,
          635940.6666666666,
          521277.4,
          4740220.4,
          3653358.6666666665,
          302388.75,
          4350111,
          4185714.285714286,
          8535748.333333334,
          1600213.5,
          116,
          3100000,
          1301802,
          58,
          1715,
          2573,
          6479,
          1934931,
          950484.5,
          1433339.6666666667,
          1200000,
          1150000,
          5951,
          1100000,
          3426
         ],
         "yaxis": "y"
        }
       ],
       "layout": {
        "barmode": "relative",
        "coloraxis": {
         "colorbar": {
          "title": {
           "text": "likes"
          }
         },
         "colorscale": [
          [
           0,
           "#0d0887"
          ],
          [
           0.1111111111111111,
           "#46039f"
          ],
          [
           0.2222222222222222,
           "#7201a8"
          ],
          [
           0.3333333333333333,
           "#9c179e"
          ],
          [
           0.4444444444444444,
           "#bd3786"
          ],
          [
           0.5555555555555556,
           "#d8576b"
          ],
          [
           0.6666666666666666,
           "#ed7953"
          ],
          [
           0.7777777777777778,
           "#fb9f3a"
          ],
          [
           0.8888888888888888,
           "#fdca26"
          ],
          [
           1,
           "#f0f921"
          ]
         ]
        },
        "legend": {
         "tracegroupgap": 0
        },
        "template": {
         "data": {
          "bar": [
           {
            "error_x": {
             "color": "#2a3f5f"
            },
            "error_y": {
             "color": "#2a3f5f"
            },
            "marker": {
             "line": {
              "color": "#E5ECF6",
              "width": 0.5
             },
             "pattern": {
              "fillmode": "overlay",
              "size": 10,
              "solidity": 0.2
             }
            },
            "type": "bar"
           }
          ],
          "barpolar": [
           {
            "marker": {
             "line": {
              "color": "#E5ECF6",
              "width": 0.5
             },
             "pattern": {
              "fillmode": "overlay",
              "size": 10,
              "solidity": 0.2
             }
            },
            "type": "barpolar"
           }
          ],
          "carpet": [
           {
            "aaxis": {
             "endlinecolor": "#2a3f5f",
             "gridcolor": "white",
             "linecolor": "white",
             "minorgridcolor": "white",
             "startlinecolor": "#2a3f5f"
            },
            "baxis": {
             "endlinecolor": "#2a3f5f",
             "gridcolor": "white",
             "linecolor": "white",
             "minorgridcolor": "white",
             "startlinecolor": "#2a3f5f"
            },
            "type": "carpet"
           }
          ],
          "choropleth": [
           {
            "colorbar": {
             "outlinewidth": 0,
             "ticks": ""
            },
            "type": "choropleth"
           }
          ],
          "contour": [
           {
            "colorbar": {
             "outlinewidth": 0,
             "ticks": ""
            },
            "colorscale": [
             [
              0,
              "#0d0887"
             ],
             [
              0.1111111111111111,
              "#46039f"
             ],
             [
              0.2222222222222222,
              "#7201a8"
             ],
             [
              0.3333333333333333,
              "#9c179e"
             ],
             [
              0.4444444444444444,
              "#bd3786"
             ],
             [
              0.5555555555555556,
              "#d8576b"
             ],
             [
              0.6666666666666666,
              "#ed7953"
             ],
             [
              0.7777777777777778,
              "#fb9f3a"
             ],
             [
              0.8888888888888888,
              "#fdca26"
             ],
             [
              1,
              "#f0f921"
             ]
            ],
            "type": "contour"
           }
          ],
          "contourcarpet": [
           {
            "colorbar": {
             "outlinewidth": 0,
             "ticks": ""
            },
            "type": "contourcarpet"
           }
          ],
          "heatmap": [
           {
            "colorbar": {
             "outlinewidth": 0,
             "ticks": ""
            },
            "colorscale": [
             [
              0,
              "#0d0887"
             ],
             [
              0.1111111111111111,
              "#46039f"
             ],
             [
              0.2222222222222222,
              "#7201a8"
             ],
             [
              0.3333333333333333,
              "#9c179e"
             ],
             [
              0.4444444444444444,
              "#bd3786"
             ],
             [
              0.5555555555555556,
              "#d8576b"
             ],
             [
              0.6666666666666666,
              "#ed7953"
             ],
             [
              0.7777777777777778,
              "#fb9f3a"
             ],
             [
              0.8888888888888888,
              "#fdca26"
             ],
             [
              1,
              "#f0f921"
             ]
            ],
            "type": "heatmap"
           }
          ],
          "heatmapgl": [
           {
            "colorbar": {
             "outlinewidth": 0,
             "ticks": ""
            },
            "colorscale": [
             [
              0,
              "#0d0887"
             ],
             [
              0.1111111111111111,
              "#46039f"
             ],
             [
              0.2222222222222222,
              "#7201a8"
             ],
             [
              0.3333333333333333,
              "#9c179e"
             ],
             [
              0.4444444444444444,
              "#bd3786"
             ],
             [
              0.5555555555555556,
              "#d8576b"
             ],
             [
              0.6666666666666666,
              "#ed7953"
             ],
             [
              0.7777777777777778,
              "#fb9f3a"
             ],
             [
              0.8888888888888888,
              "#fdca26"
             ],
             [
              1,
              "#f0f921"
             ]
            ],
            "type": "heatmapgl"
           }
          ],
          "histogram": [
           {
            "marker": {
             "pattern": {
              "fillmode": "overlay",
              "size": 10,
              "solidity": 0.2
             }
            },
            "type": "histogram"
           }
          ],
          "histogram2d": [
           {
            "colorbar": {
             "outlinewidth": 0,
             "ticks": ""
            },
            "colorscale": [
             [
              0,
              "#0d0887"
             ],
             [
              0.1111111111111111,
              "#46039f"
             ],
             [
              0.2222222222222222,
              "#7201a8"
             ],
             [
              0.3333333333333333,
              "#9c179e"
             ],
             [
              0.4444444444444444,
              "#bd3786"
             ],
             [
              0.5555555555555556,
              "#d8576b"
             ],
             [
              0.6666666666666666,
              "#ed7953"
             ],
             [
              0.7777777777777778,
              "#fb9f3a"
             ],
             [
              0.8888888888888888,
              "#fdca26"
             ],
             [
              1,
              "#f0f921"
             ]
            ],
            "type": "histogram2d"
           }
          ],
          "histogram2dcontour": [
           {
            "colorbar": {
             "outlinewidth": 0,
             "ticks": ""
            },
            "colorscale": [
             [
              0,
              "#0d0887"
             ],
             [
              0.1111111111111111,
              "#46039f"
             ],
             [
              0.2222222222222222,
              "#7201a8"
             ],
             [
              0.3333333333333333,
              "#9c179e"
             ],
             [
              0.4444444444444444,
              "#bd3786"
             ],
             [
              0.5555555555555556,
              "#d8576b"
             ],
             [
              0.6666666666666666,
              "#ed7953"
             ],
             [
              0.7777777777777778,
              "#fb9f3a"
             ],
             [
              0.8888888888888888,
              "#fdca26"
             ],
             [
              1,
              "#f0f921"
             ]
            ],
            "type": "histogram2dcontour"
           }
          ],
          "mesh3d": [
           {
            "colorbar": {
             "outlinewidth": 0,
             "ticks": ""
            },
            "type": "mesh3d"
           }
          ],
          "parcoords": [
           {
            "line": {
             "colorbar": {
              "outlinewidth": 0,
              "ticks": ""
             }
            },
            "type": "parcoords"
           }
          ],
          "pie": [
           {
            "automargin": true,
            "type": "pie"
           }
          ],
          "scatter": [
           {
            "fillpattern": {
             "fillmode": "overlay",
             "size": 10,
             "solidity": 0.2
            },
            "type": "scatter"
           }
          ],
          "scatter3d": [
           {
            "line": {
             "colorbar": {
              "outlinewidth": 0,
              "ticks": ""
             }
            },
            "marker": {
             "colorbar": {
              "outlinewidth": 0,
              "ticks": ""
             }
            },
            "type": "scatter3d"
           }
          ],
          "scattercarpet": [
           {
            "marker": {
             "colorbar": {
              "outlinewidth": 0,
              "ticks": ""
             }
            },
            "type": "scattercarpet"
           }
          ],
          "scattergeo": [
           {
            "marker": {
             "colorbar": {
              "outlinewidth": 0,
              "ticks": ""
             }
            },
            "type": "scattergeo"
           }
          ],
          "scattergl": [
           {
            "marker": {
             "colorbar": {
              "outlinewidth": 0,
              "ticks": ""
             }
            },
            "type": "scattergl"
           }
          ],
          "scattermapbox": [
           {
            "marker": {
             "colorbar": {
              "outlinewidth": 0,
              "ticks": ""
             }
            },
            "type": "scattermapbox"
           }
          ],
          "scatterpolar": [
           {
            "marker": {
             "colorbar": {
              "outlinewidth": 0,
              "ticks": ""
             }
            },
            "type": "scatterpolar"
           }
          ],
          "scatterpolargl": [
           {
            "marker": {
             "colorbar": {
              "outlinewidth": 0,
              "ticks": ""
             }
            },
            "type": "scatterpolargl"
           }
          ],
          "scatterternary": [
           {
            "marker": {
             "colorbar": {
              "outlinewidth": 0,
              "ticks": ""
             }
            },
            "type": "scatterternary"
           }
          ],
          "surface": [
           {
            "colorbar": {
             "outlinewidth": 0,
             "ticks": ""
            },
            "colorscale": [
             [
              0,
              "#0d0887"
             ],
             [
              0.1111111111111111,
              "#46039f"
             ],
             [
              0.2222222222222222,
              "#7201a8"
             ],
             [
              0.3333333333333333,
              "#9c179e"
             ],
             [
              0.4444444444444444,
              "#bd3786"
             ],
             [
              0.5555555555555556,
              "#d8576b"
             ],
             [
              0.6666666666666666,
              "#ed7953"
             ],
             [
              0.7777777777777778,
              "#fb9f3a"
             ],
             [
              0.8888888888888888,
              "#fdca26"
             ],
             [
              1,
              "#f0f921"
             ]
            ],
            "type": "surface"
           }
          ],
          "table": [
           {
            "cells": {
             "fill": {
              "color": "#EBF0F8"
             },
             "line": {
              "color": "white"
             }
            },
            "header": {
             "fill": {
              "color": "#C8D4E3"
             },
             "line": {
              "color": "white"
             }
            },
            "type": "table"
           }
          ]
         },
         "layout": {
          "annotationdefaults": {
           "arrowcolor": "#2a3f5f",
           "arrowhead": 0,
           "arrowwidth": 1
          },
          "autotypenumbers": "strict",
          "coloraxis": {
           "colorbar": {
            "outlinewidth": 0,
            "ticks": ""
           }
          },
          "colorscale": {
           "diverging": [
            [
             0,
             "#8e0152"
            ],
            [
             0.1,
             "#c51b7d"
            ],
            [
             0.2,
             "#de77ae"
            ],
            [
             0.3,
             "#f1b6da"
            ],
            [
             0.4,
             "#fde0ef"
            ],
            [
             0.5,
             "#f7f7f7"
            ],
            [
             0.6,
             "#e6f5d0"
            ],
            [
             0.7,
             "#b8e186"
            ],
            [
             0.8,
             "#7fbc41"
            ],
            [
             0.9,
             "#4d9221"
            ],
            [
             1,
             "#276419"
            ]
           ],
           "sequential": [
            [
             0,
             "#0d0887"
            ],
            [
             0.1111111111111111,
             "#46039f"
            ],
            [
             0.2222222222222222,
             "#7201a8"
            ],
            [
             0.3333333333333333,
             "#9c179e"
            ],
            [
             0.4444444444444444,
             "#bd3786"
            ],
            [
             0.5555555555555556,
             "#d8576b"
            ],
            [
             0.6666666666666666,
             "#ed7953"
            ],
            [
             0.7777777777777778,
             "#fb9f3a"
            ],
            [
             0.8888888888888888,
             "#fdca26"
            ],
            [
             1,
             "#f0f921"
            ]
           ],
           "sequentialminus": [
            [
             0,
             "#0d0887"
            ],
            [
             0.1111111111111111,
             "#46039f"
            ],
            [
             0.2222222222222222,
             "#7201a8"
            ],
            [
             0.3333333333333333,
             "#9c179e"
            ],
            [
             0.4444444444444444,
             "#bd3786"
            ],
            [
             0.5555555555555556,
             "#d8576b"
            ],
            [
             0.6666666666666666,
             "#ed7953"
            ],
            [
             0.7777777777777778,
             "#fb9f3a"
            ],
            [
             0.8888888888888888,
             "#fdca26"
            ],
            [
             1,
             "#f0f921"
            ]
           ]
          },
          "colorway": [
           "#636efa",
           "#EF553B",
           "#00cc96",
           "#ab63fa",
           "#FFA15A",
           "#19d3f3",
           "#FF6692",
           "#B6E880",
           "#FF97FF",
           "#FECB52"
          ],
          "font": {
           "color": "#2a3f5f"
          },
          "geo": {
           "bgcolor": "white",
           "lakecolor": "white",
           "landcolor": "#E5ECF6",
           "showlakes": true,
           "showland": true,
           "subunitcolor": "white"
          },
          "hoverlabel": {
           "align": "left"
          },
          "hovermode": "closest",
          "mapbox": {
           "style": "light"
          },
          "paper_bgcolor": "white",
          "plot_bgcolor": "#E5ECF6",
          "polar": {
           "angularaxis": {
            "gridcolor": "white",
            "linecolor": "white",
            "ticks": ""
           },
           "bgcolor": "#E5ECF6",
           "radialaxis": {
            "gridcolor": "white",
            "linecolor": "white",
            "ticks": ""
           }
          },
          "scene": {
           "xaxis": {
            "backgroundcolor": "#E5ECF6",
            "gridcolor": "white",
            "gridwidth": 2,
            "linecolor": "white",
            "showbackground": true,
            "ticks": "",
            "zerolinecolor": "white"
           },
           "yaxis": {
            "backgroundcolor": "#E5ECF6",
            "gridcolor": "white",
            "gridwidth": 2,
            "linecolor": "white",
            "showbackground": true,
            "ticks": "",
            "zerolinecolor": "white"
           },
           "zaxis": {
            "backgroundcolor": "#E5ECF6",
            "gridcolor": "white",
            "gridwidth": 2,
            "linecolor": "white",
            "showbackground": true,
            "ticks": "",
            "zerolinecolor": "white"
           }
          },
          "shapedefaults": {
           "line": {
            "color": "#2a3f5f"
           }
          },
          "ternary": {
           "aaxis": {
            "gridcolor": "white",
            "linecolor": "white",
            "ticks": ""
           },
           "baxis": {
            "gridcolor": "white",
            "linecolor": "white",
            "ticks": ""
           },
           "bgcolor": "#E5ECF6",
           "caxis": {
            "gridcolor": "white",
            "linecolor": "white",
            "ticks": ""
           }
          },
          "title": {
           "x": 0.05
          },
          "xaxis": {
           "automargin": true,
           "gridcolor": "white",
           "linecolor": "white",
           "ticks": "",
           "title": {
            "standoff": 15
           },
           "zerolinecolor": "white",
           "zerolinewidth": 2
          },
          "yaxis": {
           "automargin": true,
           "gridcolor": "white",
           "linecolor": "white",
           "ticks": "",
           "title": {
            "standoff": 15
           },
           "zerolinecolor": "white",
           "zerolinewidth": 2
          }
         }
        },
        "title": {
         "text": "Average Likes by Duration"
        },
        "xaxis": {
         "anchor": "y",
         "domain": [
          0,
          1
         ],
         "title": {
          "text": "Duration"
         }
        },
        "yaxis": {
         "anchor": "x",
         "domain": [
          0,
          1
         ],
         "title": {
          "text": "Average Likes"
         }
        }
       }
      }
     },
     "metadata": {},
     "output_type": "display_data"
    }
   ],
   "source": [
    "fig = px.bar(df_avg_likes, x='duration', y='likes', color='likes', title='Average Likes by Duration')\n",
    "fig.update_layout(xaxis_title='Duration', yaxis_title='Average Likes')\n",
    "fig.show()\n"
   ]
  },
  {
   "cell_type": "code",
   "execution_count": 99,
   "metadata": {},
   "outputs": [
    {
     "data": {
      "application/vnd.plotly.v1+json": {
       "config": {
        "plotlyServerURL": "https://plot.ly"
       },
       "data": [
        {
         "hovertemplate": "created_at=%{x}<br>views=%{y}<extra></extra>",
         "legendgroup": "",
         "line": {
          "color": "#636efa",
          "dash": "solid"
         },
         "marker": {
          "symbol": "circle"
         },
         "mode": "lines",
         "name": "",
         "showlegend": false,
         "type": "scattergl",
         "x": [
          "2023-06-12T00:00:00",
          "2023-06-07T00:00:00",
          "2023-06-05T00:00:00",
          "2023-06-04T00:00:00",
          "2023-06-02T00:00:00",
          "2023-05-30T00:00:00",
          "2023-05-26T00:00:00",
          "2023-05-25T00:00:00",
          "2023-05-23T00:00:00",
          "2023-05-19T00:00:00",
          "2023-05-18T00:00:00",
          "2023-05-17T00:00:00",
          "2023-05-16T00:00:00",
          "2023-05-15T00:00:00",
          "2023-05-13T00:00:00",
          "2023-05-11T00:00:00",
          "2023-05-09T00:00:00",
          "2023-05-06T00:00:00",
          "2023-05-05T00:00:00",
          "2023-05-04T00:00:00",
          "2023-05-02T00:00:00",
          "2023-04-27T00:00:00",
          "2023-04-26T00:00:00",
          "2023-04-24T00:00:00",
          "2023-04-23T00:00:00",
          "2023-04-21T00:00:00",
          "2023-04-19T00:00:00",
          "2023-04-17T00:00:00",
          "2023-04-15T00:00:00",
          "2023-04-13T00:00:00",
          "2023-04-12T00:00:00",
          "2023-04-07T00:00:00",
          "2023-04-04T00:00:00",
          "2023-04-03T00:00:00",
          "2023-03-31T00:00:00",
          "2023-03-27T00:00:00",
          "2023-03-22T00:00:00",
          "2023-03-18T00:00:00",
          "2023-03-15T00:00:00",
          "2023-03-13T00:00:00",
          "2023-03-12T00:00:00",
          "2023-03-09T00:00:00",
          "2023-03-06T00:00:00",
          "2023-03-04T00:00:00",
          "2023-03-01T00:00:00",
          "2023-02-16T00:00:00",
          "2023-02-14T00:00:00",
          "2023-02-13T00:00:00",
          "2023-02-13T00:00:00",
          "2023-02-11T00:00:00",
          "2023-02-06T00:00:00",
          "2023-02-05T00:00:00",
          "2023-02-03T00:00:00",
          "2023-02-02T00:00:00",
          "2023-01-27T00:00:00",
          "2023-01-22T00:00:00",
          "2023-01-22T00:00:00",
          "2023-01-19T00:00:00",
          "2023-01-08T00:00:00",
          "2023-01-03T00:00:00",
          "2022-12-30T00:00:00",
          "2022-12-24T00:00:00",
          "2022-12-18T00:00:00",
          "2022-12-14T00:00:00",
          "2022-12-11T00:00:00",
          "2022-12-01T00:00:00",
          "2022-11-30T00:00:00",
          "2022-11-15T00:00:00",
          "2022-11-10T00:00:00",
          "2022-11-05T00:00:00",
          "2022-10-29T00:00:00",
          "2022-10-27T00:00:00",
          "2022-10-26T00:00:00",
          "2022-10-23T00:00:00",
          "2022-10-22T00:00:00",
          "2022-10-19T00:00:00",
          "2022-10-13T00:00:00",
          "2022-10-12T00:00:00",
          "2022-10-07T00:00:00",
          "2022-10-03T00:00:00",
          "2022-09-28T00:00:00",
          "2022-09-18T00:00:00",
          "2022-09-12T00:00:00",
          "2022-09-09T00:00:00",
          "2022-09-08T00:00:00",
          "2022-09-08T00:00:00",
          "2022-09-05T00:00:00",
          "2022-09-03T00:00:00",
          "2022-09-01T00:00:00",
          "2022-08-28T00:00:00",
          "2022-08-24T00:00:00",
          "2022-08-21T00:00:00",
          "2022-08-15T00:00:00",
          "2022-08-13T00:00:00",
          "2022-08-09T00:00:00",
          "2022-08-03T00:00:00",
          "2022-07-29T00:00:00",
          "2022-07-26T00:00:00",
          "2022-07-23T00:00:00",
          "2022-07-21T00:00:00",
          "2022-07-19T00:00:00",
          "2022-07-12T00:00:00",
          "2022-07-10T00:00:00",
          "2022-06-30T00:00:00",
          "2022-06-28T00:00:00",
          "2022-06-22T00:00:00",
          "2022-06-15T00:00:00",
          "2022-06-09T00:00:00",
          "2022-06-04T00:00:00",
          "2022-05-30T00:00:00",
          "2022-05-23T00:00:00",
          "2022-05-14T00:00:00",
          "2022-05-12T00:00:00",
          "2022-05-06T00:00:00",
          "2022-05-02T00:00:00",
          "2022-04-29T00:00:00",
          "2022-04-26T00:00:00",
          "2022-04-24T00:00:00",
          "2022-04-20T00:00:00",
          "2022-04-19T00:00:00",
          "2022-04-13T00:00:00",
          "2022-04-08T00:00:00",
          "2022-04-07T00:00:00",
          "2022-04-05T00:00:00",
          "2022-03-31T00:00:00",
          "2022-03-29T00:00:00",
          "2022-03-28T00:00:00",
          "2022-03-25T00:00:00",
          "2022-03-22T00:00:00",
          "2022-03-18T00:00:00",
          "2022-03-14T00:00:00",
          "2022-03-12T00:00:00",
          "2022-03-10T00:00:00",
          "2022-03-09T00:00:00",
          "2022-03-06T00:00:00",
          "2022-02-27T00:00:00",
          "2022-02-25T00:00:00",
          "2022-02-23T00:00:00",
          "2022-02-21T00:00:00",
          "2022-02-19T00:00:00",
          "2022-02-17T00:00:00",
          "2022-02-14T00:00:00",
          "2022-02-12T00:00:00",
          "2022-02-09T00:00:00",
          "2022-02-03T00:00:00",
          "2022-02-01T00:00:00",
          "2022-01-30T00:00:00",
          "2022-01-29T00:00:00",
          "2022-01-27T00:00:00",
          "2022-01-25T00:00:00",
          "2022-01-23T00:00:00",
          "2022-01-21T00:00:00",
          "2022-01-20T00:00:00",
          "2022-01-18T00:00:00",
          "2022-01-17T00:00:00",
          "2022-01-14T00:00:00",
          "2022-01-13T00:00:00",
          "2022-01-12T00:00:00",
          "2022-01-11T00:00:00",
          "2022-01-10T00:00:00",
          "2022-01-08T00:00:00",
          "2022-01-07T00:00:00",
          "2022-01-05T00:00:00",
          "2022-01-03T00:00:00",
          "2022-01-02T00:00:00",
          "2021-12-31T00:00:00",
          "2021-12-30T00:00:00",
          "2021-12-28T00:00:00",
          "2021-12-23T00:00:00",
          "2021-12-20T00:00:00",
          "2021-12-17T00:00:00",
          "2021-12-16T00:00:00",
          "2021-12-14T00:00:00",
          "2021-12-12T00:00:00",
          "2021-12-10T00:00:00",
          "2021-12-08T00:00:00",
          "2021-12-06T00:00:00",
          "2021-12-02T00:00:00",
          "2021-11-30T00:00:00",
          "2021-11-28T00:00:00",
          "2021-11-25T00:00:00",
          "2021-11-24T00:00:00",
          "2021-11-22T00:00:00",
          "2021-11-20T00:00:00",
          "2021-11-18T00:00:00",
          "2021-11-15T00:00:00",
          "2021-11-13T00:00:00",
          "2021-11-10T00:00:00",
          "2021-11-06T00:00:00",
          "2021-11-03T00:00:00",
          "2021-11-01T00:00:00",
          "2021-10-31T00:00:00",
          "2021-10-27T00:00:00",
          "2021-10-26T00:00:00",
          "2021-10-25T00:00:00",
          "2021-10-22T00:00:00",
          "2021-10-20T00:00:00",
          "2021-10-19T00:00:00",
          "2021-10-17T00:00:00",
          "2021-10-12T00:00:00",
          "2021-10-09T00:00:00",
          "2021-10-06T00:00:00",
          "2021-10-05T00:00:00",
          "2021-09-28T00:00:00",
          "2021-09-26T00:00:00",
          "2021-09-24T00:00:00",
          "2021-09-21T00:00:00",
          "2021-09-19T00:00:00",
          "2021-09-15T00:00:00",
          "2021-09-13T00:00:00",
          "2021-09-09T00:00:00",
          "2021-09-07T00:00:00",
          "2021-09-06T00:00:00",
          "2021-09-04T00:00:00",
          "2021-09-02T00:00:00",
          "2021-08-31T00:00:00",
          "2021-08-30T00:00:00",
          "2021-08-27T00:00:00",
          "2021-08-24T00:00:00",
          "2021-08-22T00:00:00",
          "2021-08-20T00:00:00",
          "2021-08-16T00:00:00",
          "2021-08-14T00:00:00",
          "2021-08-11T00:00:00",
          "2021-08-10T00:00:00",
          "2021-08-07T00:00:00",
          "2021-08-05T00:00:00",
          "2021-07-26T00:00:00",
          "2021-07-24T00:00:00",
          "2021-07-22T00:00:00",
          "2021-07-21T00:00:00",
          "2021-07-20T00:00:00",
          "2021-07-19T00:00:00",
          "2021-07-17T00:00:00",
          "2021-07-10T00:00:00",
          "2021-07-09T00:00:00",
          "2021-07-06T00:00:00",
          "2021-07-04T00:00:00",
          "2021-07-03T00:00:00",
          "2021-07-02T00:00:00",
          "2021-07-01T00:00:00",
          "2021-06-30T00:00:00",
          "2021-06-27T00:00:00",
          "2021-06-26T00:00:00",
          "2021-06-24T00:00:00",
          "2021-06-21T00:00:00",
          "2021-06-20T00:00:00",
          "2021-06-19T00:00:00",
          "2021-06-18T00:00:00",
          "2021-06-17T00:00:00",
          "2021-06-16T00:00:00",
          "2021-06-14T00:00:00",
          "2021-06-13T00:00:00",
          "2021-06-11T00:00:00",
          "2021-06-09T00:00:00",
          "2021-06-08T00:00:00",
          "2021-06-07T00:00:00",
          "2021-06-06T00:00:00",
          "2021-06-05T00:00:00",
          "2021-06-04T00:00:00",
          "2021-06-02T00:00:00",
          "2021-05-31T00:00:00",
          "2021-05-30T00:00:00",
          "2021-05-29T00:00:00",
          "2021-05-28T00:00:00",
          "2021-05-27T00:00:00",
          "2021-05-26T00:00:00",
          "2021-05-25T00:00:00",
          "2021-05-23T00:00:00",
          "2021-05-22T00:00:00",
          "2021-05-21T00:00:00",
          "2021-05-21T00:00:00",
          "2021-05-20T00:00:00",
          "2021-05-19T00:00:00",
          "2021-05-15T00:00:00",
          "2021-05-12T00:00:00",
          "2021-05-11T00:00:00",
          "2021-05-10T00:00:00",
          "2021-05-08T00:00:00",
          "2021-05-07T00:00:00",
          "2021-05-06T00:00:00",
          "2021-05-05T00:00:00",
          "2021-05-04T00:00:00",
          "2021-05-01T00:00:00",
          "2021-04-30T00:00:00",
          "2021-04-29T00:00:00",
          "2021-04-28T00:00:00",
          "2021-04-26T00:00:00",
          "2021-04-25T00:00:00",
          "2021-04-24T00:00:00",
          "2021-04-22T00:00:00",
          "2021-04-21T00:00:00",
          "2021-04-20T00:00:00",
          "2021-04-19T00:00:00",
          "2021-04-17T00:00:00",
          "2021-04-16T00:00:00",
          "2021-04-15T00:00:00",
          "2021-04-14T00:00:00",
          "2021-04-13T00:00:00",
          "2021-04-12T00:00:00",
          "2021-04-11T00:00:00",
          "2021-04-10T00:00:00",
          "2021-04-10T00:00:00",
          "2021-04-10T00:00:00",
          "2021-04-09T00:00:00",
          "2021-04-09T00:00:00",
          "2021-04-08T00:00:00",
          "2021-04-08T00:00:00",
          "2021-04-05T00:00:00",
          "2021-04-04T00:00:00",
          "2021-04-04T00:00:00",
          "2021-04-03T00:00:00",
          "2021-04-03T00:00:00",
          "2021-04-03T00:00:00",
          "2021-03-31T00:00:00",
          "2021-03-30T00:00:00",
          "2021-03-27T00:00:00",
          "2021-03-27T00:00:00",
          "2021-03-25T00:00:00",
          "2021-03-25T00:00:00",
          "2021-03-25T00:00:00",
          "2021-03-24T00:00:00",
          "2021-03-23T00:00:00",
          "2021-03-22T00:00:00",
          "2021-03-22T00:00:00",
          "2021-03-21T00:00:00",
          "2021-03-21T00:00:00",
          "2021-03-20T00:00:00",
          "2021-03-19T00:00:00",
          "2021-03-19T00:00:00",
          "2021-03-19T00:00:00",
          "2021-03-19T00:00:00",
          "2021-03-17T00:00:00",
          "2021-03-17T00:00:00",
          "2021-03-17T00:00:00",
          "2021-03-16T00:00:00",
          "2021-03-16T00:00:00",
          "2021-03-15T00:00:00",
          "2021-03-15T00:00:00",
          "2021-03-14T00:00:00",
          "2021-03-12T00:00:00",
          "2021-03-12T00:00:00",
          "2021-03-11T00:00:00",
          "2021-03-10T00:00:00",
          "2021-03-10T00:00:00",
          "2021-03-10T00:00:00",
          "2021-03-09T00:00:00",
          "2021-03-08T00:00:00",
          "2021-03-08T00:00:00",
          "2021-03-07T00:00:00",
          "2021-03-07T00:00:00",
          "2021-03-05T00:00:00",
          "2021-03-04T00:00:00",
          "2021-03-04T00:00:00",
          "2021-03-03T00:00:00",
          "2021-03-03T00:00:00",
          "2021-03-02T00:00:00",
          "2021-02-27T00:00:00",
          "2021-02-26T00:00:00",
          "2021-02-26T00:00:00",
          "2021-02-26T00:00:00",
          "2021-02-25T00:00:00",
          "2021-02-24T00:00:00",
          "2021-02-24T00:00:00",
          "2021-02-24T00:00:00",
          "2021-02-22T00:00:00",
          "2021-02-21T00:00:00",
          "2021-02-18T00:00:00",
          "2021-02-17T00:00:00",
          "2021-02-17T00:00:00",
          "2021-02-16T00:00:00",
          "2021-02-15T00:00:00",
          "2021-02-15T00:00:00",
          "2021-02-13T00:00:00",
          "2021-02-13T00:00:00",
          "2021-02-12T00:00:00",
          "2021-02-12T00:00:00",
          "2021-02-12T00:00:00",
          "2021-02-11T00:00:00",
          "2021-02-10T00:00:00",
          "2021-02-09T00:00:00",
          "2021-02-09T00:00:00",
          "2021-02-07T00:00:00",
          "2021-02-06T00:00:00",
          "2021-02-03T00:00:00",
          "2021-02-02T00:00:00",
          "2021-02-01T00:00:00",
          "2021-01-31T00:00:00",
          "2021-01-30T00:00:00",
          "2021-01-30T00:00:00",
          "2021-01-29T00:00:00",
          "2021-01-26T00:00:00",
          "2021-01-25T00:00:00",
          "2021-01-25T00:00:00",
          "2021-01-24T00:00:00",
          "2021-01-23T00:00:00",
          "2021-01-23T00:00:00",
          "2021-01-22T00:00:00",
          "2021-01-22T00:00:00",
          "2021-01-22T00:00:00",
          "2021-01-22T00:00:00",
          "2021-01-21T00:00:00",
          "2021-01-21T00:00:00",
          "2021-01-21T00:00:00",
          "2021-01-20T00:00:00",
          "2021-01-20T00:00:00",
          "2021-01-19T00:00:00",
          "2021-01-19T00:00:00",
          "2021-01-18T00:00:00",
          "2021-01-18T00:00:00",
          "2021-01-17T00:00:00",
          "2021-01-16T00:00:00",
          "2021-01-16T00:00:00",
          "2021-01-16T00:00:00",
          "2021-01-15T00:00:00",
          "2021-01-15T00:00:00",
          "2021-01-15T00:00:00",
          "2021-01-14T00:00:00",
          "2021-01-14T00:00:00",
          "2021-01-14T00:00:00",
          "2021-01-13T00:00:00",
          "2021-01-12T00:00:00",
          "2021-01-11T00:00:00",
          "2021-01-11T00:00:00",
          "2021-01-11T00:00:00",
          "2021-01-10T00:00:00",
          "2021-01-09T00:00:00",
          "2021-01-09T00:00:00",
          "2021-01-09T00:00:00",
          "2021-01-09T00:00:00",
          "2021-01-08T00:00:00",
          "2021-01-08T00:00:00",
          "2021-01-06T00:00:00",
          "2021-01-06T00:00:00",
          "2021-01-06T00:00:00",
          "2021-01-05T00:00:00",
          "2021-01-05T00:00:00",
          "2021-01-04T00:00:00",
          "2021-01-03T00:00:00",
          "2021-01-03T00:00:00",
          "2021-01-03T00:00:00",
          "2021-01-02T00:00:00",
          "2021-01-02T00:00:00",
          "2021-01-01T00:00:00",
          "2021-01-01T00:00:00",
          "2020-12-30T00:00:00",
          "2020-12-30T00:00:00",
          "2020-12-30T00:00:00",
          "2020-12-29T00:00:00",
          "2020-12-29T00:00:00",
          "2020-12-27T00:00:00",
          "2020-12-26T00:00:00",
          "2020-12-26T00:00:00",
          "2020-12-25T00:00:00",
          "2020-12-23T00:00:00",
          "2020-12-23T00:00:00",
          "2020-12-22T00:00:00",
          "2020-12-21T00:00:00",
          "2020-12-21T00:00:00",
          "2020-12-21T00:00:00",
          "2020-12-20T00:00:00",
          "2020-12-20T00:00:00",
          "2020-12-20T00:00:00",
          "2020-12-19T00:00:00",
          "2020-12-19T00:00:00",
          "2020-12-19T00:00:00",
          "2020-12-18T00:00:00",
          "2020-12-18T00:00:00",
          "2020-12-17T00:00:00",
          "2020-12-17T00:00:00",
          "2020-12-17T00:00:00",
          "2020-12-16T00:00:00",
          "2020-12-16T00:00:00",
          "2020-12-16T00:00:00",
          "2020-12-16T00:00:00",
          "2020-12-15T00:00:00",
          "2020-12-15T00:00:00",
          "2020-12-15T00:00:00",
          "2020-12-15T00:00:00",
          "2020-12-14T00:00:00",
          "2020-12-14T00:00:00",
          "2020-12-14T00:00:00",
          "2020-12-13T00:00:00",
          "2020-12-13T00:00:00",
          "2020-12-13T00:00:00",
          "2020-12-12T00:00:00",
          "2020-12-12T00:00:00",
          "2020-12-11T00:00:00",
          "2020-12-11T00:00:00",
          "2020-12-10T00:00:00",
          "2020-12-10T00:00:00",
          "2020-12-09T00:00:00",
          "2020-12-09T00:00:00",
          "2020-12-08T00:00:00",
          "2020-12-08T00:00:00",
          "2020-12-08T00:00:00",
          "2020-12-07T00:00:00",
          "2020-12-07T00:00:00",
          "2020-12-07T00:00:00",
          "2020-12-05T00:00:00",
          "2020-12-05T00:00:00",
          "2020-12-05T00:00:00",
          "2020-12-04T00:00:00",
          "2020-12-04T00:00:00",
          "2020-12-04T00:00:00",
          "2020-12-03T00:00:00",
          "2020-12-03T00:00:00",
          "2020-12-03T00:00:00",
          "2020-12-02T00:00:00",
          "2020-12-02T00:00:00",
          "2020-12-01T00:00:00",
          "2020-12-01T00:00:00",
          "2020-12-01T00:00:00",
          "2020-11-30T00:00:00",
          "2020-11-30T00:00:00",
          "2020-11-29T00:00:00",
          "2020-11-29T00:00:00",
          "2020-11-29T00:00:00",
          "2020-11-29T00:00:00",
          "2020-11-29T00:00:00",
          "2020-11-28T00:00:00",
          "2020-11-28T00:00:00",
          "2020-11-27T00:00:00",
          "2020-11-26T00:00:00",
          "2020-11-26T00:00:00",
          "2020-11-25T00:00:00",
          "2020-11-25T00:00:00",
          "2020-11-25T00:00:00",
          "2020-11-25T00:00:00",
          "2020-11-24T00:00:00",
          "2020-11-24T00:00:00",
          "2020-11-23T00:00:00",
          "2020-11-23T00:00:00",
          "2020-11-22T00:00:00",
          "2020-11-22T00:00:00",
          "2020-11-21T00:00:00",
          "2020-11-21T00:00:00",
          "2020-11-21T00:00:00",
          "2020-11-20T00:00:00",
          "2020-11-20T00:00:00",
          "2020-11-20T00:00:00",
          "2020-11-19T00:00:00",
          "2020-11-19T00:00:00",
          "2020-11-18T00:00:00",
          "2020-11-17T00:00:00",
          "2020-11-17T00:00:00",
          "2020-11-17T00:00:00",
          "2020-11-16T00:00:00",
          "2020-11-16T00:00:00",
          "2020-11-15T00:00:00",
          "2020-11-14T00:00:00",
          "2020-11-11T00:00:00",
          "2020-11-11T00:00:00",
          "2020-11-10T00:00:00",
          "2020-11-09T00:00:00",
          "2020-11-09T00:00:00",
          "2020-11-08T00:00:00",
          "2020-11-08T00:00:00",
          "2020-11-07T00:00:00",
          "2020-11-07T00:00:00",
          "2020-11-06T00:00:00",
          "2020-11-06T00:00:00",
          "2020-11-06T00:00:00",
          "2020-11-05T00:00:00",
          "2020-11-05T00:00:00",
          "2020-11-05T00:00:00",
          "2020-11-04T00:00:00",
          "2020-11-04T00:00:00",
          "2020-11-03T00:00:00",
          "2020-11-03T00:00:00",
          "2020-11-02T00:00:00",
          "2020-11-02T00:00:00",
          "2020-11-01T00:00:00",
          "2020-11-01T00:00:00",
          "2020-11-01T00:00:00",
          "2020-10-31T00:00:00",
          "2020-10-30T00:00:00",
          "2020-10-30T00:00:00",
          "2020-10-29T00:00:00",
          "2020-10-29T00:00:00",
          "2020-10-28T00:00:00",
          "2020-10-28T00:00:00",
          "2020-10-28T00:00:00",
          "2020-10-27T00:00:00",
          "2020-10-27T00:00:00",
          "2020-10-27T00:00:00",
          "2020-10-26T00:00:00",
          "2020-10-26T00:00:00",
          "2020-10-26T00:00:00",
          "2020-10-25T00:00:00",
          "2020-10-25T00:00:00",
          "2020-10-24T00:00:00",
          "2020-10-24T00:00:00",
          "2020-10-23T00:00:00",
          "2020-10-23T00:00:00",
          "2020-10-22T00:00:00",
          "2020-10-22T00:00:00",
          "2020-10-21T00:00:00",
          "2020-10-21T00:00:00",
          "2020-10-20T00:00:00",
          "2020-10-20T00:00:00",
          "2020-10-19T00:00:00",
          "2020-10-19T00:00:00",
          "2020-10-17T00:00:00",
          "2020-10-16T00:00:00",
          "2020-10-15T00:00:00",
          "2020-10-15T00:00:00",
          "2020-10-15T00:00:00",
          "2020-10-14T00:00:00",
          "2020-10-14T00:00:00",
          "2020-10-14T00:00:00",
          "2020-10-13T00:00:00",
          "2020-10-13T00:00:00",
          "2020-10-13T00:00:00",
          "2020-10-12T00:00:00",
          "2020-10-12T00:00:00",
          "2020-10-11T00:00:00",
          "2020-10-11T00:00:00",
          "2020-10-10T00:00:00",
          "2020-10-10T00:00:00",
          "2020-10-09T00:00:00",
          "2020-10-09T00:00:00",
          "2020-10-08T00:00:00",
          "2020-10-08T00:00:00",
          "2020-10-07T00:00:00",
          "2020-10-07T00:00:00",
          "2020-10-07T00:00:00",
          "2020-10-06T00:00:00",
          "2020-10-06T00:00:00",
          "2020-10-05T00:00:00",
          "2020-10-05T00:00:00",
          "2020-10-04T00:00:00",
          "2020-10-03T00:00:00",
          "2020-10-03T00:00:00",
          "2020-10-02T00:00:00",
          "2020-10-02T00:00:00",
          "2020-10-01T00:00:00",
          "2020-10-01T00:00:00",
          "2020-09-30T00:00:00",
          "2020-09-29T00:00:00",
          "2020-09-29T00:00:00",
          "2020-09-28T00:00:00",
          "2020-09-28T00:00:00",
          "2020-09-27T00:00:00",
          "2020-09-27T00:00:00",
          "2020-09-27T00:00:00",
          "2020-09-26T00:00:00",
          "2020-09-26T00:00:00",
          "2020-09-25T00:00:00",
          "2020-09-25T00:00:00",
          "2020-09-24T00:00:00",
          "2020-09-24T00:00:00",
          "2020-09-23T00:00:00",
          "2020-09-23T00:00:00",
          "2020-09-22T00:00:00",
          "2020-09-22T00:00:00",
          "2020-09-22T00:00:00",
          "2020-09-21T00:00:00",
          "2020-09-21T00:00:00",
          "2020-09-20T00:00:00",
          "2020-09-20T00:00:00",
          "2020-09-19T00:00:00",
          "2020-09-19T00:00:00",
          "2020-09-18T00:00:00",
          "2020-09-18T00:00:00",
          "2020-09-17T00:00:00",
          "2020-09-17T00:00:00",
          "2020-09-16T00:00:00",
          "2020-09-16T00:00:00",
          "2020-09-16T00:00:00",
          "2020-09-15T00:00:00",
          "2020-09-15T00:00:00",
          "2020-09-15T00:00:00",
          "2020-09-14T00:00:00",
          "2020-09-14T00:00:00",
          "2020-09-14T00:00:00",
          "2020-09-13T00:00:00",
          "2020-09-13T00:00:00",
          "2020-09-13T00:00:00",
          "2020-09-12T00:00:00",
          "2020-09-12T00:00:00",
          "2020-09-12T00:00:00",
          "2020-09-11T00:00:00",
          "2020-09-11T00:00:00",
          "2020-09-10T00:00:00",
          "2020-09-10T00:00:00",
          "2020-09-09T00:00:00",
          "2020-09-09T00:00:00",
          "2020-09-09T00:00:00",
          "2020-09-08T00:00:00",
          "2020-09-08T00:00:00",
          "2020-09-08T00:00:00",
          "2020-09-07T00:00:00",
          "2020-09-07T00:00:00",
          "2020-09-07T00:00:00",
          "2020-09-07T00:00:00",
          "2020-09-06T00:00:00",
          "2020-09-06T00:00:00",
          "2020-09-06T00:00:00",
          "2020-09-05T00:00:00",
          "2020-09-05T00:00:00",
          "2020-09-05T00:00:00",
          "2020-09-04T00:00:00",
          "2020-09-04T00:00:00",
          "2020-09-03T00:00:00",
          "2020-09-03T00:00:00",
          "2020-09-02T00:00:00",
          "2020-09-02T00:00:00",
          "2020-09-01T00:00:00",
          "2020-09-01T00:00:00",
          "2020-09-01T00:00:00",
          "2020-08-31T00:00:00",
          "2020-08-31T00:00:00",
          "2020-08-31T00:00:00",
          "2020-08-30T00:00:00",
          "2020-08-30T00:00:00",
          "2020-08-29T00:00:00",
          "2020-08-29T00:00:00",
          "2020-08-29T00:00:00",
          "2020-08-28T00:00:00",
          "2020-08-28T00:00:00",
          "2020-08-27T00:00:00",
          "2020-08-27T00:00:00",
          "2020-08-26T00:00:00",
          "2020-08-26T00:00:00",
          "2020-08-26T00:00:00",
          "2020-08-25T00:00:00",
          "2020-08-25T00:00:00",
          "2020-08-24T00:00:00",
          "2020-08-24T00:00:00",
          "2020-08-24T00:00:00",
          "2020-08-23T00:00:00",
          "2020-08-23T00:00:00",
          "2020-08-22T00:00:00",
          "2020-08-21T00:00:00",
          "2020-08-21T00:00:00",
          "2020-08-20T00:00:00",
          "2020-08-20T00:00:00",
          "2020-08-20T00:00:00",
          "2020-08-19T00:00:00",
          "2020-08-19T00:00:00",
          "2020-08-18T00:00:00",
          "2020-08-18T00:00:00",
          "2020-08-18T00:00:00",
          "2020-08-17T00:00:00",
          "2020-08-17T00:00:00",
          "2020-08-17T00:00:00",
          "2020-08-17T00:00:00",
          "2020-08-16T00:00:00",
          "2020-08-16T00:00:00",
          "2020-08-16T00:00:00",
          "2020-08-15T00:00:00",
          "2020-08-15T00:00:00",
          "2020-08-15T00:00:00",
          "2020-08-14T00:00:00",
          "2020-08-14T00:00:00",
          "2020-08-13T00:00:00",
          "2020-08-13T00:00:00",
          "2020-08-13T00:00:00",
          "2020-08-12T00:00:00",
          "2020-08-12T00:00:00",
          "2020-08-12T00:00:00",
          "2020-08-11T00:00:00",
          "2020-08-11T00:00:00",
          "2020-08-11T00:00:00",
          "2020-08-11T00:00:00",
          "2020-08-10T00:00:00",
          "2020-08-10T00:00:00",
          "2020-08-09T00:00:00",
          "2020-08-09T00:00:00",
          "2020-08-09T00:00:00",
          "2020-08-08T00:00:00",
          "2020-08-08T00:00:00",
          "2020-08-08T00:00:00",
          "2020-08-07T00:00:00",
          "2020-08-07T00:00:00",
          "2020-08-06T00:00:00",
          "2020-08-06T00:00:00",
          "2020-08-05T00:00:00",
          "2020-08-05T00:00:00",
          "2020-08-05T00:00:00",
          "2020-08-04T00:00:00",
          "2020-08-04T00:00:00",
          "2020-08-04T00:00:00",
          "2020-08-03T00:00:00",
          "2020-08-03T00:00:00",
          "2020-08-03T00:00:00",
          "2020-08-02T00:00:00",
          "2020-08-02T00:00:00",
          "2020-08-02T00:00:00",
          "2020-08-01T00:00:00",
          "2020-07-31T00:00:00",
          "2020-07-31T00:00:00",
          "2020-07-31T00:00:00",
          "2020-07-30T00:00:00",
          "2020-07-30T00:00:00",
          "2020-07-30T00:00:00",
          "2020-07-29T00:00:00",
          "2020-07-29T00:00:00",
          "2020-07-29T00:00:00",
          "2020-07-29T00:00:00",
          "2020-07-28T00:00:00",
          "2020-07-28T00:00:00",
          "2020-07-27T00:00:00",
          "2020-07-27T00:00:00",
          "2020-07-27T00:00:00",
          "2020-07-26T00:00:00",
          "2020-07-26T00:00:00",
          "2020-07-26T00:00:00",
          "2020-07-25T00:00:00",
          "2020-07-25T00:00:00",
          "2020-07-24T00:00:00",
          "2020-07-24T00:00:00",
          "2020-07-24T00:00:00",
          "2020-07-23T00:00:00",
          "2020-07-23T00:00:00",
          "2020-07-23T00:00:00",
          "2020-07-22T00:00:00",
          "2020-07-22T00:00:00",
          "2020-07-22T00:00:00",
          "2020-07-21T00:00:00",
          "2020-07-21T00:00:00",
          "2020-07-20T00:00:00",
          "2020-07-20T00:00:00",
          "2020-07-20T00:00:00",
          "2020-07-20T00:00:00",
          "2020-07-19T00:00:00",
          "2020-07-19T00:00:00",
          "2020-07-18T00:00:00",
          "2020-07-18T00:00:00",
          "2020-07-18T00:00:00",
          "2020-07-17T00:00:00",
          "2020-07-17T00:00:00",
          "2020-07-16T00:00:00",
          "2020-07-16T00:00:00",
          "2020-07-15T00:00:00",
          "2020-07-15T00:00:00",
          "2020-07-14T00:00:00",
          "2020-07-14T00:00:00",
          "2020-07-13T00:00:00",
          "2020-07-13T00:00:00",
          "2020-07-12T00:00:00",
          "2020-07-12T00:00:00",
          "2020-07-11T00:00:00",
          "2020-07-11T00:00:00",
          "2020-07-11T00:00:00",
          "2020-07-11T00:00:00",
          "2020-07-10T00:00:00",
          "2020-07-10T00:00:00",
          "2020-07-10T00:00:00",
          "2020-07-09T00:00:00",
          "2020-07-09T00:00:00",
          "2020-07-08T00:00:00",
          "2020-07-08T00:00:00",
          "2020-07-07T00:00:00",
          "2020-07-07T00:00:00",
          "2020-07-07T00:00:00",
          "2020-07-06T00:00:00",
          "2020-07-06T00:00:00",
          "2020-07-06T00:00:00",
          "2020-07-05T00:00:00",
          "2020-07-05T00:00:00",
          "2020-07-05T00:00:00",
          "2020-07-04T00:00:00",
          "2020-07-04T00:00:00",
          "2020-07-04T00:00:00",
          "2020-07-03T00:00:00",
          "2020-07-03T00:00:00",
          "2020-07-03T00:00:00",
          "2020-07-02T00:00:00",
          "2020-07-02T00:00:00",
          "2020-07-01T00:00:00",
          "2020-07-01T00:00:00",
          "2020-06-30T00:00:00",
          "2020-06-30T00:00:00",
          "2020-06-30T00:00:00",
          "2020-06-29T00:00:00",
          "2020-06-29T00:00:00",
          "2020-06-29T00:00:00",
          "2020-06-28T00:00:00",
          "2020-06-28T00:00:00",
          "2020-06-28T00:00:00",
          "2020-06-27T00:00:00",
          "2020-06-27T00:00:00",
          "2020-06-27T00:00:00",
          "2020-06-27T00:00:00",
          "2020-06-26T00:00:00",
          "2020-06-26T00:00:00",
          "2020-06-25T00:00:00",
          "2020-06-25T00:00:00",
          "2020-06-24T00:00:00",
          "2020-06-24T00:00:00",
          "2020-06-23T00:00:00",
          "2020-06-23T00:00:00",
          "2020-06-22T00:00:00",
          "2020-06-22T00:00:00",
          "2020-06-21T00:00:00",
          "2020-06-20T00:00:00",
          "2020-06-20T00:00:00",
          "2020-06-19T00:00:00",
          "2020-06-19T00:00:00",
          "2020-06-18T00:00:00",
          "2020-06-18T00:00:00",
          "2020-06-17T00:00:00",
          "2020-06-17T00:00:00",
          "2020-06-17T00:00:00",
          "2020-06-16T00:00:00",
          "2020-06-16T00:00:00",
          "2020-06-15T00:00:00",
          "2020-06-15T00:00:00",
          "2020-06-15T00:00:00",
          "2020-06-15T00:00:00",
          "2020-06-14T00:00:00",
          "2020-06-14T00:00:00",
          "2020-06-14T00:00:00",
          "2020-06-13T00:00:00",
          "2020-06-13T00:00:00",
          "2020-06-12T00:00:00",
          "2020-06-12T00:00:00",
          "2020-06-12T00:00:00",
          "2020-06-11T00:00:00",
          "2020-06-11T00:00:00",
          "2020-06-11T00:00:00",
          "2020-06-10T00:00:00",
          "2020-06-10T00:00:00",
          "2020-06-10T00:00:00",
          "2020-06-09T00:00:00",
          "2020-06-09T00:00:00",
          "2020-06-08T00:00:00",
          "2020-06-08T00:00:00",
          "2020-06-07T00:00:00",
          "2020-06-07T00:00:00",
          "2020-06-06T00:00:00",
          "2020-06-06T00:00:00",
          "2020-06-05T00:00:00",
          "2020-06-05T00:00:00",
          "2020-06-05T00:00:00",
          "2020-06-05T00:00:00",
          "2020-06-04T00:00:00",
          "2020-06-04T00:00:00",
          "2020-06-04T00:00:00",
          "2020-06-03T00:00:00",
          "2020-06-03T00:00:00",
          "2020-06-03T00:00:00",
          "2020-06-02T00:00:00",
          "2020-06-02T00:00:00",
          "2020-06-02T00:00:00",
          "2020-06-01T00:00:00",
          "2020-06-01T00:00:00",
          "2020-06-01T00:00:00",
          "2020-05-31T00:00:00",
          "2020-05-31T00:00:00",
          "2020-05-30T00:00:00",
          "2020-05-30T00:00:00",
          "2020-05-29T00:00:00",
          "2020-05-29T00:00:00",
          "2020-05-28T00:00:00",
          "2020-05-28T00:00:00",
          "2020-05-27T00:00:00",
          "2020-05-27T00:00:00",
          "2020-05-26T00:00:00",
          "2020-05-26T00:00:00",
          "2020-05-25T00:00:00",
          "2020-05-25T00:00:00",
          "2020-05-25T00:00:00",
          "2020-05-24T00:00:00",
          "2020-05-23T00:00:00",
          "2020-05-23T00:00:00",
          "2020-05-22T00:00:00",
          "2020-05-21T00:00:00",
          "2020-05-21T00:00:00",
          "2020-05-20T00:00:00",
          "2020-05-20T00:00:00",
          "2020-05-20T00:00:00",
          "2020-05-19T00:00:00",
          "2020-05-19T00:00:00",
          "2020-05-18T00:00:00",
          "2020-05-18T00:00:00",
          "2020-05-18T00:00:00",
          "2020-05-18T00:00:00",
          "2020-05-17T00:00:00",
          "2020-05-17T00:00:00",
          "2020-05-17T00:00:00",
          "2020-05-16T00:00:00",
          "2020-05-16T00:00:00",
          "2020-05-16T00:00:00",
          "2020-05-15T00:00:00",
          "2020-05-14T00:00:00",
          "2020-05-14T00:00:00",
          "2020-05-14T00:00:00",
          "2020-05-13T00:00:00",
          "2020-05-13T00:00:00",
          "2020-05-12T00:00:00",
          "2020-05-12T00:00:00",
          "2020-05-12T00:00:00",
          "2020-05-11T00:00:00",
          "2020-05-11T00:00:00",
          "2020-05-11T00:00:00",
          "2020-05-10T00:00:00",
          "2020-05-09T00:00:00",
          "2020-05-09T00:00:00",
          "2020-05-08T00:00:00",
          "2020-05-08T00:00:00",
          "2020-05-07T00:00:00",
          "2020-05-07T00:00:00",
          "2020-05-06T00:00:00",
          "2020-05-06T00:00:00",
          "2020-05-05T00:00:00",
          "2020-05-05T00:00:00",
          "2020-05-04T00:00:00",
          "2020-05-04T00:00:00",
          "2020-04-26T00:00:00",
          "2020-04-25T00:00:00",
          "2020-04-25T00:00:00",
          "2020-04-24T00:00:00",
          "2020-04-24T00:00:00",
          "2020-04-23T00:00:00",
          "2020-04-23T00:00:00",
          "2020-04-22T00:00:00",
          "2020-04-22T00:00:00",
          "2020-04-21T00:00:00",
          "2020-04-20T00:00:00",
          "2020-04-20T00:00:00",
          "2020-04-19T00:00:00",
          "2020-04-19T00:00:00",
          "2020-04-18T00:00:00",
          "2020-04-18T00:00:00",
          "2020-04-17T00:00:00",
          "2020-04-17T00:00:00",
          "2020-04-16T00:00:00",
          "2020-04-15T00:00:00",
          "2020-04-15T00:00:00",
          "2020-04-14T00:00:00",
          "2020-04-13T00:00:00",
          "2020-04-13T00:00:00",
          "2020-04-11T00:00:00",
          "2020-04-11T00:00:00",
          "2020-04-10T00:00:00",
          "2020-04-10T00:00:00",
          "2020-04-09T00:00:00",
          "2020-04-08T00:00:00",
          "2020-04-08T00:00:00",
          "2020-04-07T00:00:00",
          "2020-04-07T00:00:00",
          "2020-04-06T00:00:00",
          "2020-04-06T00:00:00",
          "2020-04-05T00:00:00",
          "2020-04-05T00:00:00",
          "2020-04-04T00:00:00",
          "2020-04-04T00:00:00",
          "2020-04-03T00:00:00",
          "2020-04-03T00:00:00",
          "2020-04-02T00:00:00",
          "2020-04-02T00:00:00",
          "2020-04-01T00:00:00",
          "2020-04-01T00:00:00",
          "2020-03-31T00:00:00",
          "2020-03-30T00:00:00",
          "2020-03-29T00:00:00",
          "2020-03-29T00:00:00",
          "2020-03-28T00:00:00",
          "2020-03-28T00:00:00",
          "2020-03-27T00:00:00",
          "2020-03-27T00:00:00",
          "2020-03-27T00:00:00",
          "2020-03-26T00:00:00",
          "2020-03-26T00:00:00",
          "2020-03-25T00:00:00",
          "2020-03-25T00:00:00",
          "2020-03-24T00:00:00",
          "2020-03-24T00:00:00",
          "2020-03-23T00:00:00",
          "2020-03-22T00:00:00",
          "2020-03-22T00:00:00",
          "2020-03-21T00:00:00",
          "2020-03-19T00:00:00",
          "2020-03-17T00:00:00",
          "2020-03-15T00:00:00"
         ],
         "xaxis": "x",
         "y": [
          3000000,
          10800000,
          2900000,
          3200000,
          17100000,
          4900000,
          8200000,
          6200000,
          15300000,
          125400000,
          11800000,
          106700000,
          12300000,
          15100000,
          13700000,
          44900000,
          6600000,
          23100000,
          15500000,
          59800000,
          18600000,
          9800000,
          7100000,
          8100000,
          9400000,
          9700000,
          150900000,
          31600000,
          128900000,
          9500000,
          6700000,
          11500000,
          11100000,
          51600000,
          28200000,
          14900000,
          10200000,
          53100000,
          11400000,
          5000000,
          9000000,
          3500000,
          23100000,
          9500000,
          65300000,
          33900000,
          5100000,
          3200000,
          13600000,
          8900000,
          6900000,
          223700000,
          21900000,
          13000000,
          4900000,
          76600000,
          12500000,
          38300000,
          7200000,
          7700000,
          7500000,
          9000000,
          38200000,
          108400000,
          11000000,
          25000000,
          6300000,
          12200000,
          128300000,
          71900000,
          30600000,
          9800000,
          20300000,
          13400000,
          21000000,
          35000000,
          34200000,
          16000000,
          41600000,
          85200000,
          11100000,
          34100000,
          56000000,
          12400000,
          45700000,
          42900000,
          40400000,
          32700000,
          128900000,
          27100000,
          21500000,
          39600000,
          92500000,
          31000000,
          24500000,
          56200000,
          45000000,
          24000000,
          16100000,
          24100000,
          85400000,
          27400000,
          23000000,
          56000000,
          40400000,
          53800000,
          98200000,
          86300000,
          30400000,
          39400000,
          36600000,
          173900000,
          37600000,
          105500000,
          21400000,
          48500000,
          52300000,
          69900000,
          63400000,
          27700000,
          33800000,
          74300000,
          30900000,
          27000000,
          131100000,
          32700000,
          19500000,
          16500000,
          25700000,
          47000000,
          47500000,
          13900000,
          63200000,
          33800000,
          26600000,
          28500000,
          25300000,
          43100000,
          45900000,
          18700000,
          38900000,
          137100000,
          51100000,
          46700000,
          42300000,
          33600000,
          18200000,
          84600000,
          19700000,
          20500000,
          25000000,
          29300000,
          34700000,
          21100000,
          20300000,
          38500000,
          34400000,
          24500000,
          41500000,
          49700000,
          15900000,
          118900000,
          64000000,
          19000000,
          179900000,
          16300000,
          33600000,
          51000000,
          17400000,
          64800000,
          10900000,
          17200000,
          109300000,
          42000000,
          81000000,
          20300000,
          21800000,
          28200000,
          17700000,
          39800000,
          25300000,
          36500000,
          14700000,
          104100000,
          11300000,
          26800000,
          13100000,
          39400000,
          37700000,
          44200000,
          223200000,
          67200000,
          41300000,
          73400000,
          21700000,
          45300000,
          23300000,
          45600000,
          21100000,
          52200000,
          52500000,
          39200000,
          23500000,
          28000000,
          21100000,
          90700000,
          44600000,
          41600000,
          51600000,
          44200000,
          95000000,
          51700000,
          44800000,
          27400000,
          43800000,
          22400000,
          96500000,
          138100000,
          39100000,
          304300000,
          201800000,
          39800000,
          131900000,
          49200000,
          67100000,
          63100000,
          65000000,
          37800000,
          181300000,
          71900000,
          34200000,
          105400000,
          39300000,
          117200000,
          64400000,
          29900000,
          175300000,
          76800000,
          74900000,
          39100000,
          93800000,
          352900000,
          33000000,
          96100000,
          33500000,
          41200000,
          171400000,
          33500000,
          59500000,
          76100000,
          33800000,
          42200000,
          32900000,
          106400000,
          298800000,
          26600000,
          75500000,
          41600000,
          37300000,
          28300000,
          60100000,
          65000000,
          58000000,
          31500000,
          39500000,
          31500000,
          53700000,
          70200000,
          135600000,
          188600000,
          34700000,
          29500000,
          28600000,
          62800000,
          57400000,
          277500000,
          86900000,
          79600000,
          85700000,
          60400000,
          91300000,
          31600000,
          44700000,
          119800000,
          105000000,
          96500000,
          37300000,
          238000000,
          56800000,
          123700000,
          40200000,
          185500000,
          45300000,
          138200000,
          43400000,
          203200000,
          109300000,
          44600000,
          275700000,
          247200000,
          106400000,
          35100000,
          33800000,
          71700000,
          43200000,
          114900000,
          28600000,
          243500000,
          72000000,
          19300000,
          48300000,
          20000000,
          15600000,
          24000000,
          2743,
          24900000,
          13000000,
          126200000,
          9800000,
          8900000,
          8200000,
          8100000,
          8300000,
          7700000,
          6600000,
          7800000,
          5900000,
          6200000,
          6300000,
          6400000,
          11000000,
          6100000,
          7300000,
          4700000,
          4000000,
          6700000,
          4300000,
          3300000,
          65000000,
          4100000,
          2700000,
          2600000,
          2600000,
          2700000,
          2300000,
          2200000,
          2400000,
          2200000,
          4200000,
          2300000,
          2100000,
          1700000,
          9400000,
          5100000,
          5300000,
          1500000,
          1300000,
          2100000,
          3000000,
          3300000,
          2600000,
          1600000,
          1500000,
          2400000,
          2000000,
          1200000,
          2800000,
          1800000,
          1700000,
          1200000,
          15000000,
          1000000,
          9696,
          1400000,
          9159,
          1100000,
          1100000,
          1300000,
          9311,
          7555,
          7317,
          8392,
          7736,
          6353,
          5956,
          1200000,
          5099,
          7972,
          9047,
          5346,
          4911,
          7508,
          1400000,
          4356,
          709,
          1300000,
          6633,
          667,
          6528,
          4184,
          4373,
          5304,
          4763,
          5842,
          1500000,
          4567,
          1300000,
          1400000,
          9268,
          4253,
          507,
          6194,
          630,
          1500000,
          5764,
          3902,
          7891,
          4587,
          1100000,
          4793,
          3922,
          3415,
          334,
          3556,
          3289,
          5428,
          3105,
          3847,
          9883,
          2911,
          2721,
          2766,
          3000000,
          4534,
          3141,
          3985,
          5644,
          3808,
          5757,
          268,
          2469,
          2656,
          3294,
          2665,
          2481,
          3116,
          2704,
          2487,
          2162,
          3397,
          3475,
          2935,
          3287,
          2748,
          4186,
          3094,
          8039,
          3441,
          2375,
          5582,
          2753,
          8135,
          3258,
          3381,
          3756,
          238,
          4074,
          1600000,
          6896,
          4776,
          2759,
          2075,
          4213,
          2579,
          2715,
          1784,
          1786,
          3253,
          2282,
          3319,
          4956,
          1400000,
          1761,
          2875,
          2126,
          4327,
          2164,
          2794,
          2513,
          2442,
          4662,
          2199,
          3812,
          1872,
          214,
          290,
          1861,
          2058,
          2263,
          2275,
          4739,
          2961,
          4015,
          4299,
          3397,
          2913,
          2571,
          2213,
          3333,
          1200000,
          5819,
          4376,
          2909,
          3386,
          3700000,
          3147,
          4582,
          619,
          3907,
          3448,
          2251,
          4872,
          238,
          4382,
          1100000,
          3133,
          1723,
          2071,
          3124,
          4567,
          2083,
          2553,
          4606,
          17600000,
          3295,
          2851,
          2682,
          2528,
          2075,
          3644,
          2355,
          2878,
          2807,
          328,
          4158,
          3652,
          1876,
          8582,
          2542,
          1794,
          2031,
          221,
          4631,
          3149,
          2309,
          7651,
          391,
          231,
          3878,
          1675,
          1200000,
          2295,
          1798,
          6641,
          4324,
          2561,
          1619,
          1553,
          2632,
          1782,
          1968,
          1955,
          3427,
          249,
          274,
          2681,
          2204,
          2368,
          1803,
          2066,
          2015,
          2116,
          2963,
          6912,
          4498,
          1100000,
          5753,
          1611,
          7296,
          3154,
          7958,
          5902,
          320,
          1532,
          1617,
          1809,
          2400000,
          261,
          3812,
          217,
          2245,
          3674,
          408,
          2382,
          1768,
          6127,
          204,
          268,
          1645,
          4831,
          673,
          2207,
          2079,
          2001,
          169,
          2272,
          1677,
          281,
          1712,
          2037,
          1912,
          3248,
          3611,
          3888,
          5637,
          1607,
          1525,
          1659,
          1425,
          1348,
          709,
          1912,
          155,
          1549,
          1967,
          1907,
          2204,
          2172,
          4666,
          5033,
          3577,
          4057,
          1909,
          5201,
          262,
          167,
          2245,
          2092,
          8144,
          4181,
          2107,
          2309,
          1625,
          2661,
          3352,
          2028,
          1761,
          3265,
          2331,
          1549,
          8935,
          2662,
          2315,
          2592,
          3079,
          1100000,
          2516,
          2198,
          5386,
          3159,
          1598,
          5715,
          2111,
          3284,
          3689,
          1487,
          1454,
          229,
          5592,
          2883,
          1712,
          1768,
          2421,
          1100000,
          2902,
          3827,
          3061,
          2102,
          7123,
          8313,
          2611,
          2542,
          211,
          2205,
          6501,
          1684,
          2484,
          1415,
          2028,
          5704,
          7066,
          2366,
          4237,
          2206,
          3318,
          2311,
          1603,
          3671,
          3138,
          1889,
          266,
          4937,
          2805,
          481,
          1100000,
          8948,
          239,
          2759,
          7716,
          9914,
          1535,
          2000000,
          5511,
          1545,
          4093,
          5562,
          2433,
          2556,
          1405,
          5583,
          3288,
          2086,
          1877,
          5063,
          178,
          479,
          2605,
          234,
          2183,
          4758,
          4051,
          1815,
          6371,
          1200000,
          3947,
          2269,
          1409,
          1085,
          216,
          1800000,
          4855,
          1100000,
          3300000,
          1698,
          9204,
          1688,
          6706,
          4745,
          170,
          4075,
          4996,
          4211,
          1563,
          4016,
          317,
          2700000,
          2021,
          204,
          239,
          1697,
          5029,
          5596,
          1578,
          6299,
          3100000,
          6228,
          1000000,
          205,
          2539,
          6441,
          4794,
          3416,
          435,
          589,
          7075,
          334,
          632,
          7737,
          238,
          5575,
          4285,
          2454,
          182,
          6726,
          3861,
          2158,
          6823,
          1509,
          1500000,
          1800000,
          1848,
          1855,
          6239,
          2526,
          1900000,
          1334,
          1908,
          1200000,
          1492,
          1747,
          2252,
          1745,
          3312,
          3106,
          424,
          3337,
          2358,
          2281,
          3001,
          1995,
          406,
          9433,
          1587,
          1700000,
          1426,
          167,
          694,
          2274,
          7223,
          5765,
          5945,
          1807,
          2372,
          4323,
          6953,
          4076,
          6431,
          4363,
          2076,
          2113,
          2852,
          4095,
          5588,
          6852,
          1352,
          1874,
          1925,
          609,
          1798,
          1772,
          2514,
          2159,
          4645,
          1453,
          2724,
          1982,
          3644,
          3828,
          3441,
          2236,
          1735,
          7647,
          6861,
          2000000,
          2967,
          1556,
          1200000,
          7578,
          1783,
          1597,
          1902,
          2300000,
          3588,
          1200000,
          5484,
          8449,
          8553,
          5443,
          7487,
          2907,
          1608,
          184,
          3565,
          1374,
          3145,
          1349,
          2037,
          2195,
          304,
          428,
          889,
          3674,
          3808,
          330,
          5134,
          3836,
          6211,
          2115,
          2092,
          3608,
          1332,
          1413,
          3726,
          1228,
          1255,
          1291,
          921,
          1776,
          2101,
          1099,
          168,
          1959,
          1214,
          3785,
          3624,
          4689,
          3607,
          1477,
          4744,
          2031,
          2716,
          2723,
          1469,
          2675,
          4452,
          4177,
          704,
          5324,
          6657,
          1069,
          1252,
          5838,
          3533,
          199,
          3471,
          2522,
          166,
          4545,
          2068,
          1125,
          1118,
          1391,
          1724,
          8228,
          1283,
          2961,
          1775,
          2228,
          2199,
          1343,
          3508,
          5501,
          1456,
          2901,
          2493,
          1499,
          4877,
          1100000,
          1414,
          5886,
          1566,
          3207,
          500,
          2017,
          2171,
          1500000,
          4711,
          6372,
          7159,
          6002,
          7777,
          3875,
          1926,
          4992,
          5402,
          2300000,
          2201,
          1299,
          1881,
          173,
          1500000,
          120,
          5377,
          131,
          1162,
          2000000,
          1406,
          1188,
          1064,
          135,
          2504,
          1192,
          115,
          1083,
          1882,
          4144,
          1711,
          1336,
          4532,
          126,
          4036,
          1387,
          2959,
          2485,
          114,
          2278,
          1200000,
          7014,
          3947,
          4898,
          1222,
          217,
          359,
          1236,
          1205,
          1377,
          1665,
          2206,
          146,
          2149,
          137,
          4388,
          2695,
          1573,
          1294,
          5291,
          1406,
          3634,
          9551,
          1461,
          3143,
          1338,
          5208,
          3238,
          1317,
          1411,
          1255,
          3378,
          4602,
          1900000,
          4283,
          1449,
          1483,
          1882,
          1642,
          1487,
          136,
          1344,
          8963,
          4727,
          2226,
          2444,
          819,
          1300000,
          821,
          1802,
          1725,
          3506,
          5835,
          2500000,
          2084,
          2067,
          2105,
          2267,
          2381,
          2592,
          2753,
          3537,
          3353,
          411,
          397,
          4652,
          5214,
          5927,
          7638,
          9013,
          1300000,
          2400000
         ],
         "yaxis": "y"
        }
       ],
       "layout": {
        "legend": {
         "tracegroupgap": 0
        },
        "margin": {
         "t": 60
        },
        "template": {
         "data": {
          "bar": [
           {
            "error_x": {
             "color": "#2a3f5f"
            },
            "error_y": {
             "color": "#2a3f5f"
            },
            "marker": {
             "line": {
              "color": "#E5ECF6",
              "width": 0.5
             },
             "pattern": {
              "fillmode": "overlay",
              "size": 10,
              "solidity": 0.2
             }
            },
            "type": "bar"
           }
          ],
          "barpolar": [
           {
            "marker": {
             "line": {
              "color": "#E5ECF6",
              "width": 0.5
             },
             "pattern": {
              "fillmode": "overlay",
              "size": 10,
              "solidity": 0.2
             }
            },
            "type": "barpolar"
           }
          ],
          "carpet": [
           {
            "aaxis": {
             "endlinecolor": "#2a3f5f",
             "gridcolor": "white",
             "linecolor": "white",
             "minorgridcolor": "white",
             "startlinecolor": "#2a3f5f"
            },
            "baxis": {
             "endlinecolor": "#2a3f5f",
             "gridcolor": "white",
             "linecolor": "white",
             "minorgridcolor": "white",
             "startlinecolor": "#2a3f5f"
            },
            "type": "carpet"
           }
          ],
          "choropleth": [
           {
            "colorbar": {
             "outlinewidth": 0,
             "ticks": ""
            },
            "type": "choropleth"
           }
          ],
          "contour": [
           {
            "colorbar": {
             "outlinewidth": 0,
             "ticks": ""
            },
            "colorscale": [
             [
              0,
              "#0d0887"
             ],
             [
              0.1111111111111111,
              "#46039f"
             ],
             [
              0.2222222222222222,
              "#7201a8"
             ],
             [
              0.3333333333333333,
              "#9c179e"
             ],
             [
              0.4444444444444444,
              "#bd3786"
             ],
             [
              0.5555555555555556,
              "#d8576b"
             ],
             [
              0.6666666666666666,
              "#ed7953"
             ],
             [
              0.7777777777777778,
              "#fb9f3a"
             ],
             [
              0.8888888888888888,
              "#fdca26"
             ],
             [
              1,
              "#f0f921"
             ]
            ],
            "type": "contour"
           }
          ],
          "contourcarpet": [
           {
            "colorbar": {
             "outlinewidth": 0,
             "ticks": ""
            },
            "type": "contourcarpet"
           }
          ],
          "heatmap": [
           {
            "colorbar": {
             "outlinewidth": 0,
             "ticks": ""
            },
            "colorscale": [
             [
              0,
              "#0d0887"
             ],
             [
              0.1111111111111111,
              "#46039f"
             ],
             [
              0.2222222222222222,
              "#7201a8"
             ],
             [
              0.3333333333333333,
              "#9c179e"
             ],
             [
              0.4444444444444444,
              "#bd3786"
             ],
             [
              0.5555555555555556,
              "#d8576b"
             ],
             [
              0.6666666666666666,
              "#ed7953"
             ],
             [
              0.7777777777777778,
              "#fb9f3a"
             ],
             [
              0.8888888888888888,
              "#fdca26"
             ],
             [
              1,
              "#f0f921"
             ]
            ],
            "type": "heatmap"
           }
          ],
          "heatmapgl": [
           {
            "colorbar": {
             "outlinewidth": 0,
             "ticks": ""
            },
            "colorscale": [
             [
              0,
              "#0d0887"
             ],
             [
              0.1111111111111111,
              "#46039f"
             ],
             [
              0.2222222222222222,
              "#7201a8"
             ],
             [
              0.3333333333333333,
              "#9c179e"
             ],
             [
              0.4444444444444444,
              "#bd3786"
             ],
             [
              0.5555555555555556,
              "#d8576b"
             ],
             [
              0.6666666666666666,
              "#ed7953"
             ],
             [
              0.7777777777777778,
              "#fb9f3a"
             ],
             [
              0.8888888888888888,
              "#fdca26"
             ],
             [
              1,
              "#f0f921"
             ]
            ],
            "type": "heatmapgl"
           }
          ],
          "histogram": [
           {
            "marker": {
             "pattern": {
              "fillmode": "overlay",
              "size": 10,
              "solidity": 0.2
             }
            },
            "type": "histogram"
           }
          ],
          "histogram2d": [
           {
            "colorbar": {
             "outlinewidth": 0,
             "ticks": ""
            },
            "colorscale": [
             [
              0,
              "#0d0887"
             ],
             [
              0.1111111111111111,
              "#46039f"
             ],
             [
              0.2222222222222222,
              "#7201a8"
             ],
             [
              0.3333333333333333,
              "#9c179e"
             ],
             [
              0.4444444444444444,
              "#bd3786"
             ],
             [
              0.5555555555555556,
              "#d8576b"
             ],
             [
              0.6666666666666666,
              "#ed7953"
             ],
             [
              0.7777777777777778,
              "#fb9f3a"
             ],
             [
              0.8888888888888888,
              "#fdca26"
             ],
             [
              1,
              "#f0f921"
             ]
            ],
            "type": "histogram2d"
           }
          ],
          "histogram2dcontour": [
           {
            "colorbar": {
             "outlinewidth": 0,
             "ticks": ""
            },
            "colorscale": [
             [
              0,
              "#0d0887"
             ],
             [
              0.1111111111111111,
              "#46039f"
             ],
             [
              0.2222222222222222,
              "#7201a8"
             ],
             [
              0.3333333333333333,
              "#9c179e"
             ],
             [
              0.4444444444444444,
              "#bd3786"
             ],
             [
              0.5555555555555556,
              "#d8576b"
             ],
             [
              0.6666666666666666,
              "#ed7953"
             ],
             [
              0.7777777777777778,
              "#fb9f3a"
             ],
             [
              0.8888888888888888,
              "#fdca26"
             ],
             [
              1,
              "#f0f921"
             ]
            ],
            "type": "histogram2dcontour"
           }
          ],
          "mesh3d": [
           {
            "colorbar": {
             "outlinewidth": 0,
             "ticks": ""
            },
            "type": "mesh3d"
           }
          ],
          "parcoords": [
           {
            "line": {
             "colorbar": {
              "outlinewidth": 0,
              "ticks": ""
             }
            },
            "type": "parcoords"
           }
          ],
          "pie": [
           {
            "automargin": true,
            "type": "pie"
           }
          ],
          "scatter": [
           {
            "fillpattern": {
             "fillmode": "overlay",
             "size": 10,
             "solidity": 0.2
            },
            "type": "scatter"
           }
          ],
          "scatter3d": [
           {
            "line": {
             "colorbar": {
              "outlinewidth": 0,
              "ticks": ""
             }
            },
            "marker": {
             "colorbar": {
              "outlinewidth": 0,
              "ticks": ""
             }
            },
            "type": "scatter3d"
           }
          ],
          "scattercarpet": [
           {
            "marker": {
             "colorbar": {
              "outlinewidth": 0,
              "ticks": ""
             }
            },
            "type": "scattercarpet"
           }
          ],
          "scattergeo": [
           {
            "marker": {
             "colorbar": {
              "outlinewidth": 0,
              "ticks": ""
             }
            },
            "type": "scattergeo"
           }
          ],
          "scattergl": [
           {
            "marker": {
             "colorbar": {
              "outlinewidth": 0,
              "ticks": ""
             }
            },
            "type": "scattergl"
           }
          ],
          "scattermapbox": [
           {
            "marker": {
             "colorbar": {
              "outlinewidth": 0,
              "ticks": ""
             }
            },
            "type": "scattermapbox"
           }
          ],
          "scatterpolar": [
           {
            "marker": {
             "colorbar": {
              "outlinewidth": 0,
              "ticks": ""
             }
            },
            "type": "scatterpolar"
           }
          ],
          "scatterpolargl": [
           {
            "marker": {
             "colorbar": {
              "outlinewidth": 0,
              "ticks": ""
             }
            },
            "type": "scatterpolargl"
           }
          ],
          "scatterternary": [
           {
            "marker": {
             "colorbar": {
              "outlinewidth": 0,
              "ticks": ""
             }
            },
            "type": "scatterternary"
           }
          ],
          "surface": [
           {
            "colorbar": {
             "outlinewidth": 0,
             "ticks": ""
            },
            "colorscale": [
             [
              0,
              "#0d0887"
             ],
             [
              0.1111111111111111,
              "#46039f"
             ],
             [
              0.2222222222222222,
              "#7201a8"
             ],
             [
              0.3333333333333333,
              "#9c179e"
             ],
             [
              0.4444444444444444,
              "#bd3786"
             ],
             [
              0.5555555555555556,
              "#d8576b"
             ],
             [
              0.6666666666666666,
              "#ed7953"
             ],
             [
              0.7777777777777778,
              "#fb9f3a"
             ],
             [
              0.8888888888888888,
              "#fdca26"
             ],
             [
              1,
              "#f0f921"
             ]
            ],
            "type": "surface"
           }
          ],
          "table": [
           {
            "cells": {
             "fill": {
              "color": "#EBF0F8"
             },
             "line": {
              "color": "white"
             }
            },
            "header": {
             "fill": {
              "color": "#C8D4E3"
             },
             "line": {
              "color": "white"
             }
            },
            "type": "table"
           }
          ]
         },
         "layout": {
          "annotationdefaults": {
           "arrowcolor": "#2a3f5f",
           "arrowhead": 0,
           "arrowwidth": 1
          },
          "autotypenumbers": "strict",
          "coloraxis": {
           "colorbar": {
            "outlinewidth": 0,
            "ticks": ""
           }
          },
          "colorscale": {
           "diverging": [
            [
             0,
             "#8e0152"
            ],
            [
             0.1,
             "#c51b7d"
            ],
            [
             0.2,
             "#de77ae"
            ],
            [
             0.3,
             "#f1b6da"
            ],
            [
             0.4,
             "#fde0ef"
            ],
            [
             0.5,
             "#f7f7f7"
            ],
            [
             0.6,
             "#e6f5d0"
            ],
            [
             0.7,
             "#b8e186"
            ],
            [
             0.8,
             "#7fbc41"
            ],
            [
             0.9,
             "#4d9221"
            ],
            [
             1,
             "#276419"
            ]
           ],
           "sequential": [
            [
             0,
             "#0d0887"
            ],
            [
             0.1111111111111111,
             "#46039f"
            ],
            [
             0.2222222222222222,
             "#7201a8"
            ],
            [
             0.3333333333333333,
             "#9c179e"
            ],
            [
             0.4444444444444444,
             "#bd3786"
            ],
            [
             0.5555555555555556,
             "#d8576b"
            ],
            [
             0.6666666666666666,
             "#ed7953"
            ],
            [
             0.7777777777777778,
             "#fb9f3a"
            ],
            [
             0.8888888888888888,
             "#fdca26"
            ],
            [
             1,
             "#f0f921"
            ]
           ],
           "sequentialminus": [
            [
             0,
             "#0d0887"
            ],
            [
             0.1111111111111111,
             "#46039f"
            ],
            [
             0.2222222222222222,
             "#7201a8"
            ],
            [
             0.3333333333333333,
             "#9c179e"
            ],
            [
             0.4444444444444444,
             "#bd3786"
            ],
            [
             0.5555555555555556,
             "#d8576b"
            ],
            [
             0.6666666666666666,
             "#ed7953"
            ],
            [
             0.7777777777777778,
             "#fb9f3a"
            ],
            [
             0.8888888888888888,
             "#fdca26"
            ],
            [
             1,
             "#f0f921"
            ]
           ]
          },
          "colorway": [
           "#636efa",
           "#EF553B",
           "#00cc96",
           "#ab63fa",
           "#FFA15A",
           "#19d3f3",
           "#FF6692",
           "#B6E880",
           "#FF97FF",
           "#FECB52"
          ],
          "font": {
           "color": "#2a3f5f"
          },
          "geo": {
           "bgcolor": "white",
           "lakecolor": "white",
           "landcolor": "#E5ECF6",
           "showlakes": true,
           "showland": true,
           "subunitcolor": "white"
          },
          "hoverlabel": {
           "align": "left"
          },
          "hovermode": "closest",
          "mapbox": {
           "style": "light"
          },
          "paper_bgcolor": "white",
          "plot_bgcolor": "#E5ECF6",
          "polar": {
           "angularaxis": {
            "gridcolor": "white",
            "linecolor": "white",
            "ticks": ""
           },
           "bgcolor": "#E5ECF6",
           "radialaxis": {
            "gridcolor": "white",
            "linecolor": "white",
            "ticks": ""
           }
          },
          "scene": {
           "xaxis": {
            "backgroundcolor": "#E5ECF6",
            "gridcolor": "white",
            "gridwidth": 2,
            "linecolor": "white",
            "showbackground": true,
            "ticks": "",
            "zerolinecolor": "white"
           },
           "yaxis": {
            "backgroundcolor": "#E5ECF6",
            "gridcolor": "white",
            "gridwidth": 2,
            "linecolor": "white",
            "showbackground": true,
            "ticks": "",
            "zerolinecolor": "white"
           },
           "zaxis": {
            "backgroundcolor": "#E5ECF6",
            "gridcolor": "white",
            "gridwidth": 2,
            "linecolor": "white",
            "showbackground": true,
            "ticks": "",
            "zerolinecolor": "white"
           }
          },
          "shapedefaults": {
           "line": {
            "color": "#2a3f5f"
           }
          },
          "ternary": {
           "aaxis": {
            "gridcolor": "white",
            "linecolor": "white",
            "ticks": ""
           },
           "baxis": {
            "gridcolor": "white",
            "linecolor": "white",
            "ticks": ""
           },
           "bgcolor": "#E5ECF6",
           "caxis": {
            "gridcolor": "white",
            "linecolor": "white",
            "ticks": ""
           }
          },
          "title": {
           "x": 0.05
          },
          "xaxis": {
           "automargin": true,
           "gridcolor": "white",
           "linecolor": "white",
           "ticks": "",
           "title": {
            "standoff": 15
           },
           "zerolinecolor": "white",
           "zerolinewidth": 2
          },
          "yaxis": {
           "automargin": true,
           "gridcolor": "white",
           "linecolor": "white",
           "ticks": "",
           "title": {
            "standoff": 15
           },
           "zerolinecolor": "white",
           "zerolinewidth": 2
          }
         }
        },
        "xaxis": {
         "anchor": "y",
         "domain": [
          0,
          1
         ],
         "title": {
          "text": "created_at"
         }
        },
        "yaxis": {
         "anchor": "x",
         "domain": [
          0,
          1
         ],
         "title": {
          "text": "views"
         }
        }
       }
      }
     },
     "metadata": {},
     "output_type": "display_data"
    }
   ],
   "source": [
    "average_views = df.groupby('created_at')['views'].mean().reset_index()\n",
    "\n",
    "sorted_duration = average_views.sort_values('views', ascending=False)\n",
    "\n",
    "fig = px.line(df, x='created_at', y=\"views\")\n",
    "fig.show()\n"
   ]
  },
  {
   "cell_type": "code",
   "execution_count": null,
   "metadata": {},
   "outputs": [],
   "source": []
  }
 ],
 "metadata": {
  "kernelspec": {
   "display_name": "venv",
   "language": "python",
   "name": "python3"
  },
  "language_info": {
   "codemirror_mode": {
    "name": "ipython",
    "version": 3
   },
   "file_extension": ".py",
   "mimetype": "text/x-python",
   "name": "python",
   "nbconvert_exporter": "python",
   "pygments_lexer": "ipython3",
   "version": "3.11.1"
  },
  "orig_nbformat": 4
 },
 "nbformat": 4,
 "nbformat_minor": 2
}
